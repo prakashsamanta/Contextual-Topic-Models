{
 "cells": [
  {
   "cell_type": "markdown",
   "metadata": {},
   "source": [
    "# Importing some useful libraries"
   ]
  },
  {
   "cell_type": "code",
   "execution_count": 1,
   "metadata": {},
   "outputs": [],
   "source": [
    "import numpy as np\n",
    "import pandas as pd\n",
    "import matplotlib.pyplot as plt\n",
    "import seaborn as sns"
   ]
  },
  {
   "cell_type": "markdown",
   "metadata": {},
   "source": [
    "# Reading Dataset from HuggingFace"
   ]
  },
  {
   "cell_type": "code",
   "execution_count": 2,
   "metadata": {},
   "outputs": [],
   "source": [
    "from datasets import load_dataset"
   ]
  },
  {
   "cell_type": "code",
   "execution_count": 3,
   "metadata": {
    "scrolled": true
   },
   "outputs": [
    {
     "name": "stderr",
     "output_type": "stream",
     "text": [
      "Using custom data configuration SetFit--20_newsgroups-f9362e018b6adf67\n",
      "Found cached dataset json (/home/sysadm/.cache/huggingface/datasets/SetFit___json/SetFit--20_newsgroups-f9362e018b6adf67/0.0.0/e6070c77f18f01a5ad4551a8b7edfba20b8438b7cad4d94e6ad9378022ce4aab)\n"
     ]
    },
    {
     "data": {
      "application/vnd.jupyter.widget-view+json": {
       "model_id": "83ac3d97f7e44df9a40e0b30bad4fdcc",
       "version_major": 2,
       "version_minor": 0
      },
      "text/plain": [
       "  0%|          | 0/2 [00:00<?, ?it/s]"
      ]
     },
     "metadata": {},
     "output_type": "display_data"
    }
   ],
   "source": [
    "dataset = load_dataset('SetFit/20_newsgroups')"
   ]
  },
  {
   "cell_type": "code",
   "execution_count": 4,
   "metadata": {},
   "outputs": [
    {
     "data": {
      "text/plain": [
       "DatasetDict({\n",
       "    train: Dataset({\n",
       "        features: ['text', 'label', 'label_text'],\n",
       "        num_rows: 11314\n",
       "    })\n",
       "    test: Dataset({\n",
       "        features: ['text', 'label', 'label_text'],\n",
       "        num_rows: 7532\n",
       "    })\n",
       "})"
      ]
     },
     "execution_count": 4,
     "metadata": {},
     "output_type": "execute_result"
    }
   ],
   "source": [
    "dataset"
   ]
  },
  {
   "cell_type": "code",
   "execution_count": 5,
   "metadata": {
    "scrolled": true
   },
   "outputs": [
    {
     "data": {
      "text/plain": [
       "datasets.dataset_dict.DatasetDict"
      ]
     },
     "execution_count": 5,
     "metadata": {},
     "output_type": "execute_result"
    }
   ],
   "source": [
    "type(dataset)"
   ]
  },
  {
   "cell_type": "markdown",
   "metadata": {},
   "source": [
    "# Sample Data"
   ]
  },
  {
   "cell_type": "code",
   "execution_count": 6,
   "metadata": {
    "scrolled": true
   },
   "outputs": [
    {
     "data": {
      "text/plain": [
       "{'text': 'I was wondering if anyone out there could enlighten me on this car I saw\\nthe other day. It was a 2-door sports car, looked to be from the late 60s/\\nearly 70s. It was called a Bricklin. The doors were really small. In addition,\\nthe front bumper was separate from the rest of the body. This is \\nall I know. If anyone can tellme a model name, engine specs, years\\nof production, where this car is made, history, or whatever info you\\nhave on this funky looking car, please e-mail.',\n",
       " 'label': 7,\n",
       " 'label_text': 'rec.autos'}"
      ]
     },
     "execution_count": 6,
     "metadata": {},
     "output_type": "execute_result"
    }
   ],
   "source": [
    "dataset['train'][0]"
   ]
  },
  {
   "cell_type": "markdown",
   "metadata": {},
   "source": [
    "# Checking number of instances of train and test"
   ]
  },
  {
   "cell_type": "code",
   "execution_count": 7,
   "metadata": {},
   "outputs": [
    {
     "data": {
      "text/plain": [
       "11314"
      ]
     },
     "execution_count": 7,
     "metadata": {},
     "output_type": "execute_result"
    }
   ],
   "source": [
    "len(dataset['train'])"
   ]
  },
  {
   "cell_type": "code",
   "execution_count": 8,
   "metadata": {},
   "outputs": [
    {
     "data": {
      "text/plain": [
       "7532"
      ]
     },
     "execution_count": 8,
     "metadata": {},
     "output_type": "execute_result"
    }
   ],
   "source": [
    "len(dataset['test'])"
   ]
  },
  {
   "cell_type": "markdown",
   "metadata": {},
   "source": [
    "# Creating Train and Test Data"
   ]
  },
  {
   "cell_type": "code",
   "execution_count": 9,
   "metadata": {},
   "outputs": [],
   "source": [
    "documents_train = []\n",
    "\n",
    "for i in range(len(dataset['train'])):\n",
    "    documents_train.append(dataset['train'][i]['text'])"
   ]
  },
  {
   "cell_type": "code",
   "execution_count": 10,
   "metadata": {
    "scrolled": true
   },
   "outputs": [
    {
     "data": {
      "text/plain": [
       "'I was wondering if anyone out there could enlighten me on this car I saw\\nthe other day. It was a 2-door sports car, looked to be from the late 60s/\\nearly 70s. It was called a Bricklin. The doors were really small. In addition,\\nthe front bumper was separate from the rest of the body. This is \\nall I know. If anyone can tellme a model name, engine specs, years\\nof production, where this car is made, history, or whatever info you\\nhave on this funky looking car, please e-mail.'"
      ]
     },
     "execution_count": 10,
     "metadata": {},
     "output_type": "execute_result"
    }
   ],
   "source": [
    "dataset['train'][0]['text']"
   ]
  },
  {
   "cell_type": "code",
   "execution_count": 11,
   "metadata": {},
   "outputs": [
    {
     "data": {
      "text/plain": [
       "'I was wondering if anyone out there could enlighten me on this car I saw\\nthe other day. It was a 2-door sports car, looked to be from the late 60s/\\nearly 70s. It was called a Bricklin. The doors were really small. In addition,\\nthe front bumper was separate from the rest of the body. This is \\nall I know. If anyone can tellme a model name, engine specs, years\\nof production, where this car is made, history, or whatever info you\\nhave on this funky looking car, please e-mail.'"
      ]
     },
     "execution_count": 11,
     "metadata": {},
     "output_type": "execute_result"
    }
   ],
   "source": [
    "documents_train[0]"
   ]
  },
  {
   "cell_type": "code",
   "execution_count": 12,
   "metadata": {},
   "outputs": [],
   "source": [
    "documents_test = []\n",
    "\n",
    "for i in range(len(dataset['test'])):\n",
    "    documents_test.append(dataset['test'][i]['text'])"
   ]
  },
  {
   "cell_type": "code",
   "execution_count": 13,
   "metadata": {},
   "outputs": [
    {
     "data": {
      "text/plain": [
       "'I am a little confused on all of the models of the 88-89 bonnevilles.\\nI have heard of the LE SE LSE SSE SSEI. Could someone tell me the\\ndifferences are far as features or performance. I am also curious to\\nknow what the book value is for prefereably the 89 model. And how much\\nless than book value can you usually get them for. In other words how\\nmuch are they in demand this time of year. I have heard that the mid-spring\\nearly summer is the best time to buy.'"
      ]
     },
     "execution_count": 13,
     "metadata": {},
     "output_type": "execute_result"
    }
   ],
   "source": [
    "documents_test[0]"
   ]
  },
  {
   "cell_type": "code",
   "execution_count": 14,
   "metadata": {
    "scrolled": true
   },
   "outputs": [
    {
     "data": {
      "text/plain": [
       "11314"
      ]
     },
     "execution_count": 14,
     "metadata": {},
     "output_type": "execute_result"
    }
   ],
   "source": [
    "len(documents_train)"
   ]
  },
  {
   "cell_type": "code",
   "execution_count": 15,
   "metadata": {},
   "outputs": [
    {
     "data": {
      "text/plain": [
       "7532"
      ]
     },
     "execution_count": 15,
     "metadata": {},
     "output_type": "execute_result"
    }
   ],
   "source": [
    "len(documents_test)"
   ]
  },
  {
   "cell_type": "markdown",
   "metadata": {},
   "source": [
    "# Importing what we need"
   ]
  },
  {
   "cell_type": "code",
   "execution_count": 16,
   "metadata": {
    "scrolled": true
   },
   "outputs": [],
   "source": [
    "from contextualized_topic_models.models.ctm import CombinedTM\n",
    "from contextualized_topic_models.utils.data_preparation import TopicModelDataPreparation\n",
    "from contextualized_topic_models.utils.preprocessing import WhiteSpacePreprocessingStopwords\n",
    "import nltk"
   ]
  },
  {
   "cell_type": "markdown",
   "metadata": {},
   "source": [
    "# Preprocessing"
   ]
  },
  {
   "cell_type": "code",
   "execution_count": 17,
   "metadata": {},
   "outputs": [],
   "source": [
    "from nltk.corpus import stopwords as stop_words"
   ]
  },
  {
   "cell_type": "code",
   "execution_count": 18,
   "metadata": {},
   "outputs": [
    {
     "name": "stdout",
     "output_type": "stream",
     "text": [
      "[nltk_data] Downloading package stopwords to /home/sysadm/nltk_data...\n",
      "[nltk_data]   Package stopwords is already up-to-date!\n"
     ]
    },
    {
     "data": {
      "text/plain": [
       "True"
      ]
     },
     "execution_count": 18,
     "metadata": {},
     "output_type": "execute_result"
    }
   ],
   "source": [
    "nltk.download('stopwords')"
   ]
  },
  {
   "cell_type": "code",
   "execution_count": 19,
   "metadata": {},
   "outputs": [],
   "source": [
    "stopwords = list(stop_words.words(\"english\"))"
   ]
  },
  {
   "cell_type": "markdown",
   "metadata": {},
   "source": [
    "# Building the Model"
   ]
  },
  {
   "cell_type": "code",
   "execution_count": 20,
   "metadata": {},
   "outputs": [],
   "source": [
    "sp = WhiteSpacePreprocessingStopwords(documents_train, stopwords_list=stopwords)"
   ]
  },
  {
   "cell_type": "code",
   "execution_count": 21,
   "metadata": {},
   "outputs": [],
   "source": [
    "sp_test = WhiteSpacePreprocessingStopwords(documents_test, stopwords_list=stopwords)"
   ]
  },
  {
   "cell_type": "code",
   "execution_count": 22,
   "metadata": {
    "scrolled": true
   },
   "outputs": [
    {
     "name": "stderr",
     "output_type": "stream",
     "text": [
      "/home/sysadm/anaconda3/lib/python3.9/site-packages/sklearn/utils/deprecation.py:87: FutureWarning: Function get_feature_names is deprecated; get_feature_names is deprecated in 1.0 and will be removed in 1.2. Please use get_feature_names_out instead.\n",
      "  warnings.warn(msg, category=FutureWarning)\n"
     ]
    }
   ],
   "source": [
    "preprocessed_documents, unpreprocessed_corpus, vocab, retained_indices = sp.preprocess()"
   ]
  },
  {
   "cell_type": "code",
   "execution_count": 23,
   "metadata": {},
   "outputs": [],
   "source": [
    "preprocessed_documents_test, unpreprocessed_corpus_test, vocab_test, retained_indices_test = sp_test.preprocess()"
   ]
  },
  {
   "cell_type": "markdown",
   "metadata": {},
   "source": [
    "# 1. Using \"all-mpnet-base-v2\" as PLM"
   ]
  },
  {
   "cell_type": "code",
   "execution_count": 24,
   "metadata": {},
   "outputs": [],
   "source": [
    "tpa = TopicModelDataPreparation(\"all-mpnet-base-v2\")"
   ]
  },
  {
   "cell_type": "markdown",
   "metadata": {},
   "source": [
    "# train data"
   ]
  },
  {
   "cell_type": "code",
   "execution_count": 25,
   "metadata": {},
   "outputs": [
    {
     "name": "stderr",
     "output_type": "stream",
     "text": [
      "/home/sysadm/anaconda3/lib/python3.9/site-packages/contextualized_topic_models/utils/data_preparation.py:57: UserWarning: the longest document in your collection has 11765 words, the model instead truncates to 128 tokens.\n",
      "  warnings.warn(f\"the longest document in your collection has {max_local_length} words, the model instead \"\n"
     ]
    },
    {
     "data": {
      "application/vnd.jupyter.widget-view+json": {
       "model_id": "b0681cc0ea1c4c948b5766668ffa57c0",
       "version_major": 2,
       "version_minor": 0
      },
      "text/plain": [
       "Batches:   0%|          | 0/55 [00:00<?, ?it/s]"
      ]
     },
     "metadata": {},
     "output_type": "display_data"
    },
    {
     "name": "stderr",
     "output_type": "stream",
     "text": [
      "/home/sysadm/anaconda3/lib/python3.9/site-packages/sklearn/utils/deprecation.py:87: FutureWarning: Function get_feature_names is deprecated; get_feature_names is deprecated in 1.0 and will be removed in 1.2. Please use get_feature_names_out instead.\n",
      "  warnings.warn(msg, category=FutureWarning)\n"
     ]
    }
   ],
   "source": [
    "training_dataset1=tpa.fit(text_for_contextual=unpreprocessed_corpus, text_for_bow=preprocessed_documents)"
   ]
  },
  {
   "cell_type": "code",
   "execution_count": 26,
   "metadata": {},
   "outputs": [],
   "source": [
    "ctma1 = CombinedTM(bow_size=len(tpa.vocab), contextual_size=768, model_type='prodLDA',\n",
    "                  dropout=0.2, batch_size=32, lr=0.01, solver='adam',\n",
    "                  n_components=10, num_epochs=100)\n",
    "ctma2 = CombinedTM(bow_size=len(tpa.vocab), contextual_size=768, model_type='prodLDA',\n",
    "                  dropout=0.2, batch_size=32, lr=0.01, solver='adam',\n",
    "                  n_components=20, num_epochs=100)\n",
    "ctma3 = CombinedTM(bow_size=len(tpa.vocab), contextual_size=768, model_type='prodLDA',\n",
    "                  dropout=0.2, batch_size=32, lr=0.01, solver='adam',\n",
    "                  n_components=30, num_epochs=100)\n",
    "ctma4 = CombinedTM(bow_size=len(tpa.vocab), contextual_size=768, model_type='prodLDA',\n",
    "                  dropout=0.2, batch_size=32, lr=0.01, solver='adam',\n",
    "                  n_components=50, num_epochs=100)\n",
    "ctma5 = CombinedTM(bow_size=len(tpa.vocab), contextual_size=768, model_type='prodLDA',\n",
    "                  dropout=0.2, batch_size=32, lr=0.01, solver='adam',\n",
    "                  n_components=100, num_epochs=100)"
   ]
  },
  {
   "cell_type": "code",
   "execution_count": 27,
   "metadata": {},
   "outputs": [
    {
     "name": "stderr",
     "output_type": "stream",
     "text": [
      "Epoch: [100/100]\t Seen Samples: [1094400/1095100]\tTrain Loss: 471.68380973771303\tTime: 0:00:11.901878: : 100it [20:41, 12.41s/it]\n",
      "Sampling: [20/20]: : 20it [01:45,  5.26s/it]\n",
      "Epoch: [100/100]\t Seen Samples: [1094400/1095100]\tTrain Loss: 457.1537329244335\tTime: 0:00:11.702940: : 100it [20:21, 12.21s/it]\n",
      "Sampling: [20/20]: : 20it [01:31,  4.57s/it]\n",
      "Epoch: [100/100]\t Seen Samples: [1094400/1095100]\tTrain Loss: 453.359926368758\tTime: 0:00:13.124521: : 100it [20:41, 12.41s/it]\n",
      "Sampling: [20/20]: : 20it [01:33,  4.67s/it]\n",
      "Epoch: [100/100]\t Seen Samples: [1094400/1095100]\tTrain Loss: 456.4133902209544\tTime: 0:00:13.825408: : 100it [20:05, 12.06s/it]\n",
      "Sampling: [20/20]: : 20it [01:40,  5.02s/it]\n",
      "Epoch: [100/100]\t Seen Samples: [1094400/1095100]\tTrain Loss: 472.17182409275347\tTime: 0:00:13.018097: : 100it [21:40, 13.01s/it]\n",
      "Sampling: [20/20]: : 20it [01:39,  4.97s/it]\n"
     ]
    }
   ],
   "source": [
    "ctma1.fit(training_dataset1)\n",
    "ctma2.fit(training_dataset1) \n",
    "ctma3.fit(training_dataset1)\n",
    "ctma4.fit(training_dataset1)\n",
    "ctma5.fit(training_dataset1)"
   ]
  },
  {
   "cell_type": "code",
   "execution_count": 28,
   "metadata": {},
   "outputs": [
    {
     "name": "stderr",
     "output_type": "stream",
     "text": [
      "/home/sysadm/anaconda3/lib/python3.9/site-packages/contextualized_topic_models/models/ctm.py:473: Warning: This is an experimental feature that we has not been fully tested. Refer to the following issue:https://github.com/MilaNLProc/contextualized-topic-models/issues/38\n",
      "  warnings.warn(\"This is an experimental feature that we has not been fully tested. Refer to the following issue:\"\n",
      "/home/sysadm/anaconda3/lib/python3.9/site-packages/contextualized_topic_models/models/ctm.py:473: Warning: This is an experimental feature that we has not been fully tested. Refer to the following issue:https://github.com/MilaNLProc/contextualized-topic-models/issues/38\n",
      "  warnings.warn(\"This is an experimental feature that we has not been fully tested. Refer to the following issue:\"\n",
      "/home/sysadm/anaconda3/lib/python3.9/site-packages/contextualized_topic_models/models/ctm.py:473: Warning: This is an experimental feature that we has not been fully tested. Refer to the following issue:https://github.com/MilaNLProc/contextualized-topic-models/issues/38\n",
      "  warnings.warn(\"This is an experimental feature that we has not been fully tested. Refer to the following issue:\"\n",
      "/home/sysadm/anaconda3/lib/python3.9/site-packages/contextualized_topic_models/models/ctm.py:473: Warning: This is an experimental feature that we has not been fully tested. Refer to the following issue:https://github.com/MilaNLProc/contextualized-topic-models/issues/38\n",
      "  warnings.warn(\"This is an experimental feature that we has not been fully tested. Refer to the following issue:\"\n",
      "/home/sysadm/anaconda3/lib/python3.9/site-packages/contextualized_topic_models/models/ctm.py:473: Warning: This is an experimental feature that we has not been fully tested. Refer to the following issue:https://github.com/MilaNLProc/contextualized-topic-models/issues/38\n",
      "  warnings.warn(\"This is an experimental feature that we has not been fully tested. Refer to the following issue:\"\n"
     ]
    }
   ],
   "source": [
    "ctma1.save(models_dir=\"./\")\n",
    "ctma2.save(models_dir=\"./\")\n",
    "ctma3.save(models_dir=\"./\")\n",
    "ctma4.save(models_dir=\"./\")\n",
    "ctma5.save(models_dir=\"./\")"
   ]
  },
  {
   "cell_type": "code",
   "execution_count": 29,
   "metadata": {},
   "outputs": [
    {
     "name": "stdout",
     "output_type": "stream",
     "text": [
      "Done\n"
     ]
    }
   ],
   "source": [
    "with open(r'preprocessed_documents.txt', 'w') as fp:\n",
    "    for item in preprocessed_documents:\n",
    "        # write each item on a new line\n",
    "        fp.write(\"%s\\n\" % item)\n",
    "    print('Done')"
   ]
  },
  {
   "cell_type": "code",
   "execution_count": 30,
   "metadata": {},
   "outputs": [],
   "source": [
    "from contextualized_topic_models.evaluation.measures import CoherenceNPMI\n",
    "from contextualized_topic_models.evaluation.measures import TopicDiversity"
   ]
  },
  {
   "cell_type": "code",
   "execution_count": 31,
   "metadata": {},
   "outputs": [],
   "source": [
    "with open('preprocessed_documents.txt', \"r\") as fr:\n",
    "    texts = [doc.split() for doc in fr.read().splitlines()] # load text for NPMI"
   ]
  },
  {
   "cell_type": "code",
   "execution_count": 32,
   "metadata": {},
   "outputs": [],
   "source": [
    "npmia1 = CoherenceNPMI(texts=texts, topics=ctma1.get_topic_lists(10)); a1 = npmia1.score(topk=10)\n",
    "npmia2 = CoherenceNPMI(texts=texts, topics=ctma2.get_topic_lists(10)); a2 = npmia2.score(topk=10)\n",
    "npmia3 = CoherenceNPMI(texts=texts, topics=ctma3.get_topic_lists(10)); a3 = npmia3.score(topk=10)\n",
    "npmia4 = CoherenceNPMI(texts=texts, topics=ctma4.get_topic_lists(10)); a4 = npmia4.score(topk=10)\n",
    "npmia5 = CoherenceNPMI(texts=texts, topics=ctma5.get_topic_lists(10)); a5 = npmia5.score(topk=10)"
   ]
  },
  {
   "cell_type": "code",
   "execution_count": 33,
   "metadata": {},
   "outputs": [
    {
     "name": "stdout",
     "output_type": "stream",
     "text": [
      "for 10 topics, the coherenceNPMI is 0.093948112630506\n",
      "for 20 topics, the coherenceNPMI is 0.14381568112958476\n",
      "for 30 topics, the coherenceNPMI is 0.08875009343743488\n",
      "for 50 topics, the coherenceNPMI is 0.08758038397742057\n",
      "for 100 topics, the coherenceNPMI is 0.09031225341990566\n"
     ]
    }
   ],
   "source": [
    "print(f\"for 10 topics, the coherenceNPMI is {a1}\")\n",
    "print(f\"for 20 topics, the coherenceNPMI is {a2}\")\n",
    "print(f\"for 30 topics, the coherenceNPMI is {a3}\")\n",
    "print(f\"for 50 topics, the coherenceNPMI is {a4}\")\n",
    "print(f\"for 100 topics, the coherenceNPMI is {a5}\")"
   ]
  },
  {
   "cell_type": "code",
   "execution_count": 34,
   "metadata": {},
   "outputs": [],
   "source": [
    "tda1 = TopicDiversity(topics=ctma1.get_topic_lists(10)); ta1 = tda1.score(topk=10)\n",
    "tda2 = TopicDiversity(topics=ctma2.get_topic_lists(10)); ta2 = tda2.score(topk=10)\n",
    "tda3 = TopicDiversity(topics=ctma3.get_topic_lists(10)); ta3 = tda3.score(topk=10)\n",
    "tda4 = TopicDiversity(topics=ctma4.get_topic_lists(10)); ta4 = tda4.score(topk=10)\n",
    "tda5 = TopicDiversity(topics=ctma5.get_topic_lists(10)); ta5 = tda5.score(topk=10)"
   ]
  },
  {
   "cell_type": "code",
   "execution_count": 35,
   "metadata": {},
   "outputs": [
    {
     "name": "stdout",
     "output_type": "stream",
     "text": [
      "for 10 topics, the TopicDiversity is 0.92\n",
      "for 20 topics, the TopicDiversity is 0.87\n",
      "for 30 topics, the TopicDiversity is 0.8333333333333334\n",
      "for 50 topics, the TopicDiversity is 0.77\n",
      "for 100 topics, the TopicDiversity is 0.582\n"
     ]
    }
   ],
   "source": [
    "print(f\"for 10 topics, the TopicDiversity is {ta1}\")\n",
    "print(f\"for 20 topics, the TopicDiversity is {ta2}\")\n",
    "print(f\"for 30 topics, the TopicDiversity is {ta3}\")\n",
    "print(f\"for 50 topics, the TopicDiversity is {ta4}\")\n",
    "print(f\"for 100 topics, the TopicDiversity is {ta5}\")"
   ]
  },
  {
   "cell_type": "markdown",
   "metadata": {},
   "source": [
    "# test data"
   ]
  },
  {
   "cell_type": "code",
   "execution_count": 36,
   "metadata": {
    "scrolled": true
   },
   "outputs": [
    {
     "name": "stderr",
     "output_type": "stream",
     "text": [
      "/home/sysadm/anaconda3/lib/python3.9/site-packages/contextualized_topic_models/utils/data_preparation.py:57: UserWarning: the longest document in your collection has 9507 words, the model instead truncates to 128 tokens.\n",
      "  warnings.warn(f\"the longest document in your collection has {max_local_length} words, the model instead \"\n"
     ]
    },
    {
     "data": {
      "application/vnd.jupyter.widget-view+json": {
       "model_id": "9e6567c8f3b84da18ef2e693a7b1be36",
       "version_major": 2,
       "version_minor": 0
      },
      "text/plain": [
       "Batches:   0%|          | 0/37 [00:00<?, ?it/s]"
      ]
     },
     "metadata": {},
     "output_type": "display_data"
    },
    {
     "name": "stderr",
     "output_type": "stream",
     "text": [
      "/home/sysadm/anaconda3/lib/python3.9/site-packages/sklearn/utils/deprecation.py:87: FutureWarning: Function get_feature_names is deprecated; get_feature_names is deprecated in 1.0 and will be removed in 1.2. Please use get_feature_names_out instead.\n",
      "  warnings.warn(msg, category=FutureWarning)\n"
     ]
    }
   ],
   "source": [
    "testing_dataset1=tpa.fit(text_for_contextual=unpreprocessed_corpus_test, text_for_bow=preprocessed_documents_test)"
   ]
  },
  {
   "cell_type": "code",
   "execution_count": 37,
   "metadata": {},
   "outputs": [
    {
     "name": "stderr",
     "output_type": "stream",
     "text": [
      "Epoch: [100/100]\t Seen Samples: [726400/726700]\tTrain Loss: 418.6281251613264\tTime: 0:00:07.695598: : 100it [13:22,  8.02s/it]\n",
      "Sampling: [20/20]: : 20it [01:06,  3.34s/it]\n",
      "Epoch: [100/100]\t Seen Samples: [726400/726700]\tTrain Loss: 420.32165977713294\tTime: 0:00:07.363344: : 100it [13:55,  8.35s/it]\n",
      "Sampling: [20/20]: : 20it [00:52,  2.65s/it]\n",
      "Epoch: [100/100]\t Seen Samples: [726400/726700]\tTrain Loss: 419.7162236957298\tTime: 0:00:08.618631: : 100it [13:49,  8.29s/it]\n",
      "Sampling: [20/20]: : 20it [01:09,  3.49s/it]\n",
      "Epoch: [100/100]\t Seen Samples: [726400/726700]\tTrain Loss: 423.52986420618805\tTime: 0:00:07.909379: : 100it [13:39,  8.19s/it]\n",
      "Sampling: [20/20]: : 20it [01:10,  3.51s/it]\n",
      "Epoch: [100/100]\t Seen Samples: [726400/726700]\tTrain Loss: 439.7070243264085\tTime: 0:00:09.180649: : 100it [14:39,  8.79s/it]\n",
      "Sampling: [20/20]: : 20it [01:15,  3.76s/it]\n"
     ]
    }
   ],
   "source": [
    "ctma1.fit(testing_dataset1)\n",
    "ctma2.fit(testing_dataset1) \n",
    "ctma3.fit(testing_dataset1)\n",
    "ctma4.fit(testing_dataset1)\n",
    "ctma5.fit(testing_dataset1)"
   ]
  },
  {
   "cell_type": "code",
   "execution_count": 38,
   "metadata": {},
   "outputs": [
    {
     "name": "stdout",
     "output_type": "stream",
     "text": [
      "Done\n"
     ]
    }
   ],
   "source": [
    "with open(r'preprocessed_documents_test.txt', 'w') as fp:\n",
    "    for item in preprocessed_documents_test:\n",
    "        # write each item on a new line\n",
    "        fp.write(\"%s\\n\" % item)\n",
    "    print('Done')"
   ]
  },
  {
   "cell_type": "code",
   "execution_count": 39,
   "metadata": {},
   "outputs": [],
   "source": [
    "with open('preprocessed_documents_test.txt', \"r\") as fr:\n",
    "    texts_test = [doc.split() for doc in fr.read().splitlines()] # load text for NPMI"
   ]
  },
  {
   "cell_type": "code",
   "execution_count": 40,
   "metadata": {},
   "outputs": [],
   "source": [
    "npmia1_test = CoherenceNPMI(texts=texts_test, topics=ctma1.get_topic_lists(10)); a1_test = npmia1_test.score(topk=10)\n",
    "npmia2_test = CoherenceNPMI(texts=texts_test, topics=ctma2.get_topic_lists(10)); a2_test = npmia2_test.score(topk=10)\n",
    "npmia3_test = CoherenceNPMI(texts=texts_test, topics=ctma3.get_topic_lists(10)); a3_test = npmia3_test.score(topk=10)\n",
    "npmia4_test = CoherenceNPMI(texts=texts_test, topics=ctma4.get_topic_lists(10)); a4_test = npmia4_test.score(topk=10)\n",
    "npmia5_test = CoherenceNPMI(texts=texts_test, topics=ctma5.get_topic_lists(10)); a5_test = npmia5_test.score(topk=10)"
   ]
  },
  {
   "cell_type": "code",
   "execution_count": 41,
   "metadata": {},
   "outputs": [
    {
     "name": "stdout",
     "output_type": "stream",
     "text": [
      "for 10 topics, the coherenceNPMI is -0.06958936851517726\n",
      "for 20 topics, the coherenceNPMI is 0.06301411589911521\n",
      "for 30 topics, the coherenceNPMI is 0.05454843014544206\n",
      "for 50 topics, the coherenceNPMI is 0.06924827627715116\n",
      "for 100 topics, the coherenceNPMI is 0.040013997329191475\n"
     ]
    }
   ],
   "source": [
    "print(f\"for 10 topics, the coherenceNPMI is {a1_test}\")\n",
    "print(f\"for 20 topics, the coherenceNPMI is {a2_test}\")\n",
    "print(f\"for 30 topics, the coherenceNPMI is {a3_test}\")\n",
    "print(f\"for 50 topics, the coherenceNPMI is {a4_test}\")\n",
    "print(f\"for 100 topics, the coherenceNPMI is {a5_test}\")"
   ]
  },
  {
   "cell_type": "code",
   "execution_count": 42,
   "metadata": {},
   "outputs": [],
   "source": [
    "tda1_test = TopicDiversity(topics=ctma1.get_topic_lists(10)); ta1_test = tda1_test.score(topk=10)\n",
    "tda2_test = TopicDiversity(topics=ctma2.get_topic_lists(10)); ta2_test = tda2_test.score(topk=10)\n",
    "tda3_test = TopicDiversity(topics=ctma3.get_topic_lists(10)); ta3_test = tda3_test.score(topk=10)\n",
    "tda4_test = TopicDiversity(topics=ctma4.get_topic_lists(10)); ta4_test = tda4_test.score(topk=10)\n",
    "tda5_test = TopicDiversity(topics=ctma5.get_topic_lists(10)); ta5_test = tda5_test.score(topk=10)"
   ]
  },
  {
   "cell_type": "code",
   "execution_count": 43,
   "metadata": {},
   "outputs": [
    {
     "name": "stdout",
     "output_type": "stream",
     "text": [
      "for 10 topics, the TopicDiversity is 0.8\n",
      "for 20 topics, the TopicDiversity is 0.925\n",
      "for 30 topics, the TopicDiversity is 0.8566666666666667\n",
      "for 50 topics, the TopicDiversity is 0.784\n",
      "for 100 topics, the TopicDiversity is 0.555\n"
     ]
    }
   ],
   "source": [
    "print(f\"for 10 topics, the TopicDiversity is {ta1_test}\")\n",
    "print(f\"for 20 topics, the TopicDiversity is {ta2_test}\")\n",
    "print(f\"for 30 topics, the TopicDiversity is {ta3_test}\")\n",
    "print(f\"for 50 topics, the TopicDiversity is {ta4_test}\")\n",
    "print(f\"for 100 topics, the TopicDiversity is {ta5_test}\")"
   ]
  },
  {
   "cell_type": "markdown",
   "metadata": {},
   "source": [
    "### Plot of train CoherenceNPMI with Number of Topics"
   ]
  },
  {
   "cell_type": "code",
   "execution_count": 44,
   "metadata": {},
   "outputs": [
    {
     "data": {
      "image/png": "[encoded data removed]",
      "text/plain": [
       "<Figure size 432x288 with 1 Axes>"
      ]
     },
     "metadata": {
      "needs_background": "light"
     },
     "output_type": "display_data"
    }
   ],
   "source": [
    "xa1 = np.array([10, 20, 30, 50, 100])\n",
    "ya1 = np.array([a1, a2, a3, a4, a5])\n",
    "\n",
    "plt.xlabel('Number of Topics')\n",
    "plt.ylabel('CoherenceNPMI')\n",
    "\n",
    "plt.title(\"CoherenceNPMI vs Number of Topics\")\n",
    "\n",
    "plt.plot(xa1, ya1)\n",
    "plt.show()"
   ]
  },
  {
   "cell_type": "markdown",
   "metadata": {},
   "source": [
    "### Plot of train TopicDivergence with Number of Topics"
   ]
  },
  {
   "cell_type": "code",
   "execution_count": 45,
   "metadata": {},
   "outputs": [
    {
     "data": {
      "image/png": "[encoded data removed]",
      "text/plain": [
       "<Figure size 432x288 with 1 Axes>"
      ]
     },
     "metadata": {
      "needs_background": "light"
     },
     "output_type": "display_data"
    }
   ],
   "source": [
    "xa2 = np.array([10, 20, 30, 50, 100])\n",
    "ya2 = np.array([ta1, ta2, ta3, ta4, ta5])\n",
    "\n",
    "plt.xlabel('Number of Topics')\n",
    "plt.ylabel('Topic Diversity')\n",
    "\n",
    "plt.title(\"Topic Diversity vs Number of Topics\")\n",
    "\n",
    "plt.plot(xa2, ya2)\n",
    "plt.show()"
   ]
  },
  {
   "cell_type": "markdown",
   "metadata": {},
   "source": [
    "### Creating a dataframe for train"
   ]
  },
  {
   "cell_type": "code",
   "execution_count": 46,
   "metadata": {},
   "outputs": [
    {
     "data": {
      "text/html": [
       "<div>\n",
       "<style scoped>\n",
       "    .dataframe tbody tr th:only-of-type {\n",
       "        vertical-align: middle;\n",
       "    }\n",
       "\n",
       "    .dataframe tbody tr th {\n",
       "        vertical-align: top;\n",
       "    }\n",
       "\n",
       "    .dataframe thead th {\n",
       "        text-align: right;\n",
       "    }\n",
       "</style>\n",
       "<table border=\"1\" class=\"dataframe\">\n",
       "  <thead>\n",
       "    <tr style=\"text-align: right;\">\n",
       "      <th></th>\n",
       "      <th>Number of Topics</th>\n",
       "      <th>CoherenceNPMI</th>\n",
       "      <th>TopicDiversity</th>\n",
       "    </tr>\n",
       "  </thead>\n",
       "  <tbody>\n",
       "    <tr>\n",
       "      <th>0</th>\n",
       "      <td>10</td>\n",
       "      <td>0.093948</td>\n",
       "      <td>0.920000</td>\n",
       "    </tr>\n",
       "    <tr>\n",
       "      <th>1</th>\n",
       "      <td>20</td>\n",
       "      <td>0.143816</td>\n",
       "      <td>0.870000</td>\n",
       "    </tr>\n",
       "    <tr>\n",
       "      <th>2</th>\n",
       "      <td>30</td>\n",
       "      <td>0.088750</td>\n",
       "      <td>0.833333</td>\n",
       "    </tr>\n",
       "    <tr>\n",
       "      <th>3</th>\n",
       "      <td>50</td>\n",
       "      <td>0.087580</td>\n",
       "      <td>0.770000</td>\n",
       "    </tr>\n",
       "    <tr>\n",
       "      <th>4</th>\n",
       "      <td>100</td>\n",
       "      <td>0.090312</td>\n",
       "      <td>0.582000</td>\n",
       "    </tr>\n",
       "  </tbody>\n",
       "</table>\n",
       "</div>"
      ],
      "text/plain": [
       "   Number of Topics  CoherenceNPMI  TopicDiversity\n",
       "0                10       0.093948        0.920000\n",
       "1                20       0.143816        0.870000\n",
       "2                30       0.088750        0.833333\n",
       "3                50       0.087580        0.770000\n",
       "4               100       0.090312        0.582000"
      ]
     },
     "execution_count": 46,
     "metadata": {},
     "output_type": "execute_result"
    }
   ],
   "source": [
    "dict1 = {'Number of Topics' : [10, 20, 30, 50, 100], \n",
    "         'CoherenceNPMI' : [a1, a2, a3, a4, a5], \n",
    "         'TopicDiversity' : [ta1, ta2, ta3, ta4, ta5]}\n",
    "df1 = pd.DataFrame(dict1); df1"
   ]
  },
  {
   "cell_type": "markdown",
   "metadata": {},
   "source": [
    "# Sample of Doc-topic distribution and topic_word distribution for train data"
   ]
  },
  {
   "cell_type": "code",
   "execution_count": 47,
   "metadata": {
    "scrolled": true
   },
   "outputs": [
    {
     "name": "stderr",
     "output_type": "stream",
     "text": [
      "Sampling: [20/20]: : 20it [01:35,  4.76s/it]\n"
     ]
    },
    {
     "data": {
      "text/plain": [
       "array([[0.07440856, 0.11158158, 0.08849872, ..., 0.06725776, 0.02579206,\n",
       "        0.16898036],\n",
       "       [0.0385572 , 0.0244658 , 0.07257862, ..., 0.04278131, 0.04818478,\n",
       "        0.04230366],\n",
       "       [0.03128867, 0.02741102, 0.15085527, ..., 0.02469015, 0.05743817,\n",
       "        0.39863479],\n",
       "       ...,\n",
       "       [0.03971914, 0.11163411, 0.0514375 , ..., 0.12976189, 0.03641094,\n",
       "        0.0384683 ],\n",
       "       [0.10445995, 0.07539652, 0.07671561, ..., 0.21089277, 0.0379296 ,\n",
       "        0.11556655],\n",
       "       [0.13209069, 0.08480107, 0.03283284, ..., 0.32592871, 0.02960742,\n",
       "        0.05113075]])"
      ]
     },
     "execution_count": 47,
     "metadata": {},
     "output_type": "execute_result"
    }
   ],
   "source": [
    "ctma1.get_doc_topic_distribution(training_dataset1, n_samples = 20)"
   ]
  },
  {
   "cell_type": "code",
   "execution_count": 48,
   "metadata": {},
   "outputs": [
    {
     "name": "stderr",
     "output_type": "stream",
     "text": [
      "Sampling: [20/20]: : 20it [01:34,  4.71s/it]\n"
     ]
    },
    {
     "data": {
      "text/plain": [
       "(10951, 10)"
      ]
     },
     "execution_count": 48,
     "metadata": {},
     "output_type": "execute_result"
    }
   ],
   "source": [
    "ctma1.get_doc_topic_distribution(training_dataset1, n_samples = 20).shape"
   ]
  },
  {
   "cell_type": "code",
   "execution_count": 49,
   "metadata": {
    "scrolled": true
   },
   "outputs": [
    {
     "data": {
      "text/plain": [
       "[['hiv', 'kuwait', 'professor', 'turkish', 'armenian'],\n",
       " ['game', 'team', 'ron', 'games', 'st'],\n",
       " ['jpeg', 'use', 'edu', 'image', 'file'],\n",
       " ['would', 'people', 'attorney', 'think', 'fbi'],\n",
       " ['windows', 'card', 'dos', 'drive', 'bus'],\n",
       " ['bug', 'option', 'market', 'box', 'friend'],\n",
       " ['bug', 'understanding', 'market', 'quickly', 'quick'],\n",
       " ['bug', 'option', 'quit', 'understanding', 'market'],\n",
       " ['god', 'understanding', 'one', 'christ', 'would'],\n",
       " ['market', 'good', 'car', 'would', 'like']]"
      ]
     },
     "execution_count": 49,
     "metadata": {},
     "output_type": "execute_result"
    }
   ],
   "source": [
    "ctma1.get_topic_lists(k=5)"
   ]
  },
  {
   "cell_type": "code",
   "execution_count": 50,
   "metadata": {},
   "outputs": [
    {
     "data": {
      "text/plain": [
       "array([[2.06086203e-04, 6.37839839e-05, 2.20522081e-04, ...,\n",
       "        9.22164763e-04, 1.18520424e-04, 2.81994035e-05],\n",
       "       [4.83403768e-04, 6.64033287e-04, 2.93314282e-04, ...,\n",
       "        9.53325594e-04, 2.46334122e-04, 1.08550928e-04],\n",
       "       [1.37554671e-04, 2.85788294e-04, 4.63483069e-04, ...,\n",
       "        8.42653899e-05, 3.19525454e-04, 2.32239999e-03],\n",
       "       ...,\n",
       "       [2.79491127e-04, 1.43993122e-03, 4.04628686e-09, ...,\n",
       "        3.72564245e-05, 4.67090402e-04, 2.93805460e-05],\n",
       "       [1.87142345e-04, 1.16456147e-04, 3.03919049e-04, ...,\n",
       "        7.08257197e-04, 2.58634245e-04, 5.47981872e-05],\n",
       "       [3.35446326e-04, 1.38082600e-03, 9.47751163e-04, ...,\n",
       "        5.71773417e-05, 4.78317641e-04, 3.71709975e-05]], dtype=float32)"
      ]
     },
     "execution_count": 50,
     "metadata": {},
     "output_type": "execute_result"
    }
   ],
   "source": [
    "ctma1.get_topic_word_distribution()"
   ]
  },
  {
   "cell_type": "code",
   "execution_count": 51,
   "metadata": {},
   "outputs": [
    {
     "data": {
      "text/plain": [
       "(10, 2000)"
      ]
     },
     "execution_count": 51,
     "metadata": {},
     "output_type": "execute_result"
    }
   ],
   "source": [
    "ctma1.get_topic_word_distribution().shape"
   ]
  },
  {
   "cell_type": "code",
   "execution_count": 52,
   "metadata": {},
   "outputs": [
    {
     "data": {
      "text/plain": [
       "[('bug', 0.06268149),\n",
       " ('option', 0.058349013),\n",
       " ('market', 0.058098007),\n",
       " ('box', 0.03674876),\n",
       " ('friend', 0.0361755),\n",
       " ('thanks', 0.02079784),\n",
       " ('ndet', 0.020461626),\n",
       " ('quick', 0.013456053),\n",
       " ('quit', 0.013083618),\n",
       " ('location', 0.011435948),\n",
       " ('sale', 0.010267222),\n",
       " ('advance', 0.0094027035),\n",
       " ('email', 0.0068156486),\n",
       " ('loop', 0.006689313),\n",
       " ('asking', 0.005987933),\n",
       " ('looking', 0.005848198),\n",
       " ('trade', 0.0054923156),\n",
       " ('shape', 0.005477361),\n",
       " ('address', 0.004873487),\n",
       " ('anybody', 0.0048040776),\n",
       " ('reply', 0.004709707),\n",
       " ('error', 0.0046646697),\n",
       " ('class', 0.0042506037),\n",
       " ('interested', 0.004013911),\n",
       " ('hi', 0.0039173802),\n",
       " ('resolution', 0.0039007459),\n",
       " ('shipping', 0.003665235),\n",
       " ('appreciated', 0.00365999),\n",
       " ('please', 0.0036368833),\n",
       " ('offer', 0.0036148014),\n",
       " ('via', 0.0035699971),\n",
       " ('info', 0.003534892),\n",
       " ('included', 0.0034837234),\n",
       " ('quickly', 0.0033018256),\n",
       " ('excellent', 0.0032938216),\n",
       " ('supports', 0.003270889),\n",
       " ('hello', 0.0031974707),\n",
       " ('include', 0.0031467595),\n",
       " ('planning', 0.0031184086),\n",
       " ('external', 0.0030653593),\n",
       " ('model', 0.0028960677),\n",
       " ('sold', 0.0028301477),\n",
       " ('table', 0.0027668832),\n",
       " ('monitor', 0.0026445016),\n",
       " ('video', 0.0025174373),\n",
       " ('thank', 0.0024589628),\n",
       " ('ideas', 0.0024284304),\n",
       " ('kinds', 0.002419775),\n",
       " ('window', 0.0024135062),\n",
       " ('understanding', 0.0023464898),\n",
       " ('port', 0.0023124602),\n",
       " ('application', 0.002179917),\n",
       " ('music', 0.002160451),\n",
       " ('failed', 0.0020703492),\n",
       " ('code', 0.0020012695),\n",
       " ('digital', 0.0019945693),\n",
       " ('event', 0.001988539),\n",
       " ('anyone', 0.0019608599),\n",
       " ('internet', 0.0018971353),\n",
       " ('respond', 0.0018949339),\n",
       " ('unknown', 0.00188152),\n",
       " ('create', 0.0017254003),\n",
       " ('education', 0.001717775),\n",
       " ('board', 0.0016756137),\n",
       " ('math', 0.0016210431),\n",
       " ('condition', 0.0015753827),\n",
       " ('pro', 0.0015753172),\n",
       " ('warning', 0.0015701735),\n",
       " ('frequency', 0.001569993),\n",
       " ('ram', 0.0015668989),\n",
       " ('ibm', 0.0015652449),\n",
       " ('passed', 0.0015573748),\n",
       " ('functions', 0.0015519188),\n",
       " ('options', 0.0015408113),\n",
       " ('printer', 0.0015110949),\n",
       " ('button', 0.0015105057),\n",
       " ('apple', 0.0015082284),\n",
       " ('directly', 0.0015081529),\n",
       " ('programming', 0.0015053666),\n",
       " ('rom', 0.0014762749),\n",
       " ('greatly', 0.0014554528),\n",
       " ('fine', 0.0014222598),\n",
       " ('structure', 0.0014184422),\n",
       " ('sys', 0.0014060768),\n",
       " ('appreciate', 0.0013919026),\n",
       " ('wondering', 0.0013781355),\n",
       " ('currently', 0.0013756563),\n",
       " ('voice', 0.0013742049),\n",
       " ('build', 0.0013364623),\n",
       " ('minute', 0.0013242308),\n",
       " ('ordered', 0.0013085664),\n",
       " ('offers', 0.0012963818),\n",
       " ('somewhere', 0.0012948174),\n",
       " ('parallel', 0.0012904825),\n",
       " ('size', 0.0012867295),\n",
       " ('operations', 0.0012781736),\n",
       " ('original', 0.0012741332),\n",
       " ('turbo', 0.0012723397),\n",
       " ('return', 0.0012684362),\n",
       " ('type', 0.0012597912),\n",
       " ('iii', 0.001250895),\n",
       " ('anywhere', 0.0012388839),\n",
       " ('obvious', 0.001205712),\n",
       " ('sell', 0.0011938069),\n",
       " ('manual', 0.0011633688),\n",
       " ('modem', 0.0011611624),\n",
       " ('tools', 0.0011448509),\n",
       " ('suggestions', 0.0011446062),\n",
       " ('fonts', 0.0011213992),\n",
       " ('multi', 0.001118035),\n",
       " ('visual', 0.001111103),\n",
       " ('speech', 0.0011078806),\n",
       " ('intelligence', 0.0011019777),\n",
       " ('computing', 0.0010840681),\n",
       " ('remote', 0.001080784),\n",
       " ('plus', 0.0010775205),\n",
       " ('motif', 0.0010750551),\n",
       " ('welcome', 0.0010740098),\n",
       " ('keyboard', 0.0010665648),\n",
       " ('replies', 0.0010602709),\n",
       " ('buy', 0.0010505902),\n",
       " ('printed', 0.0010490458),\n",
       " ('detail', 0.0010428644),\n",
       " ('finding', 0.0010191194),\n",
       " ('pictures', 0.001009114),\n",
       " ('widget', 0.0010048472),\n",
       " ('utility', 0.0009974487),\n",
       " ('astronomy', 0.0009871536),\n",
       " ('usr', 0.000985282),\n",
       " ('forward', 0.0009796107),\n",
       " ('mail', 0.0009788199),\n",
       " ('internal', 0.0009778794),\n",
       " ('function', 0.00097281364),\n",
       " ('unit', 0.00096354354),\n",
       " ('prefer', 0.0009626324),\n",
       " ('select', 0.00096003286),\n",
       " ('computer', 0.0009549435),\n",
       " ('attorney', 0.0009478148),\n",
       " ('following', 0.00093475566),\n",
       " ('core', 0.0009289716),\n",
       " ('normally', 0.0009128268),\n",
       " ('missing', 0.0009118837),\n",
       " ('terminal', 0.0009106614),\n",
       " ('project', 0.000905813),\n",
       " ('domain', 0.00090306584),\n",
       " ('tape', 0.0009006006),\n",
       " ('heads', 0.00089974847),\n",
       " ('cheap', 0.0008892253),\n",
       " ('xt', 0.00088824466),\n",
       " ('addresses', 0.0008591185),\n",
       " ('handle', 0.00085585396),\n",
       " ('listed', 0.0008537459),\n",
       " ('driver', 0.00085211825),\n",
       " ('command', 0.00084540236),\n",
       " ('paid', 0.0008411389),\n",
       " ('obtain', 0.00083569693),\n",
       " ('electronics', 0.0008242061),\n",
       " ('mode', 0.0008197469),\n",
       " ('names', 0.00081735157),\n",
       " ('recently', 0.00081594614),\n",
       " ('audio', 0.0008107616),\n",
       " ('believed', 0.0008100887),\n",
       " ('requirements', 0.00080897275),\n",
       " ('price', 0.00080752064),\n",
       " ('sample', 0.00080598646),\n",
       " ('net', 0.00079254614),\n",
       " ('electronic', 0.0007868001),\n",
       " ('date', 0.0007770072),\n",
       " ('buying', 0.00077656057),\n",
       " ('direct', 0.0007744254),\n",
       " ('contact', 0.0007717546),\n",
       " ('lights', 0.0007712889),\n",
       " ('libraries', 0.0007697483),\n",
       " ('south', 0.00076962763),\n",
       " ('references', 0.0007669686),\n",
       " ('responses', 0.0007622446),\n",
       " ('screen', 0.0007612983),\n",
       " ('multiple', 0.0007601248),\n",
       " ('guide', 0.0007526051),\n",
       " ('union', 0.00074648834),\n",
       " ('papers', 0.00074608554),\n",
       " ('messages', 0.0007448762),\n",
       " ('cards', 0.0007441655),\n",
       " ('lib', 0.000740559),\n",
       " ('considering', 0.0007374528),\n",
       " ('atheist', 0.00073717895),\n",
       " ('fee', 0.00073648046),\n",
       " ('works', 0.0007357405),\n",
       " ('survey', 0.000735157),\n",
       " ('documents', 0.0007329826),\n",
       " ('draw', 0.0007270545),\n",
       " ('advice', 0.0007252874),\n",
       " ('methods', 0.0007216404),\n",
       " ('max', 0.00071950466),\n",
       " ('vga', 0.0007158918),\n",
       " ('telephone', 0.00071262417),\n",
       " ('hp', 0.0007115078),\n",
       " ('owner', 0.00071043783),\n",
       " ('meg', 0.000707068),\n",
       " ('write', 0.000703138),\n",
       " ('input', 0.00070018566),\n",
       " ('station', 0.00069695123),\n",
       " ('none', 0.0006960373),\n",
       " ('writing', 0.0006953731),\n",
       " ('vote', 0.0006952936),\n",
       " ('copyright', 0.00069255446),\n",
       " ('company', 0.00069220253),\n",
       " ('advanced', 0.0006919108),\n",
       " ('suggested', 0.0006830374),\n",
       " ('switch', 0.00068096875),\n",
       " ('purchase', 0.00068057986),\n",
       " ('huge', 0.0006800323),\n",
       " ('brand', 0.0006794518),\n",
       " ('virtual', 0.00067252456),\n",
       " ('correctly', 0.0006687157),\n",
       " ('tried', 0.00066690374),\n",
       " ('appropriate', 0.00066575926),\n",
       " ('running', 0.00066555396),\n",
       " ('models', 0.00066452776),\n",
       " ('gain', 0.0006617716),\n",
       " ('cross', 0.0006604684),\n",
       " ('standard', 0.00065961643),\n",
       " ('becomes', 0.00065637036),\n",
       " ('manager', 0.000653749),\n",
       " ('allows', 0.00065199914),\n",
       " ('engineering', 0.0006494272),\n",
       " ('interface', 0.00064505823),\n",
       " ('literature', 0.0006424891),\n",
       " ('named', 0.0006416264),\n",
       " ('originally', 0.0006408711),\n",
       " ('follows', 0.0006406484),\n",
       " ('receive', 0.0006367125),\n",
       " ('older', 0.00063440105),\n",
       " ('operation', 0.00063335407),\n",
       " ('magazine', 0.0006317025),\n",
       " ('connected', 0.000631137),\n",
       " ('host', 0.00063098595),\n",
       " ('zero', 0.0006257831),\n",
       " ('summary', 0.0006185128),\n",
       " ('print', 0.0006157975),\n",
       " ('defined', 0.00061528495),\n",
       " ('newsgroups', 0.00061506557),\n",
       " ('relatively', 0.00061311334),\n",
       " ('somebody', 0.0006124153),\n",
       " ('ports', 0.0006101706),\n",
       " ('regarding', 0.0006072724),\n",
       " ('memory', 0.0006071808),\n",
       " ('serial', 0.00060388923),\n",
       " ('session', 0.0006036666),\n",
       " ('entirely', 0.00060333253),\n",
       " ('protocol', 0.00060307706),\n",
       " ('sleep', 0.0005996962),\n",
       " ('join', 0.00059929484),\n",
       " ('capable', 0.00059507013),\n",
       " ('shift', 0.00059304934),\n",
       " ('sent', 0.00059139),\n",
       " ('everybody', 0.0005907096),\n",
       " ('types', 0.0005906333),\n",
       " ('instructions', 0.0005902363),\n",
       " ('meet', 0.00058943446),\n",
       " ('lab', 0.0005876619),\n",
       " ('usage', 0.00058301585),\n",
       " ('opportunity', 0.0005763461),\n",
       " ('review', 0.00057615485),\n",
       " ('card', 0.00057583925),\n",
       " ('calls', 0.0005732782),\n",
       " ('prepared', 0.0005706278),\n",
       " ('distributed', 0.0005705081),\n",
       " ('moving', 0.00056976784),\n",
       " ('prices', 0.00056949083),\n",
       " ('colour', 0.0005685606),\n",
       " ('comes', 0.0005642663),\n",
       " ('misc', 0.00056154886),\n",
       " ('covered', 0.0005578546),\n",
       " ('extended', 0.0005544723),\n",
       " ('fax', 0.0005530248),\n",
       " ('pin', 0.00055116275),\n",
       " ('owners', 0.0005504119),\n",
       " ('package', 0.00054920826),\n",
       " ('shareware', 0.0005486703),\n",
       " ('pages', 0.0005479048),\n",
       " ('signal', 0.00054638897),\n",
       " ('pull', 0.00054492103),\n",
       " ('fill', 0.0005430653),\n",
       " ('copy', 0.0005421458),\n",
       " ('open', 0.000542009),\n",
       " ('shell', 0.00053914037),\n",
       " ('connection', 0.00053893984),\n",
       " ('map', 0.00053726847),\n",
       " ('complete', 0.00053715165),\n",
       " ('disks', 0.0005359568),\n",
       " ('contain', 0.00053518586),\n",
       " ('background', 0.00053398294),\n",
       " ('proper', 0.0005261035),\n",
       " ('recommend', 0.0005234695),\n",
       " ('committee', 0.0005233487),\n",
       " ('nearly', 0.0005232988),\n",
       " ('bus', 0.0005228192),\n",
       " ('site', 0.0005203363),\n",
       " ('agency', 0.0005199722),\n",
       " ('received', 0.0005168309),\n",
       " ('motherboard', 0.0005132801),\n",
       " ('economic', 0.00051101967),\n",
       " ('request', 0.00050904776),\n",
       " ('toward', 0.00050393475),\n",
       " ('activities', 0.0005008022),\n",
       " ('mostly', 0.000499089),\n",
       " ('tool', 0.00049891847),\n",
       " ('phigs', 0.0004982979),\n",
       " ('complex', 0.00049827463),\n",
       " ('recognize', 0.0004978863),\n",
       " ('rates', 0.00049655436),\n",
       " ('students', 0.00049628643),\n",
       " ('forms', 0.0004960316),\n",
       " ('send', 0.00049508404),\n",
       " ('congress', 0.00049501157),\n",
       " ('july', 0.0004936543),\n",
       " ('robert', 0.0004935133),\n",
       " ('remain', 0.0004922829),\n",
       " ('produce', 0.00049152906),\n",
       " ('backup', 0.00049045304),\n",
       " ('associated', 0.0004898631),\n",
       " ('changing', 0.00048870145),\n",
       " ('solid', 0.00048867654),\n",
       " ('services', 0.00048705787),\n",
       " ('track', 0.00048505585),\n",
       " ('uses', 0.00048226042),\n",
       " ('learned', 0.00047784002),\n",
       " ('style', 0.00047732855),\n",
       " ('objects', 0.00047560415),\n",
       " ('agreement', 0.00047544835),\n",
       " ('picture', 0.00047531168),\n",
       " ('stock', 0.0004730021),\n",
       " ('frame', 0.00047286524),\n",
       " ('postings', 0.00047285034),\n",
       " ('protect', 0.0004722019),\n",
       " ('hardware', 0.00047200985),\n",
       " ('gone', 0.00047149722),\n",
       " ('levels', 0.00047087122),\n",
       " ('daily', 0.00047064677),\n",
       " ('readers', 0.0004698929),\n",
       " ('bought', 0.00046956542),\n",
       " ('tells', 0.00046892458),\n",
       " ('hole', 0.00046745111),\n",
       " ('xterm', 0.00046682096),\n",
       " ('proposed', 0.00046641935),\n",
       " ('convert', 0.000465682),\n",
       " ('des', 0.0004655752),\n",
       " ('throughout', 0.00046000764),\n",
       " ('auto', 0.00045642955),\n",
       " ('usual', 0.00045605053),\n",
       " ('link', 0.00045483594),\n",
       " ('de', 0.0004547917),\n",
       " ('tech', 0.00045415477),\n",
       " ('sides', 0.00045345345),\n",
       " ('transfer', 0.000451506),\n",
       " ('output', 0.00045145905),\n",
       " ('scale', 0.0004513734),\n",
       " ('andrew', 0.0004508756),\n",
       " ('reduce', 0.00045043192),\n",
       " ('released', 0.00044907758),\n",
       " ('rich', 0.00044882798),\n",
       " ('font', 0.00044826715),\n",
       " ('spiritual', 0.00044803187),\n",
       " ('built', 0.00044671673),\n",
       " ('european', 0.00044499978),\n",
       " ('provides', 0.00044444334),\n",
       " ('postscript', 0.00044352622),\n",
       " ('selling', 0.00044324162),\n",
       " ('machines', 0.00044230465),\n",
       " ('gamma', 0.00044145316),\n",
       " ('loaded', 0.0004397898),\n",
       " ('upgrade', 0.00043958097),\n",
       " ('message', 0.00043861053),\n",
       " ('supply', 0.00043696552),\n",
       " ('connect', 0.00043691698),\n",
       " ('occur', 0.00043689262),\n",
       " ('documentation', 0.00043658813),\n",
       " ('worked', 0.0004365009),\n",
       " ('age', 0.00043545148),\n",
       " ('object', 0.00043515672),\n",
       " ('provided', 0.0004328633),\n",
       " ('english', 0.00043247917),\n",
       " ('local', 0.00043080517),\n",
       " ('persons', 0.00042993692),\n",
       " ('regard', 0.00042922085),\n",
       " ('examples', 0.00042635016),\n",
       " ('okay', 0.0004258144),\n",
       " ('forced', 0.00042477608),\n",
       " ('working', 0.00042339388),\n",
       " ('access', 0.00042292496),\n",
       " ('director', 0.00042247766),\n",
       " ('role', 0.00042228156),\n",
       " ('bios', 0.00042200938),\n",
       " ('ii', 0.00042159887),\n",
       " ('additional', 0.00042149457),\n",
       " ('devices', 0.00042113132),\n",
       " ('apr', 0.0004199198),\n",
       " ('feet', 0.00041647354),\n",
       " ('phone', 0.00041638938),\n",
       " ('plain', 0.000414491),\n",
       " ('share', 0.00041446983),\n",
       " ('fly', 0.00041322623),\n",
       " ('problems', 0.0004131754),\n",
       " ('discovered', 0.0004131474),\n",
       " ('depending', 0.00041238178),\n",
       " ('privacy', 0.00041200756),\n",
       " ('bear', 0.00041131696),\n",
       " ('key', 0.0004106327),\n",
       " ('beta', 0.00041052498),\n",
       " ('sun', 0.0004105111),\n",
       " ('success', 0.00040994637),\n",
       " ('license', 0.0004074204),\n",
       " ('vision', 0.000407224),\n",
       " ('fast', 0.00040584055),\n",
       " ('drawing', 0.00040266343),\n",
       " ('setup', 0.00040078847),\n",
       " ('bbs', 0.00039958398),\n",
       " ('compatible', 0.00039851727),\n",
       " ('essentially', 0.0003976684),\n",
       " ('mailing', 0.00039735524),\n",
       " ('random', 0.00039714892),\n",
       " ('amendment', 0.00039677322),\n",
       " ('zip', 0.0003960955),\n",
       " ('highly', 0.0003952618),\n",
       " ('conflict', 0.00039476866),\n",
       " ('depends', 0.00039466063),\n",
       " ('enter', 0.0003928907),\n",
       " ('letter', 0.0003922522),\n",
       " ('college', 0.00039163398),\n",
       " ('association', 0.00039097143),\n",
       " ('features', 0.00038893532),\n",
       " ('discussed', 0.00038857476),\n",
       " ('justice', 0.0003877576),\n",
       " ('property', 0.00038688807),\n",
       " ('george', 0.00038682722),\n",
       " ('regards', 0.00038631217),\n",
       " ('division', 0.00038603888),\n",
       " ('poster', 0.0003846441),\n",
       " ('presented', 0.00038457275),\n",
       " ('document', 0.00038299896),\n",
       " ('knows', 0.0003800347),\n",
       " ('kept', 0.00037950918),\n",
       " ('primarily', 0.00037912358),\n",
       " ('giving', 0.00037911994),\n",
       " ('resource', 0.0003789703),\n",
       " ('training', 0.00037857002),\n",
       " ('status', 0.00037759147),\n",
       " ('assault', 0.00037741847),\n",
       " ('device', 0.00037572611),\n",
       " ('department', 0.00037564192),\n",
       " ('seven', 0.00037224762),\n",
       " ('define', 0.00037082008),\n",
       " ('thousand', 0.00037058373),\n",
       " ('ac', 0.0003700725),\n",
       " ('source', 0.00036956108),\n",
       " ('recommended', 0.00036928066),\n",
       " ('display', 0.00036923576),\n",
       " ('knowing', 0.0003691034),\n",
       " ('interest', 0.00036878462),\n",
       " ('hypothesis', 0.0003685011),\n",
       " ('attempts', 0.0003672013),\n",
       " ('stone', 0.00036719642),\n",
       " ('experience', 0.000366482),\n",
       " ('fail', 0.00036586114),\n",
       " ('machine', 0.00036584304),\n",
       " ('quoted', 0.00036482146),\n",
       " ('id', 0.00036456756),\n",
       " ('latter', 0.00036410303),\n",
       " ('character', 0.0003639416),\n",
       " ('starts', 0.00036381214),\n",
       " ('happy', 0.0003637518),\n",
       " ('relevant', 0.00036332812),\n",
       " ('alone', 0.000361406),\n",
       " ('checked', 0.00036103843),\n",
       " ('client', 0.00036005574),\n",
       " ('followed', 0.0003598429),\n",
       " ('setting', 0.00035867115),\n",
       " ('xfree', 0.00035813486),\n",
       " ('somewhat', 0.00035779722),\n",
       " ('commands', 0.0003574013),\n",
       " ('distance', 0.00035621013),\n",
       " ('doctors', 0.00035597567),\n",
       " ('ron', 0.00035540632),\n",
       " ('berkeley', 0.00035528382),\n",
       " ('hearing', 0.00035489473),\n",
       " ('empire', 0.00035429292),\n",
       " ('concept', 0.0003530874),\n",
       " ('editor', 0.0003530379),\n",
       " ('reaction', 0.00035287818),\n",
       " ('colors', 0.00035245676),\n",
       " ('displays', 0.00035143975),\n",
       " ('fully', 0.0003511751),\n",
       " ('brain', 0.00035116271),\n",
       " ('violence', 0.00035039647),\n",
       " ('round', 0.0003501955),\n",
       " ('chips', 0.00034989172),\n",
       " ('desktop', 0.0003492763),\n",
       " ('religions', 0.00034868886),\n",
       " ('install', 0.00034820306),\n",
       " ('committed', 0.00034779453),\n",
       " ('advantage', 0.00034711554),\n",
       " ('conditions', 0.00034618727),\n",
       " ('definition', 0.00034523444),\n",
       " ('direction', 0.0003449534),\n",
       " ('similar', 0.0003443575),\n",
       " ('published', 0.00034429002),\n",
       " ('installed', 0.0003436012),\n",
       " ('automatically', 0.0003431652),\n",
       " ('medicine', 0.00034313882),\n",
       " ('organization', 0.00034282007),\n",
       " ('ee', 0.00034274848),\n",
       " ('compression', 0.00034165487),\n",
       " ('printing', 0.0003411556),\n",
       " ('region', 0.0003392393),\n",
       " ('stored', 0.00033882543),\n",
       " ('readme', 0.00033864938),\n",
       " ('exists', 0.0003375418),\n",
       " ('reliable', 0.00033751543),\n",
       " ('library', 0.0003371458),\n",
       " ('heavy', 0.00033619927),\n",
       " ('appeared', 0.0003359331),\n",
       " ('larson', 0.0003358589),\n",
       " ('raised', 0.00033501728),\n",
       " ('search', 0.0003345856),\n",
       " ('sending', 0.00033385408),\n",
       " ('troops', 0.0003337363),\n",
       " ('development', 0.00033370225),\n",
       " ('seconds', 0.0003329514),\n",
       " ('toolkit', 0.00033274668),\n",
       " ('clean', 0.00033224345),\n",
       " ('servers', 0.00033168562),\n",
       " ('distribution', 0.00033162395),\n",
       " ('paint', 0.00033129237),\n",
       " ('accepted', 0.00033083107),\n",
       " ('drives', 0.00033026616),\n",
       " ('sitting', 0.00032968493),\n",
       " ('block', 0.0003296513),\n",
       " ('explanation', 0.00032925856),\n",
       " ('limit', 0.00032907334),\n",
       " ('existing', 0.00032828125),\n",
       " ('systems', 0.0003278498),\n",
       " ('truly', 0.00032730095),\n",
       " ('dark', 0.00032647947),\n",
       " ('individuals', 0.00032640787),\n",
       " ('serve', 0.00032622332),\n",
       " ('extremely', 0.0003259624),\n",
       " ('sound', 0.00032488612),\n",
       " ('utilities', 0.00032469284),\n",
       " ('summer', 0.00032464854),\n",
       " ('broken', 0.00032462008),\n",
       " ('forces', 0.00032459255),\n",
       " ('store', 0.0003237967),\n",
       " ('technology', 0.0003234702),\n",
       " ('gant', 0.00032313965),\n",
       " ('newsgroup', 0.0003227648),\n",
       " ('language', 0.00032268726),\n",
       " ('central', 0.00032267955),\n",
       " ('separate', 0.00032222352),\n",
       " ('versions', 0.000320821),\n",
       " ('schools', 0.0003205228),\n",
       " ('escrow', 0.000320521),\n",
       " ('archives', 0.0003196346),\n",
       " ('replace', 0.00031930307),\n",
       " ('database', 0.00031907143),\n",
       " ('drop', 0.00031898075),\n",
       " ('visible', 0.0003183189),\n",
       " ('fit', 0.00031654554),\n",
       " ('inc', 0.00031638076),\n",
       " ('spent', 0.00031497603),\n",
       " ('walk', 0.00031482708),\n",
       " ('equal', 0.00031472262),\n",
       " ('program', 0.0003144163),\n",
       " ('comp', 0.0003141987),\n",
       " ('chris', 0.0003124873),\n",
       " ('initial', 0.00031239167),\n",
       " ('strange', 0.0003121558),\n",
       " ('regular', 0.00031199362),\n",
       " ('desire', 0.0003112251),\n",
       " ('automatic', 0.00031118625),\n",
       " ('leading', 0.0003108718),\n",
       " ('radar', 0.0003105127),\n",
       " ('tax', 0.00031023388),\n",
       " ('expected', 0.00031019718),\n",
       " ('call', 0.00030909898),\n",
       " ('keeping', 0.00030889298),\n",
       " ('powerful', 0.0003081659),\n",
       " ('transmission', 0.00030814856),\n",
       " ('account', 0.00030809685),\n",
       " ('satellite', 0.00030806835),\n",
       " ('saved', 0.00030774155),\n",
       " ('pointed', 0.0003073198),\n",
       " ('possibility', 0.00030718208),\n",
       " ('xview', 0.0003045899),\n",
       " ('primary', 0.0003042215),\n",
       " ('cache', 0.00030410461),\n",
       " ('cable', 0.00030328208),\n",
       " ('hospital', 0.0003025492),\n",
       " ('stopped', 0.00030254544),\n",
       " ('mars', 0.00030197584),\n",
       " ('notes', 0.00030017385),\n",
       " ('conclusion', 0.00029989454),\n",
       " ('rate', 0.0002994479),\n",
       " ('reach', 0.00029921893),\n",
       " ('responsibility', 0.0002990201),\n",
       " ('lock', 0.00029750683),\n",
       " ('kids', 0.0002964425),\n",
       " ('perfect', 0.0002961207),\n",
       " ('master', 0.0002960501),\n",
       " ('lets', 0.00029560068),\n",
       " ('edition', 0.00029558432),\n",
       " ('scientists', 0.00029533636),\n",
       " ('technical', 0.000294646),\n",
       " ('sgi', 0.00029458673),\n",
       " ('cc', 0.0002938443),\n",
       " ('properly', 0.0002935964),\n",
       " ('length', 0.0002919059),\n",
       " ('lists', 0.00029125327),\n",
       " ('damage', 0.0002910261),\n",
       " ('patch', 0.00029102113),\n",
       " ('iraq', 0.00029068443),\n",
       " ('waiting', 0.0002906046),\n",
       " ('viewer', 0.00029051784),\n",
       " ('posts', 0.0002905159),\n",
       " ('cd', 0.0002902434),\n",
       " ('bunch', 0.00029018972),\n",
       " ('installation', 0.00029012386),\n",
       " ('quote', 0.00029005524),\n",
       " ('agencies', 0.00029001292),\n",
       " ('trying', 0.00028993993),\n",
       " ('default', 0.00028942994),\n",
       " ('design', 0.00028907464),\n",
       " ('alternative', 0.00028905948),\n",
       " ('lies', 0.0002884473),\n",
       " ('values', 0.0002884176),\n",
       " ('wide', 0.00028790123),\n",
       " ('main', 0.00028784384),\n",
       " ('clock', 0.00028779198),\n",
       " ('typical', 0.0002872948),\n",
       " ('safe', 0.00028680943),\n",
       " ('helps', 0.00028654095),\n",
       " ('tiff', 0.00028632928),\n",
       " ('slow', 0.00028626894),\n",
       " ('institute', 0.00028585808),\n",
       " ('noise', 0.00028581012),\n",
       " ('beat', 0.0002857101),\n",
       " ('processing', 0.0002845381),\n",
       " ('compressed', 0.00028429346),\n",
       " ('translation', 0.00028397236),\n",
       " ('journal', 0.00028374876),\n",
       " ('isa', 0.00028330478),\n",
       " ('modified', 0.00028323347),\n",
       " ('bin', 0.0002821755),\n",
       " ('topic', 0.00028142627),\n",
       " ('particularly', 0.00028127816),\n",
       " ('carried', 0.0002809862),\n",
       " ('observed', 0.00028093555),\n",
       " ('somehow', 0.00028083747),\n",
       " ('student', 0.0002804497),\n",
       " ('reference', 0.000280013),\n",
       " ('minor', 0.0002798672),\n",
       " ('specifically', 0.00027986002),\n",
       " ('matthew', 0.00027931714),\n",
       " ('load', 0.00027866688),\n",
       " ('tested', 0.00027853402),\n",
       " ('user', 0.00027767842),\n",
       " ('london', 0.0002770032),\n",
       " ('march', 0.00027670033),\n",
       " ('popular', 0.00027665126),\n",
       " ('causes', 0.00027624788),\n",
       " ('contrib', 0.00027558743),\n",
       " ('drivers', 0.0002748829),\n",
       " ('funny', 0.00027472174),\n",
       " ('noticed', 0.00027322982),\n",
       " ('speed', 0.00027308628),\n",
       " ('weight', 0.0002727812),\n",
       " ('listen', 0.00027268365),\n",
       " ('author', 0.0002724144),\n",
       " ('supported', 0.00027174936),\n",
       " ('weeks', 0.000271711),\n",
       " ('ahead', 0.00027168484),\n",
       " ('afraid', 0.0002713319),\n",
       " ('actual', 0.00027092025),\n",
       " ('dealer', 0.00027066228),\n",
       " ('extra', 0.0002699634),\n",
       " ('discuss', 0.0002698862),\n",
       " ('valid', 0.0002698203),\n",
       " ('bmw', 0.00026976987),\n",
       " ('rob', 0.00026976241),\n",
       " ('fix', 0.00026945415),\n",
       " ('notice', 0.0002692001),\n",
       " ('prior', 0.00026873275),\n",
       " ('instance', 0.00026819968),\n",
       " ('fuel', 0.00026812428),\n",
       " ('path', 0.00026662063),\n",
       " ('marriage', 0.00026606256),\n",
       " ('physics', 0.000265647),\n",
       " ('hst', 0.00026494922),\n",
       " ('majority', 0.00026479436),\n",
       " ('luck', 0.00026426106),\n",
       " ('se', 0.00026384176),\n",
       " ('member', 0.00026364936),\n",
       " ('events', 0.00026315424),\n",
       " ('companies', 0.00026302153),\n",
       " ('noted', 0.00026275002),\n",
       " ('help', 0.0002626681),\n",
       " ('laser', 0.0002624097),\n",
       " ('changes', 0.00026238218),\n",
       " ('sunday', 0.00026211282),\n",
       " ('immediately', 0.00026197187),\n",
       " ('mirror', 0.00026184772),\n",
       " ('argue', 0.00026179478),\n",
       " ('claimed', 0.00026150435),\n",
       " ('humans', 0.00026054794),\n",
       " ('slightly', 0.00026047538),\n",
       " ('nsa', 0.0002601194),\n",
       " ('pray', 0.00025995824),\n",
       " ('onto', 0.00025987),\n",
       " ('totally', 0.00025963192),\n",
       " ('msdos', 0.00025957276),\n",
       " ('hundred', 0.00025894894),\n",
       " ('pc', 0.00025852898),\n",
       " ('title', 0.00025789734),\n",
       " ('science', 0.0002576697),\n",
       " ('views', 0.00025749748),\n",
       " ('configuration', 0.00025716933),\n",
       " ('smaller', 0.00025707032),\n",
       " ('historical', 0.00025672215),\n",
       " ('decide', 0.00025585352),\n",
       " ('requires', 0.00025499996),\n",
       " ('grace', 0.00025459734),\n",
       " ('tim', 0.0002543459),\n",
       " ('description', 0.00025356555),\n",
       " ('attitude', 0.00025302058),\n",
       " ('tom', 0.00025299308),\n",
       " ('verse', 0.00025291732),\n",
       " ('standards', 0.00025269843),\n",
       " ('stories', 0.00025257363),\n",
       " ('tests', 0.00025205774),\n",
       " ('scott', 0.00025187174),\n",
       " ('aside', 0.00025040764),\n",
       " ('impossible', 0.0002501558),\n",
       " ('woman', 0.00024998724),\n",
       " ('applied', 0.00024962678),\n",
       " ('incident', 0.00024832704),\n",
       " ('lose', 0.0002479758),\n",
       " ('gopher', 0.00024717094),\n",
       " ('assuming', 0.0002471476),\n",
       " ('analysis', 0.0002459963),\n",
       " ('text', 0.00024582958),\n",
       " ('wm', 0.00024546878),\n",
       " ('france', 0.00024430297),\n",
       " ('criminals', 0.00024424473),\n",
       " ('count', 0.00024422817),\n",
       " ('guilty', 0.0002439693),\n",
       " ('secure', 0.00024376746),\n",
       " ('controller', 0.00024372048),\n",
       " ('solution', 0.00024328091),\n",
       " ('computers', 0.00024321317),\n",
       " ('brown', 0.00024305665),\n",
       " ('bullock', 0.00024278142),\n",
       " ('useful', 0.00024263721),\n",
       " ('org', 0.00024228019),\n",
       " ('fi', 0.00024120287),\n",
       " ('places', 0.0002411095),\n",
       " ('menu', 0.00024088795),\n",
       " ('cars', 0.00024026161),\n",
       " ('ethernet', 0.00024007128),\n",
       " ('index', 0.00023995982),\n",
       " ('james', 0.0002398907),\n",
       " ('reasonable', 0.00023986438),\n",
       " ('judgement', 0.00023934316),\n",
       " ('recall', 0.00023913237),\n",
       " ('arguments', 0.00023903203),\n",
       " ('parts', 0.00023901653),\n",
       " ('jim', 0.00023890418),\n",
       " ('cheaper', 0.0002388388),\n",
       " ('runs', 0.00023880145),\n",
       " ('teach', 0.00023872426),\n",
       " ('greece', 0.00023831322),\n",
       " ('holding', 0.00023823233),\n",
       " ('require', 0.00023773393),\n",
       " ('pain', 0.00023708097),\n",
       " ('grant', 0.00023676056),\n",
       " ('sci', 0.00023668473),\n",
       " ('packet', 0.00023651076),\n",
       " ('spread', 0.00023611051),\n",
       " ('ide', 0.00023601482),\n",
       " ('product', 0.0002359282),\n",
       " ('release', 0.00023562058),\n",
       " ('fair', 0.00023545213),\n",
       " ('potential', 0.00023539599),\n",
       " ('paragraph', 0.0002350586),\n",
       " ('floppy', 0.00023494945),\n",
       " ('gay', 0.00023453082),\n",
       " ('driving', 0.00023452725),\n",
       " ('opposed', 0.00023397701),\n",
       " ('abuse', 0.00023394333),\n",
       " ('probe', 0.00023369401),\n",
       " ('moment', 0.00023365235),\n",
       " ('activity', 0.00023364276),\n",
       " ('newsletter', 0.00023315953),\n",
       " ('worst', 0.0002324892),\n",
       " ('looked', 0.00023232894),\n",
       " ('agreed', 0.00023228973),\n",
       " ('bank', 0.00023222083),\n",
       " ('algorithm', 0.0002313517),\n",
       " ('definitely', 0.00023060033),\n",
       " ('seemed', 0.00023039458),\n",
       " ('reported', 0.00022981435),\n",
       " ('resources', 0.00022967062),\n",
       " ('month', 0.0002293316),\n",
       " ('azeri', 0.00022810053),\n",
       " ('friends', 0.00022738989),\n",
       " ('comments', 0.00022719523),\n",
       " ('easier', 0.00022710596),\n",
       " ('imho', 0.00022692909),\n",
       " ('eventually', 0.00022638049),\n",
       " ('felt', 0.00022623224),\n",
       " ('parents', 0.00022604954),\n",
       " ('pay', 0.00022596635),\n",
       " ('brian', 0.00022558525),\n",
       " ('branch', 0.00022540073),\n",
       " ('palestinians', 0.00022538997),\n",
       " ('ford', 0.00022509483),\n",
       " ('stephanopoulos', 0.0002247092),\n",
       " ('bodies', 0.0002244064),\n",
       " ('traffic', 0.0002243349),\n",
       " ('moses', 0.00022421642),\n",
       " ('mother', 0.00022420382),\n",
       " ('dx', 0.0002241617),\n",
       " ('folks', 0.00022415315),\n",
       " ('north', 0.00022325349),\n",
       " ('conversion', 0.00022307728),\n",
       " ('relationship', 0.000222844),\n",
       " ('born', 0.0002226917),\n",
       " ('reality', 0.00022267386),\n",
       " ('apps', 0.00022260271),\n",
       " ('ancient', 0.00022225843),\n",
       " ('trouble', 0.00022192675),\n",
       " ('mouse', 0.00022189943),\n",
       " ('larger', 0.00022174754),\n",
       " ('foreign', 0.00022132459),\n",
       " ('consistent', 0.00022121529),\n",
       " ('eastern', 0.00022110202),\n",
       " ('germany', 0.00022071396),\n",
       " ('western', 0.00022054584),\n",
       " ('hour', 0.00021990613),\n",
       " ('looks', 0.00021985956),\n",
       " ('purposes', 0.00021977194),\n",
       " ('books', 0.00021941843),\n",
       " ('sites', 0.00021896482),\n",
       " ('pressure', 0.00021870062),\n",
       " ('areas', 0.00021836924),\n",
       " ('avoid', 0.00021829845),\n",
       " ('safety', 0.0002180712),\n",
       " ('develop', 0.00021797142),\n",
       " ('dangerous', 0.00021742811),\n",
       " ('disagree', 0.0002166897),\n",
       " ('imagine', 0.0002164784),\n",
       " ('massacre', 0.00021625122),\n",
       " ('detroit', 0.00021613845),\n",
       " ('beginning', 0.00021585972),\n",
       " ('writes', 0.00021570272),\n",
       " ('rear', 0.00021567433),\n",
       " ('wanted', 0.00021557111),\n",
       " ('chronic', 0.0002153153),\n",
       " ('mary', 0.00021525146),\n",
       " ('piece', 0.0002151275),\n",
       " ('formats', 0.00021487613),\n",
       " ('caused', 0.00021457489),\n",
       " ('pass', 0.00021405371),\n",
       " ('anonymous', 0.0002138256),\n",
       " ('possible', 0.00021261408),\n",
       " ('mac', 0.00021247263),\n",
       " ('paper', 0.00021221704),\n",
       " ('necessarily', 0.00021216949),\n",
       " ('debate', 0.00021181995),\n",
       " ('ran', 0.00021128368),\n",
       " ('echo', 0.00021118861),\n",
       " ('packages', 0.00021093962),\n",
       " ('step', 0.00021087464),\n",
       " ('village', 0.00021014627),\n",
       " ('investigation', 0.00020982545),\n",
       " ('increase', 0.00020951392),\n",
       " ('simtel', 0.00020821085),\n",
       " ('pick', 0.00020767286),\n",
       " ('star', 0.00020752536),\n",
       " ('explain', 0.00020732141),\n",
       " ('pixel', 0.00020719589),\n",
       " ('bob', 0.00020716565),\n",
       " ('creation', 0.00020714532),\n",
       " ('morris', 0.00020697173),\n",
       " ('realize', 0.00020605378),\n",
       " ('tear', 0.00020588878),\n",
       " ('positive', 0.0002056835),\n",
       " ('blood', 0.0002056431),\n",
       " ('keys', 0.00020531897),\n",
       " ('dec', 0.00020454037),\n",
       " ('serbs', 0.00020440014),\n",
       " ('business', 0.00020431615),\n",
       " ('cheers', 0.0002042959),\n",
       " ('calling', 0.00020407818),\n",
       " ('spend', 0.00020392331),\n",
       " ('republic', 0.00020382182),\n",
       " ('interpretation', 0.00020372875),\n",
       " ('nobody', 0.0002035563),\n",
       " ('tel', 0.00020337409),\n",
       " ('thinking', 0.0002033128),\n",
       " ('remove', 0.00020321744),\n",
       " ('chip', 0.00020291976),\n",
       " ('orthodox', 0.00020290527),\n",
       " ('social', 0.00020262448),\n",
       " ('fat', 0.00020252595),\n",
       " ('fear', 0.00020209416),\n",
       " ('telling', 0.00020175581),\n",
       " ('administration', 0.0002012652),\n",
       " ('official', 0.00020075451),\n",
       " ('fairly', 0.00020059985),\n",
       " ('ice', 0.000200337),\n",
       " ('hardly', 0.0002003265),\n",
       " ('acts', 0.00019974352),\n",
       " ('nice', 0.0001996161),\n",
       " ('communications', 0.00019941955),\n",
       " ('teams', 0.00019940262),\n",
       " ('towards', 0.00019896876),\n",
       " ('villages', 0.00019879048),\n",
       " ('equipment', 0.0001986902),\n",
       " ('palestinian', 0.00019785916),\n",
       " ('latest', 0.00019673981),\n",
       " ('lived', 0.00019657552),\n",
       " ('east', 0.00019638363),\n",
       " ('sky', 0.00019632334),\n",
       " ('protection', 0.00019620018),\n",
       " ('ride', 0.00019584592),\n",
       " ('cannot', 0.00019559375),\n",
       " ('waste', 0.0001954953),\n",
       " ('lcs', 0.00019494683),\n",
       " ('countries', 0.0001949245),\n",
       " ('besides', 0.00019466592),\n",
       " ('admit', 0.00019372732),\n",
       " ('seriously', 0.0001937229),\n",
       " ('authority', 0.00019360545),\n",
       " ('thy', 0.00019344542),\n",
       " ('intended', 0.000193429),\n",
       " ('ten', 0.00019339875),\n",
       " ('flat', 0.0001932085),\n",
       " ('details', 0.00019307),\n",
       " ('hey', 0.00019291004),\n",
       " ('theism', 0.00019286148),\n",
       " ('street', 0.00019269786),\n",
       " ('vendor', 0.00018981585),\n",
       " ('food', 0.00018972953),\n",
       " ('hd', 0.00018968357),\n",
       " ('degree', 0.00018921905),\n",
       " ('uk', 0.00018916061),\n",
       " ('includes', 0.00018860488),\n",
       " ('ready', 0.00018802016),\n",
       " ('stars', 0.00018653687),\n",
       " ('encryption', 0.00018611539),\n",
       " ('starting', 0.00018573663),\n",
       " ('version', 0.00018562649),\n",
       " ('opinions', 0.0001855502),\n",
       " ('provide', 0.00018526925),\n",
       " ('constitution', 0.000185262),\n",
       " ('material', 0.00018519523),\n",
       " ('enforcement', 0.00018409219),\n",
       " ('page', 0.00018396198),\n",
       " ('defend', 0.00018367781),\n",
       " ('kinsey', 0.00018316021),\n",
       " ('loss', 0.00018265504),\n",
       " ('natural', 0.00018243604),\n",
       " ('format', 0.00018242125),\n",
       " ('false', 0.0001822964),\n",
       " ('tend', 0.0001822818),\n",
       " ('seeing', 0.00018200472),\n",
       " ('murder', 0.0001818793),\n",
       " ('ignore', 0.00018130829),\n",
       " ('bet', 0.00018125073),\n",
       " ('possibly', 0.00018108073),\n",
       " ('weapon', 0.0001807617),\n",
       " ('flame', 0.00018075256),\n",
       " ('meant', 0.00018006744),\n",
       " ('expensive', 0.00017909451),\n",
       " ('criminal', 0.00017909246),\n",
       " ('showing', 0.00017879774),\n",
       " ('verses', 0.00017820008),\n",
       " ('stats', 0.00017806994),\n",
       " ('boards', 0.00017746724),\n",
       " ('six', 0.00017732717),\n",
       " ('stand', 0.00017653176),\n",
       " ('british', 0.00017630917),\n",
       " ('basically', 0.00017584972),\n",
       " ('flames', 0.00017584789),\n",
       " ('riding', 0.00017534917),\n",
       " ('nations', 0.00017410543),\n",
       " ('soon', 0.00017402276),\n",
       " ('inside', 0.00017392785),\n",
       " ('outside', 0.00017365722),\n",
       " ('significant', 0.0001728743),\n",
       " ...]"
      ]
     },
     "execution_count": 52,
     "metadata": {},
     "output_type": "execute_result"
    }
   ],
   "source": [
    "ctma1.get_word_distribution_by_topic_id(5)"
   ]
  },
  {
   "cell_type": "code",
   "execution_count": 53,
   "metadata": {},
   "outputs": [
    {
     "data": {
      "image/png": "[encoded data removed]",
      "text/plain": [
       "<Figure size 2000x800 with 1 Axes>"
      ]
     },
     "metadata": {
      "needs_background": "light"
     },
     "output_type": "display_data"
    }
   ],
   "source": [
    "ctma1.get_wordcloud(5, n_words=5, background_color=\"white\", width=1000, height=400)"
   ]
  },
  {
   "cell_type": "markdown",
   "metadata": {},
   "source": [
    "# 2. Using \"stsb-roberta-large\" as PLM"
   ]
  },
  {
   "cell_type": "code",
   "execution_count": 54,
   "metadata": {},
   "outputs": [],
   "source": [
    "tpb = TopicModelDataPreparation(\"stsb-roberta-large\")"
   ]
  },
  {
   "cell_type": "markdown",
   "metadata": {},
   "source": [
    "# train"
   ]
  },
  {
   "cell_type": "code",
   "execution_count": 55,
   "metadata": {
    "scrolled": false
   },
   "outputs": [
    {
     "name": "stderr",
     "output_type": "stream",
     "text": [
      "/home/sysadm/anaconda3/lib/python3.9/site-packages/contextualized_topic_models/utils/data_preparation.py:57: UserWarning: the longest document in your collection has 11765 words, the model instead truncates to 128 tokens.\n",
      "  warnings.warn(f\"the longest document in your collection has {max_local_length} words, the model instead \"\n"
     ]
    },
    {
     "data": {
      "application/vnd.jupyter.widget-view+json": {
       "model_id": "25f04c2a895e4086bf53ce228f99bf7f",
       "version_major": 2,
       "version_minor": 0
      },
      "text/plain": [
       "Batches:   0%|          | 0/55 [00:00<?, ?it/s]"
      ]
     },
     "metadata": {},
     "output_type": "display_data"
    },
    {
     "name": "stderr",
     "output_type": "stream",
     "text": [
      "/home/sysadm/anaconda3/lib/python3.9/site-packages/sklearn/utils/deprecation.py:87: FutureWarning: Function get_feature_names is deprecated; get_feature_names is deprecated in 1.0 and will be removed in 1.2. Please use get_feature_names_out instead.\n",
      "  warnings.warn(msg, category=FutureWarning)\n"
     ]
    }
   ],
   "source": [
    "training_dataset2 = tpb.fit(text_for_contextual=unpreprocessed_corpus, text_for_bow=preprocessed_documents)"
   ]
  },
  {
   "cell_type": "code",
   "execution_count": 56,
   "metadata": {},
   "outputs": [],
   "source": [
    "ctmb1 = CombinedTM(bow_size=len(tpb.vocab), contextual_size=1024, model_type='prodLDA',\n",
    "                 dropout=0.2, batch_size=32, lr=0.01, solver='adam',\n",
    "                 n_components=10, num_epochs=100)\n",
    "ctmb2 = CombinedTM(bow_size=len(tpb.vocab), contextual_size=1024, model_type='prodLDA',\n",
    "                 dropout=0.2, batch_size=32, lr=0.01, solver='adam',\n",
    "                 n_components=20, num_epochs=100)\n",
    "ctmb3 = CombinedTM(bow_size=len(tpb.vocab), contextual_size=1024, model_type='prodLDA',\n",
    "                 dropout=0.2, batch_size=32, lr=0.01, solver='adam',\n",
    "                 n_components=30, num_epochs=100)\n",
    "ctmb4 = CombinedTM(bow_size=len(tpb.vocab), contextual_size=1024, model_type='prodLDA',\n",
    "                 dropout=0.2, batch_size=32, lr=0.01, solver='adam',\n",
    "                 n_components=50, num_epochs=100)\n",
    "ctmb5 = CombinedTM(bow_size=len(tpb.vocab), contextual_size=1024, model_type='prodLDA',\n",
    "                 dropout=0.2, batch_size=32, lr=0.01, solver='adam',\n",
    "                 n_components=100, num_epochs=100)"
   ]
  },
  {
   "cell_type": "code",
   "execution_count": 57,
   "metadata": {},
   "outputs": [
    {
     "name": "stderr",
     "output_type": "stream",
     "text": [
      "Epoch: [100/100]\t Seen Samples: [1094400/1095100]\tTrain Loss: 469.19957541304024\tTime: 0:00:13.984277: : 100it [18:37, 11.17s/it]\n",
      "Sampling: [20/20]: : 20it [01:30,  4.51s/it]\n",
      "Epoch: [100/100]\t Seen Samples: [1094400/1095100]\tTrain Loss: 463.34220654225487\tTime: 0:00:13.940097: : 100it [22:32, 13.52s/it]\n",
      "Sampling: [20/20]: : 20it [01:32,  4.64s/it]\n",
      "Epoch: [100/100]\t Seen Samples: [1094400/1095100]\tTrain Loss: 458.41624035751613\tTime: 0:00:07.787808: : 100it [20:10, 12.11s/it]\n",
      "Sampling: [20/20]: : 20it [00:40,  2.02s/it]\n",
      "Epoch: [100/100]\t Seen Samples: [1094400/1095100]\tTrain Loss: 461.5688240542049\tTime: 0:00:07.338673: : 100it [12:22,  7.42s/it]\n",
      "Sampling: [20/20]: : 20it [00:39,  1.98s/it]\n",
      "Epoch: [100/100]\t Seen Samples: [1094400/1095100]\tTrain Loss: 476.60236385412384\tTime: 0:00:07.811149: : 100it [12:54,  7.75s/it]\n",
      "Sampling: [20/20]: : 20it [00:41,  2.06s/it]\n"
     ]
    }
   ],
   "source": [
    "ctmb1.fit(training_dataset2)\n",
    "ctmb2.fit(training_dataset2)\n",
    "ctmb3.fit(training_dataset2)\n",
    "ctmb4.fit(training_dataset2)\n",
    "ctmb5.fit(training_dataset2)"
   ]
  },
  {
   "cell_type": "code",
   "execution_count": 58,
   "metadata": {},
   "outputs": [
    {
     "name": "stderr",
     "output_type": "stream",
     "text": [
      "/home/sysadm/anaconda3/lib/python3.9/site-packages/contextualized_topic_models/models/ctm.py:473: Warning: This is an experimental feature that we has not been fully tested. Refer to the following issue:https://github.com/MilaNLProc/contextualized-topic-models/issues/38\n",
      "  warnings.warn(\"This is an experimental feature that we has not been fully tested. Refer to the following issue:\"\n",
      "/home/sysadm/anaconda3/lib/python3.9/site-packages/contextualized_topic_models/models/ctm.py:473: Warning: This is an experimental feature that we has not been fully tested. Refer to the following issue:https://github.com/MilaNLProc/contextualized-topic-models/issues/38\n",
      "  warnings.warn(\"This is an experimental feature that we has not been fully tested. Refer to the following issue:\"\n",
      "/home/sysadm/anaconda3/lib/python3.9/site-packages/contextualized_topic_models/models/ctm.py:473: Warning: This is an experimental feature that we has not been fully tested. Refer to the following issue:https://github.com/MilaNLProc/contextualized-topic-models/issues/38\n",
      "  warnings.warn(\"This is an experimental feature that we has not been fully tested. Refer to the following issue:\"\n",
      "/home/sysadm/anaconda3/lib/python3.9/site-packages/contextualized_topic_models/models/ctm.py:473: Warning: This is an experimental feature that we has not been fully tested. Refer to the following issue:https://github.com/MilaNLProc/contextualized-topic-models/issues/38\n",
      "  warnings.warn(\"This is an experimental feature that we has not been fully tested. Refer to the following issue:\"\n",
      "/home/sysadm/anaconda3/lib/python3.9/site-packages/contextualized_topic_models/models/ctm.py:473: Warning: This is an experimental feature that we has not been fully tested. Refer to the following issue:https://github.com/MilaNLProc/contextualized-topic-models/issues/38\n",
      "  warnings.warn(\"This is an experimental feature that we has not been fully tested. Refer to the following issue:\"\n"
     ]
    }
   ],
   "source": [
    "ctmb1.save(models_dir=\"./\")\n",
    "ctmb2.save(models_dir=\"./\")\n",
    "ctmb3.save(models_dir=\"./\")\n",
    "ctmb4.save(models_dir=\"./\")\n",
    "ctmb5.save(models_dir=\"./\")"
   ]
  },
  {
   "cell_type": "markdown",
   "metadata": {},
   "source": [
    "# Coherence"
   ]
  },
  {
   "cell_type": "code",
   "execution_count": 59,
   "metadata": {},
   "outputs": [],
   "source": [
    "npmib1 = CoherenceNPMI(texts=texts, topics=ctmb1.get_topic_lists(10)); b1 = npmib1.score(topk=10)\n",
    "npmib2 = CoherenceNPMI(texts=texts, topics=ctmb2.get_topic_lists(10)); b2 = npmib2.score(topk=10)\n",
    "npmib3 = CoherenceNPMI(texts=texts, topics=ctmb3.get_topic_lists(10)); b3 = npmib3.score(topk=10)\n",
    "npmib4 = CoherenceNPMI(texts=texts, topics=ctmb4.get_topic_lists(10)); b4 = npmib4.score(topk=10)\n",
    "npmib5 = CoherenceNPMI(texts=texts, topics=ctmb5.get_topic_lists(10)); b5 = npmib5.score(topk=10)"
   ]
  },
  {
   "cell_type": "code",
   "execution_count": 60,
   "metadata": {},
   "outputs": [
    {
     "name": "stdout",
     "output_type": "stream",
     "text": [
      "for 10 topics, the coherenceNPMI is 0.13507450943977184\n",
      "for 20 topics, the coherenceNPMI is 0.11315771216756194\n",
      "for 30 topics, the coherenceNPMI is 0.11376483362774899\n",
      "for 50 topics, the coherenceNPMI is 0.0902760506650854\n",
      "for 100 topics, the coherenceNPMI is 0.11909259288728961\n"
     ]
    }
   ],
   "source": [
    "print(f\"for 10 topics, the coherenceNPMI is {b1}\")\n",
    "print(f\"for 20 topics, the coherenceNPMI is {b2}\")\n",
    "print(f\"for 30 topics, the coherenceNPMI is {b3}\")\n",
    "print(f\"for 50 topics, the coherenceNPMI is {b4}\")\n",
    "print(f\"for 100 topics, the coherenceNPMI is {b5}\")"
   ]
  },
  {
   "cell_type": "markdown",
   "metadata": {},
   "source": [
    "# Diversity"
   ]
  },
  {
   "cell_type": "code",
   "execution_count": 61,
   "metadata": {},
   "outputs": [],
   "source": [
    "tdb1 = TopicDiversity(topics=ctmb1.get_topic_lists(10)); tb1 = tdb1.score(topk=10)\n",
    "tdb2 = TopicDiversity(topics=ctmb2.get_topic_lists(10)); tb2 = tdb2.score(topk=10)\n",
    "tdb3 = TopicDiversity(topics=ctmb3.get_topic_lists(10)); tb3 = tdb3.score(topk=10)\n",
    "tdb4 = TopicDiversity(topics=ctmb4.get_topic_lists(10)); tb4 = tdb4.score(topk=10)\n",
    "tdb5 = TopicDiversity(topics=ctmb5.get_topic_lists(10)); tb5 = tdb5.score(topk=10)"
   ]
  },
  {
   "cell_type": "code",
   "execution_count": 62,
   "metadata": {},
   "outputs": [
    {
     "name": "stdout",
     "output_type": "stream",
     "text": [
      "for 10 topics, the TopicDiversity is 0.95\n",
      "for 20 topics, the TopicDiversity is 0.88\n",
      "for 30 topics, the TopicDiversity is 0.79\n",
      "for 50 topics, the TopicDiversity is 0.672\n",
      "for 100 topics, the TopicDiversity is 0.479\n"
     ]
    }
   ],
   "source": [
    "print(f\"for 10 topics, the TopicDiversity is {tb1}\")\n",
    "print(f\"for 20 topics, the TopicDiversity is {tb2}\")\n",
    "print(f\"for 30 topics, the TopicDiversity is {tb3}\")\n",
    "print(f\"for 50 topics, the TopicDiversity is {tb4}\")\n",
    "print(f\"for 100 topics, the TopicDiversity is {tb5}\")"
   ]
  },
  {
   "cell_type": "markdown",
   "metadata": {},
   "source": [
    "# Test Performance"
   ]
  },
  {
   "cell_type": "code",
   "execution_count": 63,
   "metadata": {},
   "outputs": [
    {
     "name": "stderr",
     "output_type": "stream",
     "text": [
      "/home/sysadm/anaconda3/lib/python3.9/site-packages/contextualized_topic_models/utils/data_preparation.py:57: UserWarning: the longest document in your collection has 9507 words, the model instead truncates to 128 tokens.\n",
      "  warnings.warn(f\"the longest document in your collection has {max_local_length} words, the model instead \"\n"
     ]
    },
    {
     "data": {
      "application/vnd.jupyter.widget-view+json": {
       "model_id": "750013a669b24ee49b7970b292766da6",
       "version_major": 2,
       "version_minor": 0
      },
      "text/plain": [
       "Batches:   0%|          | 0/37 [00:00<?, ?it/s]"
      ]
     },
     "metadata": {},
     "output_type": "display_data"
    },
    {
     "name": "stderr",
     "output_type": "stream",
     "text": [
      "/home/sysadm/anaconda3/lib/python3.9/site-packages/sklearn/utils/deprecation.py:87: FutureWarning: Function get_feature_names is deprecated; get_feature_names is deprecated in 1.0 and will be removed in 1.2. Please use get_feature_names_out instead.\n",
      "  warnings.warn(msg, category=FutureWarning)\n",
      "Epoch: [100/100]\t Seen Samples: [726400/726700]\tTrain Loss: 423.2370965764386\tTime: 0:00:04.950486: : 100it [08:21,  5.02s/it]\n",
      "Sampling: [20/20]: : 20it [00:29,  1.48s/it]\n",
      "Epoch: [100/100]\t Seen Samples: [726400/726700]\tTrain Loss: 420.9559285840274\tTime: 0:00:05.043370: : 100it [08:25,  5.05s/it]\n",
      "Sampling: [20/20]: : 20it [00:32,  1.63s/it]\n",
      "Epoch: [100/100]\t Seen Samples: [726400/726700]\tTrain Loss: 422.40461273865554\tTime: 0:00:05.063012: : 100it [08:28,  5.08s/it]\n",
      "Sampling: [20/20]: : 20it [00:32,  1.64s/it]\n",
      "Epoch: [100/100]\t Seen Samples: [726400/726700]\tTrain Loss: 427.0021565979273\tTime: 0:00:05.247055: : 100it [08:41,  5.22s/it]\n",
      "Sampling: [20/20]: : 20it [00:30,  1.52s/it]\n",
      "Epoch: [100/100]\t Seen Samples: [726400/726700]\tTrain Loss: 444.50667548494715\tTime: 0:00:05.631741: : 100it [09:15,  5.55s/it]\n",
      "Sampling: [20/20]: : 20it [00:32,  1.64s/it]\n"
     ]
    },
    {
     "name": "stdout",
     "output_type": "stream",
     "text": [
      "for 10 topics, the coherenceNPMI is 0.014022843967265181\n",
      "for 20 topics, the coherenceNPMI is 0.06976623736940395\n",
      "for 30 topics, the coherenceNPMI is 0.05359577595561638\n",
      "for 50 topics, the coherenceNPMI is 0.06516649142110481\n",
      "for 100 topics, the coherenceNPMI is 0.056172406589577645\n",
      "for 10 topics, the TopicDiversity is 0.88\n",
      "for 20 topics, the TopicDiversity is 0.91\n",
      "for 30 topics, the TopicDiversity is 0.8366666666666667\n",
      "for 50 topics, the TopicDiversity is 0.722\n",
      "for 100 topics, the TopicDiversity is 0.479\n"
     ]
    }
   ],
   "source": [
    "testing_dataset2=tpb.fit(text_for_contextual=unpreprocessed_corpus_test, text_for_bow=preprocessed_documents_test)\n",
    "\n",
    "ctmb1.fit(testing_dataset2)\n",
    "ctmb2.fit(testing_dataset2) \n",
    "ctmb3.fit(testing_dataset2)\n",
    "ctmb4.fit(testing_dataset2)\n",
    "ctmb5.fit(testing_dataset2)\n",
    "\n",
    "npmib1_test = CoherenceNPMI(texts=texts_test, topics=ctmb1.get_topic_lists(10)); b1_test = npmib1_test.score(topk=10)\n",
    "npmib2_test = CoherenceNPMI(texts=texts_test, topics=ctmb2.get_topic_lists(10)); b2_test = npmib2_test.score(topk=10)\n",
    "npmib3_test = CoherenceNPMI(texts=texts_test, topics=ctmb3.get_topic_lists(10)); b3_test = npmib3_test.score(topk=10)\n",
    "npmib4_test = CoherenceNPMI(texts=texts_test, topics=ctmb4.get_topic_lists(10)); b4_test = npmib4_test.score(topk=10)\n",
    "npmib5_test = CoherenceNPMI(texts=texts_test, topics=ctmb5.get_topic_lists(10)); b5_test = npmib5_test.score(topk=10)\n",
    "\n",
    "print(f\"for 10 topics, the coherenceNPMI is {b1_test}\")\n",
    "print(f\"for 20 topics, the coherenceNPMI is {b2_test}\")\n",
    "print(f\"for 30 topics, the coherenceNPMI is {b3_test}\")\n",
    "print(f\"for 50 topics, the coherenceNPMI is {b4_test}\")\n",
    "print(f\"for 100 topics, the coherenceNPMI is {b5_test}\")\n",
    "\n",
    "tdb1_test = TopicDiversity(topics=ctmb1.get_topic_lists(10)); tb1_test = tdb1_test.score(topk=10)\n",
    "tdb2_test = TopicDiversity(topics=ctmb2.get_topic_lists(10)); tb2_test = tdb2_test.score(topk=10)\n",
    "tdb3_test = TopicDiversity(topics=ctmb3.get_topic_lists(10)); tb3_test = tdb3_test.score(topk=10)\n",
    "tdb4_test = TopicDiversity(topics=ctmb4.get_topic_lists(10)); tb4_test = tdb4_test.score(topk=10)\n",
    "tdb5_test = TopicDiversity(topics=ctmb5.get_topic_lists(10)); tb5_test = tdb5_test.score(topk=10)\n",
    "\n",
    "print(f\"for 10 topics, the TopicDiversity is {tb1_test}\")\n",
    "print(f\"for 20 topics, the TopicDiversity is {tb2_test}\")\n",
    "print(f\"for 30 topics, the TopicDiversity is {tb3_test}\")\n",
    "print(f\"for 50 topics, the TopicDiversity is {tb4_test}\")\n",
    "print(f\"for 100 topics, the TopicDiversity is {tb5_test}\")"
   ]
  },
  {
   "cell_type": "markdown",
   "metadata": {},
   "source": [
    "# Plot for Train"
   ]
  },
  {
   "cell_type": "code",
   "execution_count": 64,
   "metadata": {},
   "outputs": [
    {
     "data": {
      "image/png": "[encoded data removed]",
      "text/plain": [
       "<Figure size 432x288 with 1 Axes>"
      ]
     },
     "metadata": {
      "needs_background": "light"
     },
     "output_type": "display_data"
    }
   ],
   "source": [
    "xb1 = np.array([10, 20, 30, 50, 100])\n",
    "yb1 = np.array([b1, b2, b3, b4, b5])\n",
    "\n",
    "plt.xlabel('Number of Topics')\n",
    "plt.ylabel('CoherenceNPMI')\n",
    "\n",
    "plt.title(\"CoherenceNPMI vs Number of Topics\")\n",
    "\n",
    "plt.plot(xb1, yb1)\n",
    "plt.show()"
   ]
  },
  {
   "cell_type": "code",
   "execution_count": 65,
   "metadata": {},
   "outputs": [
    {
     "data": {
      "image/png": "[encoded data removed]",
      "text/plain": [
       "<Figure size 432x288 with 1 Axes>"
      ]
     },
     "metadata": {
      "needs_background": "light"
     },
     "output_type": "display_data"
    }
   ],
   "source": [
    "xb2 = np.array([10, 20, 30, 50, 100])\n",
    "yb2 = np.array([tb1, tb2, tb3, tb4, tb5])\n",
    "\n",
    "plt.xlabel('Number of Topics')\n",
    "plt.ylabel('TopicDiversity')\n",
    "\n",
    "plt.title(\"Topic Diversity vs Number of Topics\")\n",
    "\n",
    "plt.plot(xb2, yb2)\n",
    "plt.show()"
   ]
  },
  {
   "cell_type": "code",
   "execution_count": 66,
   "metadata": {},
   "outputs": [
    {
     "data": {
      "text/html": [
       "<div>\n",
       "<style scoped>\n",
       "    .dataframe tbody tr th:only-of-type {\n",
       "        vertical-align: middle;\n",
       "    }\n",
       "\n",
       "    .dataframe tbody tr th {\n",
       "        vertical-align: top;\n",
       "    }\n",
       "\n",
       "    .dataframe thead th {\n",
       "        text-align: right;\n",
       "    }\n",
       "</style>\n",
       "<table border=\"1\" class=\"dataframe\">\n",
       "  <thead>\n",
       "    <tr style=\"text-align: right;\">\n",
       "      <th></th>\n",
       "      <th>Number of Topics</th>\n",
       "      <th>CoherenceNPMI</th>\n",
       "      <th>TopicDiversity</th>\n",
       "    </tr>\n",
       "  </thead>\n",
       "  <tbody>\n",
       "    <tr>\n",
       "      <th>0</th>\n",
       "      <td>10</td>\n",
       "      <td>0.135075</td>\n",
       "      <td>0.950</td>\n",
       "    </tr>\n",
       "    <tr>\n",
       "      <th>1</th>\n",
       "      <td>20</td>\n",
       "      <td>0.113158</td>\n",
       "      <td>0.880</td>\n",
       "    </tr>\n",
       "    <tr>\n",
       "      <th>2</th>\n",
       "      <td>30</td>\n",
       "      <td>0.113765</td>\n",
       "      <td>0.790</td>\n",
       "    </tr>\n",
       "    <tr>\n",
       "      <th>3</th>\n",
       "      <td>50</td>\n",
       "      <td>0.090276</td>\n",
       "      <td>0.672</td>\n",
       "    </tr>\n",
       "    <tr>\n",
       "      <th>4</th>\n",
       "      <td>100</td>\n",
       "      <td>0.119093</td>\n",
       "      <td>0.479</td>\n",
       "    </tr>\n",
       "  </tbody>\n",
       "</table>\n",
       "</div>"
      ],
      "text/plain": [
       "   Number of Topics  CoherenceNPMI  TopicDiversity\n",
       "0                10       0.135075           0.950\n",
       "1                20       0.113158           0.880\n",
       "2                30       0.113765           0.790\n",
       "3                50       0.090276           0.672\n",
       "4               100       0.119093           0.479"
      ]
     },
     "execution_count": 66,
     "metadata": {},
     "output_type": "execute_result"
    }
   ],
   "source": [
    "dict2 = {'Number of Topics' : [10, 20, 30, 50, 100], \n",
    "         'CoherenceNPMI' : [b1, b2, b3, b4, b5], \n",
    "         'TopicDiversity' : [tb1, tb2, tb3, tb4, tb5]}\n",
    "df2 = pd.DataFrame(dict2); df2"
   ]
  },
  {
   "cell_type": "markdown",
   "metadata": {},
   "source": [
    "# 3. Using \"bert-base-nli-mean-tokens\" as PLM"
   ]
  },
  {
   "cell_type": "code",
   "execution_count": 67,
   "metadata": {},
   "outputs": [],
   "source": [
    "tpc = TopicModelDataPreparation(\"bert-base-nli-mean-tokens\")"
   ]
  },
  {
   "cell_type": "code",
   "execution_count": 68,
   "metadata": {},
   "outputs": [
    {
     "name": "stderr",
     "output_type": "stream",
     "text": [
      "/home/sysadm/anaconda3/lib/python3.9/site-packages/contextualized_topic_models/utils/data_preparation.py:57: UserWarning: the longest document in your collection has 11765 words, the model instead truncates to 128 tokens.\n",
      "  warnings.warn(f\"the longest document in your collection has {max_local_length} words, the model instead \"\n"
     ]
    },
    {
     "data": {
      "application/vnd.jupyter.widget-view+json": {
       "model_id": "04e1d025e28646ffaf64fa1407f8f8f4",
       "version_major": 2,
       "version_minor": 0
      },
      "text/plain": [
       "Batches:   0%|          | 0/55 [00:00<?, ?it/s]"
      ]
     },
     "metadata": {},
     "output_type": "display_data"
    },
    {
     "name": "stderr",
     "output_type": "stream",
     "text": [
      "/home/sysadm/anaconda3/lib/python3.9/site-packages/sklearn/utils/deprecation.py:87: FutureWarning: Function get_feature_names is deprecated; get_feature_names is deprecated in 1.0 and will be removed in 1.2. Please use get_feature_names_out instead.\n",
      "  warnings.warn(msg, category=FutureWarning)\n"
     ]
    }
   ],
   "source": [
    "training_dataset3=tpc.fit(text_for_contextual=unpreprocessed_corpus, text_for_bow=preprocessed_documents)"
   ]
  },
  {
   "cell_type": "code",
   "execution_count": 69,
   "metadata": {},
   "outputs": [],
   "source": [
    "ctmc1 = CombinedTM(bow_size=len(tpc.vocab), contextual_size=768, model_type='prodLDA',\n",
    "                 dropout=0.2, batch_size=32, lr=0.01, solver='adam',\n",
    "                 n_components=10, num_epochs=100)\n",
    "ctmc2 = CombinedTM(bow_size=len(tpc.vocab), contextual_size=768, model_type='prodLDA',\n",
    "                 dropout=0.2, batch_size=32, lr=0.01, solver='adam',\n",
    "                 n_components=20, num_epochs=100)\n",
    "ctmc3 = CombinedTM(bow_size=len(tpc.vocab), contextual_size=768, model_type='prodLDA',\n",
    "                 dropout=0.2, batch_size=32, lr=0.01, solver='adam',\n",
    "                 n_components=30, num_epochs=100)\n",
    "ctmc4 = CombinedTM(bow_size=len(tpc.vocab), contextual_size=768, model_type='prodLDA',\n",
    "                 dropout=0.2, batch_size=32, lr=0.01, solver='adam',\n",
    "                 n_components=50, num_epochs=100)\n",
    "ctmc5 = CombinedTM(bow_size=len(tpc.vocab), contextual_size=768, model_type='prodLDA',\n",
    "                 dropout=0.2, batch_size=32, lr=0.01, solver='adam',\n",
    "                 n_components=100, num_epochs=100)"
   ]
  },
  {
   "cell_type": "code",
   "execution_count": 70,
   "metadata": {},
   "outputs": [
    {
     "name": "stderr",
     "output_type": "stream",
     "text": [
      "Epoch: [100/100]\t Seen Samples: [1094400/1095100]\tTrain Loss: 467.13941598635665\tTime: 0:00:06.153602: : 100it [09:53,  5.93s/it]\n",
      "Sampling: [20/20]: : 20it [00:33,  1.66s/it]\n",
      "Epoch: [100/100]\t Seen Samples: [1094400/1095100]\tTrain Loss: 457.2665548045733\tTime: 0:00:05.912193: : 100it [09:58,  5.98s/it]\n",
      "Sampling: [20/20]: : 20it [00:33,  1.67s/it]\n",
      "Epoch: [100/100]\t Seen Samples: [1094400/1095100]\tTrain Loss: 455.31866593388787\tTime: 0:00:06.274658: : 100it [10:36,  6.37s/it]\n",
      "Sampling: [20/20]: : 20it [00:35,  1.78s/it]\n",
      "Epoch: [100/100]\t Seen Samples: [1094400/1095100]\tTrain Loss: 459.93027460644817\tTime: 0:00:06.265038: : 100it [10:26,  6.26s/it]\n",
      "Sampling: [20/20]: : 20it [00:35,  1.79s/it]\n",
      "Epoch: [100/100]\t Seen Samples: [1094400/1095100]\tTrain Loss: 477.37565568176626\tTime: 0:00:06.655711: : 100it [11:00,  6.61s/it]\n",
      "Sampling: [20/20]: : 20it [00:37,  1.88s/it]\n"
     ]
    }
   ],
   "source": [
    "ctmc1.fit(training_dataset3)\n",
    "ctmc2.fit(training_dataset3)\n",
    "ctmc3.fit(training_dataset3)\n",
    "ctmc4.fit(training_dataset3)\n",
    "ctmc5.fit(training_dataset3)"
   ]
  },
  {
   "cell_type": "code",
   "execution_count": 71,
   "metadata": {},
   "outputs": [
    {
     "name": "stderr",
     "output_type": "stream",
     "text": [
      "/home/sysadm/anaconda3/lib/python3.9/site-packages/contextualized_topic_models/models/ctm.py:473: Warning: This is an experimental feature that we has not been fully tested. Refer to the following issue:https://github.com/MilaNLProc/contextualized-topic-models/issues/38\n",
      "  warnings.warn(\"This is an experimental feature that we has not been fully tested. Refer to the following issue:\"\n",
      "/home/sysadm/anaconda3/lib/python3.9/site-packages/contextualized_topic_models/models/ctm.py:473: Warning: This is an experimental feature that we has not been fully tested. Refer to the following issue:https://github.com/MilaNLProc/contextualized-topic-models/issues/38\n",
      "  warnings.warn(\"This is an experimental feature that we has not been fully tested. Refer to the following issue:\"\n",
      "/home/sysadm/anaconda3/lib/python3.9/site-packages/contextualized_topic_models/models/ctm.py:473: Warning: This is an experimental feature that we has not been fully tested. Refer to the following issue:https://github.com/MilaNLProc/contextualized-topic-models/issues/38\n",
      "  warnings.warn(\"This is an experimental feature that we has not been fully tested. Refer to the following issue:\"\n",
      "/home/sysadm/anaconda3/lib/python3.9/site-packages/contextualized_topic_models/models/ctm.py:473: Warning: This is an experimental feature that we has not been fully tested. Refer to the following issue:https://github.com/MilaNLProc/contextualized-topic-models/issues/38\n",
      "  warnings.warn(\"This is an experimental feature that we has not been fully tested. Refer to the following issue:\"\n",
      "/home/sysadm/anaconda3/lib/python3.9/site-packages/contextualized_topic_models/models/ctm.py:473: Warning: This is an experimental feature that we has not been fully tested. Refer to the following issue:https://github.com/MilaNLProc/contextualized-topic-models/issues/38\n",
      "  warnings.warn(\"This is an experimental feature that we has not been fully tested. Refer to the following issue:\"\n"
     ]
    }
   ],
   "source": [
    "ctmc1.save(models_dir=\"./\")\n",
    "ctmc2.save(models_dir=\"./\")\n",
    "ctmc3.save(models_dir=\"./\")\n",
    "ctmc4.save(models_dir=\"./\")\n",
    "ctmc5.save(models_dir=\"./\")"
   ]
  },
  {
   "cell_type": "markdown",
   "metadata": {},
   "source": [
    "# Train Performance"
   ]
  },
  {
   "cell_type": "code",
   "execution_count": 72,
   "metadata": {},
   "outputs": [],
   "source": [
    "npmic1 = CoherenceNPMI(texts=texts, topics=ctmc1.get_topic_lists(10)); c1 = npmic1.score(topk=10)\n",
    "npmic2 = CoherenceNPMI(texts=texts, topics=ctmc2.get_topic_lists(10)); c2 = npmic2.score(topk=10)\n",
    "npmic3 = CoherenceNPMI(texts=texts, topics=ctmc3.get_topic_lists(10)); c3 = npmic3.score(topk=10)\n",
    "npmic4 = CoherenceNPMI(texts=texts, topics=ctmc4.get_topic_lists(10)); c4 = npmic4.score(topk=10)\n",
    "npmic5 = CoherenceNPMI(texts=texts, topics=ctmc5.get_topic_lists(10)); c5 = npmic5.score(topk=10)"
   ]
  },
  {
   "cell_type": "code",
   "execution_count": 73,
   "metadata": {},
   "outputs": [
    {
     "name": "stdout",
     "output_type": "stream",
     "text": [
      "for 10 topics, the coherenceNPMI is 0.16341945875135283\n",
      "for 20 topics, the coherenceNPMI is 0.14529102723548162\n",
      "for 30 topics, the coherenceNPMI is 0.11060492543598659\n",
      "for 50 topics, the coherenceNPMI is 0.09297755881015819\n",
      "for 100 topics, the coherenceNPMI is 0.11668193679201788\n"
     ]
    }
   ],
   "source": [
    "print(f\"for 10 topics, the coherenceNPMI is {c1}\")\n",
    "print(f\"for 20 topics, the coherenceNPMI is {c2}\")\n",
    "print(f\"for 30 topics, the coherenceNPMI is {c3}\")\n",
    "print(f\"for 50 topics, the coherenceNPMI is {c4}\")\n",
    "print(f\"for 100 topics, the coherenceNPMI is {c5}\")"
   ]
  },
  {
   "cell_type": "code",
   "execution_count": 74,
   "metadata": {},
   "outputs": [],
   "source": [
    "tdc1 = TopicDiversity(topics=ctmc1.get_topic_lists(10)); tc1 = tdc1.score(topk=10)\n",
    "tdc2 = TopicDiversity(topics=ctmc2.get_topic_lists(10)); tc2 = tdc2.score(topk=10)\n",
    "tdc3 = TopicDiversity(topics=ctmc3.get_topic_lists(10)); tc3 = tdc3.score(topk=10)\n",
    "tdc4 = TopicDiversity(topics=ctmc4.get_topic_lists(10)); tc4 = tdc4.score(topk=10)\n",
    "tdc5 = TopicDiversity(topics=ctmc5.get_topic_lists(10)); tc5 = tdc5.score(topk=10)"
   ]
  },
  {
   "cell_type": "code",
   "execution_count": 75,
   "metadata": {},
   "outputs": [
    {
     "name": "stdout",
     "output_type": "stream",
     "text": [
      "for 10 topics, the TopicDiversity is 0.96\n",
      "for 20 topics, the TopicDiversity is 0.85\n",
      "for 30 topics, the TopicDiversity is 0.7933333333333333\n",
      "for 50 topics, the TopicDiversity is 0.71\n",
      "for 100 topics, the TopicDiversity is 0.475\n"
     ]
    }
   ],
   "source": [
    "print(f\"for 10 topics, the TopicDiversity is {tc1}\")\n",
    "print(f\"for 20 topics, the TopicDiversity is {tc2}\")\n",
    "print(f\"for 30 topics, the TopicDiversity is {tc3}\")\n",
    "print(f\"for 50 topics, the TopicDiversity is {tc4}\")\n",
    "print(f\"for 100 topics, the TopicDiversity is {tc5}\")"
   ]
  },
  {
   "cell_type": "markdown",
   "metadata": {},
   "source": [
    "# Test Performance"
   ]
  },
  {
   "cell_type": "code",
   "execution_count": 76,
   "metadata": {},
   "outputs": [
    {
     "name": "stderr",
     "output_type": "stream",
     "text": [
      "/home/sysadm/anaconda3/lib/python3.9/site-packages/contextualized_topic_models/utils/data_preparation.py:57: UserWarning: the longest document in your collection has 9507 words, the model instead truncates to 128 tokens.\n",
      "  warnings.warn(f\"the longest document in your collection has {max_local_length} words, the model instead \"\n"
     ]
    },
    {
     "data": {
      "application/vnd.jupyter.widget-view+json": {
       "model_id": "3def1a6345a648d6b9c3e2c36ebc8c09",
       "version_major": 2,
       "version_minor": 0
      },
      "text/plain": [
       "Batches:   0%|          | 0/37 [00:00<?, ?it/s]"
      ]
     },
     "metadata": {},
     "output_type": "display_data"
    },
    {
     "name": "stderr",
     "output_type": "stream",
     "text": [
      "/home/sysadm/anaconda3/lib/python3.9/site-packages/sklearn/utils/deprecation.py:87: FutureWarning: Function get_feature_names is deprecated; get_feature_names is deprecated in 1.0 and will be removed in 1.2. Please use get_feature_names_out instead.\n",
      "  warnings.warn(msg, category=FutureWarning)\n",
      "Epoch: [100/100]\t Seen Samples: [726400/726700]\tTrain Loss: 423.00105352863864\tTime: 0:00:04.464214: : 100it [07:32,  4.52s/it]\n",
      "Sampling: [20/20]: : 20it [00:26,  1.34s/it]\n",
      "Epoch: [100/100]\t Seen Samples: [726400/726700]\tTrain Loss: 420.23877766478955\tTime: 0:00:04.366490: : 100it [07:16,  4.36s/it]\n",
      "Sampling: [20/20]: : 20it [00:28,  1.41s/it]\n",
      "Epoch: [100/100]\t Seen Samples: [726400/726700]\tTrain Loss: 422.8354381275597\tTime: 0:00:04.488551: : 100it [07:25,  4.46s/it]\n",
      "Sampling: [20/20]: : 20it [00:28,  1.45s/it]\n",
      "Epoch: [100/100]\t Seen Samples: [726400/726700]\tTrain Loss: 427.4842462749733\tTime: 0:00:04.621960: : 100it [07:28,  4.48s/it]\n",
      "Sampling: [20/20]: : 20it [00:28,  1.45s/it]\n",
      "Epoch: [100/100]\t Seen Samples: [726400/726700]\tTrain Loss: 443.8801703095961\tTime: 0:00:04.871671: : 100it [07:48,  4.69s/it]\n",
      "Sampling: [20/20]: : 20it [00:30,  1.50s/it]\n"
     ]
    },
    {
     "name": "stdout",
     "output_type": "stream",
     "text": [
      "for 10 topics, the coherenceNPMI is 0.012100127138184494\n",
      "for 20 topics, the coherenceNPMI is 0.014712533629366906\n",
      "for 30 topics, the coherenceNPMI is 0.09828489152397285\n",
      "for 50 topics, the coherenceNPMI is 0.07836029267526741\n",
      "for 100 topics, the coherenceNPMI is 0.0652919971008017\n",
      "for 10 topics, the TopicDiversity is 0.89\n",
      "for 20 topics, the TopicDiversity is 0.885\n",
      "for 30 topics, the TopicDiversity is 0.87\n",
      "for 50 topics, the TopicDiversity is 0.714\n",
      "for 100 topics, the TopicDiversity is 0.514\n"
     ]
    }
   ],
   "source": [
    "testing_dataset3=tpc.fit(text_for_contextual=unpreprocessed_corpus_test, text_for_bow=preprocessed_documents_test)\n",
    "\n",
    "ctmc1.fit(testing_dataset3)\n",
    "ctmc2.fit(testing_dataset3) \n",
    "ctmc3.fit(testing_dataset3)\n",
    "ctmc4.fit(testing_dataset3)\n",
    "ctmc5.fit(testing_dataset3)\n",
    "\n",
    "npmic1_test = CoherenceNPMI(texts=texts_test, topics=ctmc1.get_topic_lists(10)); c1_test = npmic1_test.score(topk=10)\n",
    "npmic2_test = CoherenceNPMI(texts=texts_test, topics=ctmc2.get_topic_lists(10)); c2_test = npmic2_test.score(topk=10)\n",
    "npmic3_test = CoherenceNPMI(texts=texts_test, topics=ctmc3.get_topic_lists(10)); c3_test = npmic3_test.score(topk=10)\n",
    "npmic4_test = CoherenceNPMI(texts=texts_test, topics=ctmc4.get_topic_lists(10)); c4_test = npmic4_test.score(topk=10)\n",
    "npmic5_test = CoherenceNPMI(texts=texts_test, topics=ctmc5.get_topic_lists(10)); c5_test = npmic5_test.score(topk=10)\n",
    "\n",
    "print(f\"for 10 topics, the coherenceNPMI is {c1_test}\")\n",
    "print(f\"for 20 topics, the coherenceNPMI is {c2_test}\")\n",
    "print(f\"for 30 topics, the coherenceNPMI is {c3_test}\")\n",
    "print(f\"for 50 topics, the coherenceNPMI is {c4_test}\")\n",
    "print(f\"for 100 topics, the coherenceNPMI is {c5_test}\")\n",
    "\n",
    "tdc1_test = TopicDiversity(topics=ctmc1.get_topic_lists(10)); tc1_test = tdc1_test.score(topk=10)\n",
    "tdc2_test = TopicDiversity(topics=ctmc2.get_topic_lists(10)); tc2_test = tdc2_test.score(topk=10)\n",
    "tdc3_test = TopicDiversity(topics=ctmc3.get_topic_lists(10)); tc3_test = tdc3_test.score(topk=10)\n",
    "tdc4_test = TopicDiversity(topics=ctmc4.get_topic_lists(10)); tc4_test = tdc4_test.score(topk=10)\n",
    "tdc5_test = TopicDiversity(topics=ctmc5.get_topic_lists(10)); tc5_test = tdc5_test.score(topk=10)\n",
    "\n",
    "print(f\"for 10 topics, the TopicDiversity is {tc1_test}\")\n",
    "print(f\"for 20 topics, the TopicDiversity is {tc2_test}\")\n",
    "print(f\"for 30 topics, the TopicDiversity is {tc3_test}\")\n",
    "print(f\"for 50 topics, the TopicDiversity is {tc4_test}\")\n",
    "print(f\"for 100 topics, the TopicDiversity is {tc5_test}\")"
   ]
  },
  {
   "cell_type": "markdown",
   "metadata": {},
   "source": [
    "# Plot Train performance"
   ]
  },
  {
   "cell_type": "code",
   "execution_count": 77,
   "metadata": {},
   "outputs": [
    {
     "data": {
      "image/png": "[encoded data removed]",
      "text/plain": [
       "<Figure size 432x288 with 1 Axes>"
      ]
     },
     "metadata": {
      "needs_background": "light"
     },
     "output_type": "display_data"
    }
   ],
   "source": [
    "xc1 = np.array([10, 20, 30, 50, 100])\n",
    "yc1 = np.array([c1, c2, c3, c4, c5])\n",
    "\n",
    "plt.xlabel('Number of Topics')\n",
    "plt.ylabel('CoherenceNPMI')\n",
    "\n",
    "plt.title(\"CoherenceNPMI vs Number of Topics\")\n",
    "\n",
    "plt.plot(xc1, yc1)\n",
    "plt.show()"
   ]
  },
  {
   "cell_type": "code",
   "execution_count": 78,
   "metadata": {},
   "outputs": [
    {
     "data": {
      "image/png": "[encoded data removed]",
      "text/plain": [
       "<Figure size 432x288 with 1 Axes>"
      ]
     },
     "metadata": {
      "needs_background": "light"
     },
     "output_type": "display_data"
    }
   ],
   "source": [
    "xc2 = np.array([10, 20, 30, 50, 100])\n",
    "yc2 = np.array([tc1, tc2, tc3, tc4, tc5])\n",
    "\n",
    "plt.xlabel('Number of Topics')\n",
    "plt.ylabel('TopicDiversity')\n",
    "\n",
    "plt.title(\"TopicDiversity vs Number of Topics\")\n",
    "\n",
    "plt.plot(xc2, yc2)\n",
    "plt.show()"
   ]
  },
  {
   "cell_type": "code",
   "execution_count": 79,
   "metadata": {},
   "outputs": [
    {
     "data": {
      "text/html": [
       "<div>\n",
       "<style scoped>\n",
       "    .dataframe tbody tr th:only-of-type {\n",
       "        vertical-align: middle;\n",
       "    }\n",
       "\n",
       "    .dataframe tbody tr th {\n",
       "        vertical-align: top;\n",
       "    }\n",
       "\n",
       "    .dataframe thead th {\n",
       "        text-align: right;\n",
       "    }\n",
       "</style>\n",
       "<table border=\"1\" class=\"dataframe\">\n",
       "  <thead>\n",
       "    <tr style=\"text-align: right;\">\n",
       "      <th></th>\n",
       "      <th>Number of Topics</th>\n",
       "      <th>CoherenceNPMI</th>\n",
       "      <th>TopicDiversity</th>\n",
       "    </tr>\n",
       "  </thead>\n",
       "  <tbody>\n",
       "    <tr>\n",
       "      <th>0</th>\n",
       "      <td>10</td>\n",
       "      <td>0.163419</td>\n",
       "      <td>0.960000</td>\n",
       "    </tr>\n",
       "    <tr>\n",
       "      <th>1</th>\n",
       "      <td>20</td>\n",
       "      <td>0.145291</td>\n",
       "      <td>0.850000</td>\n",
       "    </tr>\n",
       "    <tr>\n",
       "      <th>2</th>\n",
       "      <td>30</td>\n",
       "      <td>0.110605</td>\n",
       "      <td>0.793333</td>\n",
       "    </tr>\n",
       "    <tr>\n",
       "      <th>3</th>\n",
       "      <td>50</td>\n",
       "      <td>0.092978</td>\n",
       "      <td>0.710000</td>\n",
       "    </tr>\n",
       "    <tr>\n",
       "      <th>4</th>\n",
       "      <td>100</td>\n",
       "      <td>0.116682</td>\n",
       "      <td>0.475000</td>\n",
       "    </tr>\n",
       "  </tbody>\n",
       "</table>\n",
       "</div>"
      ],
      "text/plain": [
       "   Number of Topics  CoherenceNPMI  TopicDiversity\n",
       "0                10       0.163419        0.960000\n",
       "1                20       0.145291        0.850000\n",
       "2                30       0.110605        0.793333\n",
       "3                50       0.092978        0.710000\n",
       "4               100       0.116682        0.475000"
      ]
     },
     "execution_count": 79,
     "metadata": {},
     "output_type": "execute_result"
    }
   ],
   "source": [
    "dict3 = {'Number of Topics' : [10, 20, 30, 50, 100], \n",
    "         'CoherenceNPMI' : [c1, c2, c3, c4, c5], \n",
    "         'TopicDiversity' : [tc1, tc2, tc3, tc4, tc5]}\n",
    "df3 = pd.DataFrame(dict3); df3"
   ]
  },
  {
   "cell_type": "markdown",
   "metadata": {},
   "source": [
    "# 4. Using \"all-distilroberta-v1\" as PLM"
   ]
  },
  {
   "cell_type": "code",
   "execution_count": 80,
   "metadata": {},
   "outputs": [],
   "source": [
    "tpd = TopicModelDataPreparation(\"all-distilroberta-v1\")"
   ]
  },
  {
   "cell_type": "code",
   "execution_count": 81,
   "metadata": {},
   "outputs": [
    {
     "name": "stderr",
     "output_type": "stream",
     "text": [
      "/home/sysadm/anaconda3/lib/python3.9/site-packages/contextualized_topic_models/utils/data_preparation.py:57: UserWarning: the longest document in your collection has 11765 words, the model instead truncates to 128 tokens.\n",
      "  warnings.warn(f\"the longest document in your collection has {max_local_length} words, the model instead \"\n"
     ]
    },
    {
     "data": {
      "application/vnd.jupyter.widget-view+json": {
       "model_id": "c80333d2f2ca4ba5ae41d01300d51865",
       "version_major": 2,
       "version_minor": 0
      },
      "text/plain": [
       "Batches:   0%|          | 0/55 [00:00<?, ?it/s]"
      ]
     },
     "metadata": {},
     "output_type": "display_data"
    },
    {
     "name": "stderr",
     "output_type": "stream",
     "text": [
      "/home/sysadm/anaconda3/lib/python3.9/site-packages/sklearn/utils/deprecation.py:87: FutureWarning: Function get_feature_names is deprecated; get_feature_names is deprecated in 1.0 and will be removed in 1.2. Please use get_feature_names_out instead.\n",
      "  warnings.warn(msg, category=FutureWarning)\n"
     ]
    }
   ],
   "source": [
    "training_dataset4=tpd.fit(text_for_contextual=unpreprocessed_corpus, text_for_bow=preprocessed_documents)"
   ]
  },
  {
   "cell_type": "code",
   "execution_count": 82,
   "metadata": {},
   "outputs": [],
   "source": [
    "ctmd1 = CombinedTM(bow_size=len(tpd.vocab), contextual_size=768, model_type='prodLDA',\n",
    "                 dropout=0.2, batch_size=32, lr=0.01, solver='adam',\n",
    "                 n_components=10, num_epochs=100)\n",
    "ctmd2 = CombinedTM(bow_size=len(tpd.vocab), contextual_size=768, model_type='prodLDA',\n",
    "                 dropout=0.2, batch_size=32, lr=0.01, solver='adam',\n",
    "                 n_components=20, num_epochs=100)\n",
    "ctmd3 = CombinedTM(bow_size=len(tpd.vocab), contextual_size=768, model_type='prodLDA',\n",
    "                 dropout=0.2, batch_size=32, lr=0.01, solver='adam',\n",
    "                 n_components=30, num_epochs=100)\n",
    "ctmd4 = CombinedTM(bow_size=len(tpd.vocab), contextual_size=768, model_type='prodLDA',\n",
    "                 dropout=0.2, batch_size=32, lr=0.01, solver='adam',\n",
    "                 n_components=50, num_epochs=100)\n",
    "ctmd5 = CombinedTM(bow_size=len(tpd.vocab), contextual_size=768, model_type='prodLDA',\n",
    "                 dropout=0.2, batch_size=32, lr=0.01, solver='adam',\n",
    "                 n_components=100, num_epochs=100)"
   ]
  },
  {
   "cell_type": "code",
   "execution_count": 83,
   "metadata": {},
   "outputs": [
    {
     "name": "stderr",
     "output_type": "stream",
     "text": [
      "Epoch: [100/100]\t Seen Samples: [1094400/1095100]\tTrain Loss: 470.36755812795536\tTime: 0:00:05.825925: : 100it [10:03,  6.03s/it]\n",
      "Sampling: [20/20]: : 20it [00:34,  1.71s/it]\n",
      "Epoch: [100/100]\t Seen Samples: [1094400/1095100]\tTrain Loss: 451.09170233297067\tTime: 0:00:06.108334: : 100it [10:04,  6.04s/it]\n",
      "Sampling: [20/20]: : 20it [00:36,  1.83s/it]\n",
      "Epoch: [100/100]\t Seen Samples: [1094400/1095100]\tTrain Loss: 454.1977777313768\tTime: 0:00:06.123322: : 100it [10:05,  6.06s/it]\n",
      "Sampling: [20/20]: : 20it [00:36,  1.80s/it]\n",
      "Epoch: [100/100]\t Seen Samples: [1094400/1095100]\tTrain Loss: 455.63475527400857\tTime: 0:00:06.220213: : 100it [10:17,  6.18s/it]\n",
      "Sampling: [20/20]: : 20it [00:37,  1.87s/it]\n",
      "Epoch: [100/100]\t Seen Samples: [1094400/1095100]\tTrain Loss: 471.6491935239201\tTime: 0:00:06.530818: : 100it [10:59,  6.59s/it]\n",
      "Sampling: [20/20]: : 20it [00:38,  1.90s/it]\n"
     ]
    }
   ],
   "source": [
    "ctmd1.fit(training_dataset4)\n",
    "ctmd2.fit(training_dataset4)\n",
    "ctmd3.fit(training_dataset4)\n",
    "ctmd4.fit(training_dataset4)\n",
    "ctmd5.fit(training_dataset4)"
   ]
  },
  {
   "cell_type": "code",
   "execution_count": 84,
   "metadata": {},
   "outputs": [
    {
     "name": "stderr",
     "output_type": "stream",
     "text": [
      "/home/sysadm/anaconda3/lib/python3.9/site-packages/contextualized_topic_models/models/ctm.py:473: Warning: This is an experimental feature that we has not been fully tested. Refer to the following issue:https://github.com/MilaNLProc/contextualized-topic-models/issues/38\n",
      "  warnings.warn(\"This is an experimental feature that we has not been fully tested. Refer to the following issue:\"\n",
      "/home/sysadm/anaconda3/lib/python3.9/site-packages/contextualized_topic_models/models/ctm.py:473: Warning: This is an experimental feature that we has not been fully tested. Refer to the following issue:https://github.com/MilaNLProc/contextualized-topic-models/issues/38\n",
      "  warnings.warn(\"This is an experimental feature that we has not been fully tested. Refer to the following issue:\"\n",
      "/home/sysadm/anaconda3/lib/python3.9/site-packages/contextualized_topic_models/models/ctm.py:473: Warning: This is an experimental feature that we has not been fully tested. Refer to the following issue:https://github.com/MilaNLProc/contextualized-topic-models/issues/38\n",
      "  warnings.warn(\"This is an experimental feature that we has not been fully tested. Refer to the following issue:\"\n",
      "/home/sysadm/anaconda3/lib/python3.9/site-packages/contextualized_topic_models/models/ctm.py:473: Warning: This is an experimental feature that we has not been fully tested. Refer to the following issue:https://github.com/MilaNLProc/contextualized-topic-models/issues/38\n",
      "  warnings.warn(\"This is an experimental feature that we has not been fully tested. Refer to the following issue:\"\n",
      "/home/sysadm/anaconda3/lib/python3.9/site-packages/contextualized_topic_models/models/ctm.py:473: Warning: This is an experimental feature that we has not been fully tested. Refer to the following issue:https://github.com/MilaNLProc/contextualized-topic-models/issues/38\n",
      "  warnings.warn(\"This is an experimental feature that we has not been fully tested. Refer to the following issue:\"\n"
     ]
    }
   ],
   "source": [
    "ctmd1.save(models_dir=\"./\")\n",
    "ctmd2.save(models_dir=\"./\")\n",
    "ctmd3.save(models_dir=\"./\")\n",
    "ctmd4.save(models_dir=\"./\")\n",
    "ctmd5.save(models_dir=\"./\")"
   ]
  },
  {
   "cell_type": "markdown",
   "metadata": {},
   "source": [
    "# Train Performance"
   ]
  },
  {
   "cell_type": "code",
   "execution_count": 85,
   "metadata": {},
   "outputs": [],
   "source": [
    "npmid1 = CoherenceNPMI(texts=texts, topics=ctmd1.get_topic_lists(10)); d1 = npmid1.score(topk=10)\n",
    "npmid2 = CoherenceNPMI(texts=texts, topics=ctmd2.get_topic_lists(10)); d2 = npmid2.score(topk=10)\n",
    "npmid3 = CoherenceNPMI(texts=texts, topics=ctmd3.get_topic_lists(10)); d3 = npmid3.score(topk=10)\n",
    "npmid4 = CoherenceNPMI(texts=texts, topics=ctmd4.get_topic_lists(10)); d4 = npmid4.score(topk=10)\n",
    "npmid5 = CoherenceNPMI(texts=texts, topics=ctmd5.get_topic_lists(10)); d5 = npmid5.score(topk=10)"
   ]
  },
  {
   "cell_type": "code",
   "execution_count": 86,
   "metadata": {},
   "outputs": [
    {
     "name": "stdout",
     "output_type": "stream",
     "text": [
      "for 10 topics, the coherenceNPMI is 0.15480508391156195\n",
      "for 20 topics, the coherenceNPMI is 0.149604878550326\n",
      "for 30 topics, the coherenceNPMI is 0.14347110629529822\n",
      "for 50 topics, the coherenceNPMI is 0.09410966027391238\n",
      "for 100 topics, the coherenceNPMI is 0.0874957730405089\n"
     ]
    }
   ],
   "source": [
    "print(f\"for 10 topics, the coherenceNPMI is {d1}\")\n",
    "print(f\"for 20 topics, the coherenceNPMI is {d2}\")\n",
    "print(f\"for 30 topics, the coherenceNPMI is {d3}\")\n",
    "print(f\"for 50 topics, the coherenceNPMI is {d4}\")\n",
    "print(f\"for 100 topics, the coherenceNPMI is {d5}\")"
   ]
  },
  {
   "cell_type": "code",
   "execution_count": 87,
   "metadata": {},
   "outputs": [],
   "source": [
    "tdd1 = TopicDiversity(topics=ctmd1.get_topic_lists(10)); td1 = tdd1.score(topk=10)\n",
    "tdd2 = TopicDiversity(topics=ctmd2.get_topic_lists(10)); td2 = tdd2.score(topk=10)\n",
    "tdd3 = TopicDiversity(topics=ctmd3.get_topic_lists(10)); td3 = tdd3.score(topk=10)\n",
    "tdd4 = TopicDiversity(topics=ctmd4.get_topic_lists(10)); td4 = tdd4.score(topk=10)\n",
    "tdd5 = TopicDiversity(topics=ctmd5.get_topic_lists(10)); td5 = tdd5.score(topk=10)"
   ]
  },
  {
   "cell_type": "code",
   "execution_count": 88,
   "metadata": {},
   "outputs": [
    {
     "name": "stdout",
     "output_type": "stream",
     "text": [
      "for 10 topics, the TopicDiversity is 0.92\n",
      "for 20 topics, the TopicDiversity is 0.86\n",
      "for 30 topics, the TopicDiversity is 0.8266666666666667\n",
      "for 50 topics, the TopicDiversity is 0.764\n",
      "for 100 topics, the TopicDiversity is 0.576\n"
     ]
    }
   ],
   "source": [
    "print(f\"for 10 topics, the TopicDiversity is {td1}\")\n",
    "print(f\"for 20 topics, the TopicDiversity is {td2}\")\n",
    "print(f\"for 30 topics, the TopicDiversity is {td3}\")\n",
    "print(f\"for 50 topics, the TopicDiversity is {td4}\")\n",
    "print(f\"for 100 topics, the TopicDiversity is {td5}\")"
   ]
  },
  {
   "cell_type": "markdown",
   "metadata": {},
   "source": [
    "# Test Performance"
   ]
  },
  {
   "cell_type": "code",
   "execution_count": 89,
   "metadata": {},
   "outputs": [
    {
     "name": "stderr",
     "output_type": "stream",
     "text": [
      "/home/sysadm/anaconda3/lib/python3.9/site-packages/contextualized_topic_models/utils/data_preparation.py:57: UserWarning: the longest document in your collection has 9507 words, the model instead truncates to 128 tokens.\n",
      "  warnings.warn(f\"the longest document in your collection has {max_local_length} words, the model instead \"\n"
     ]
    },
    {
     "data": {
      "application/vnd.jupyter.widget-view+json": {
       "model_id": "706225e5e8f34d2b86871a4033cdc31f",
       "version_major": 2,
       "version_minor": 0
      },
      "text/plain": [
       "Batches:   0%|          | 0/37 [00:00<?, ?it/s]"
      ]
     },
     "metadata": {},
     "output_type": "display_data"
    },
    {
     "name": "stderr",
     "output_type": "stream",
     "text": [
      "/home/sysadm/anaconda3/lib/python3.9/site-packages/sklearn/utils/deprecation.py:87: FutureWarning: Function get_feature_names is deprecated; get_feature_names is deprecated in 1.0 and will be removed in 1.2. Please use get_feature_names_out instead.\n",
      "  warnings.warn(msg, category=FutureWarning)\n",
      "Epoch: [100/100]\t Seen Samples: [726400/726700]\tTrain Loss: 422.46035329675885\tTime: 0:00:04.534031: : 100it [07:21,  4.41s/it]\n",
      "Sampling: [20/20]: : 20it [00:29,  1.46s/it]\n",
      "Epoch: [100/100]\t Seen Samples: [726400/726700]\tTrain Loss: 419.50929811452454\tTime: 0:00:04.257697: : 100it [07:21,  4.41s/it]\n",
      "Sampling: [20/20]: : 20it [00:29,  1.48s/it]\n",
      "Epoch: [100/100]\t Seen Samples: [726400/726700]\tTrain Loss: 420.3007710326611\tTime: 0:00:04.383260: : 100it [07:36,  4.56s/it]\n",
      "Sampling: [20/20]: : 20it [00:30,  1.51s/it]\n",
      "Epoch: [100/100]\t Seen Samples: [726400/726700]\tTrain Loss: 424.3382917227724\tTime: 0:00:04.642600: : 100it [07:47,  4.67s/it]\n",
      "Sampling: [20/20]: : 20it [00:31,  1.56s/it]\n",
      "Epoch: [100/100]\t Seen Samples: [726400/726700]\tTrain Loss: 439.4281484461041\tTime: 0:00:05.237928: : 100it [08:25,  5.05s/it]\n",
      "Sampling: [20/20]: : 20it [00:36,  1.82s/it]\n"
     ]
    },
    {
     "name": "stdout",
     "output_type": "stream",
     "text": [
      "for 10 topics, the coherenceNPMI is -0.022130164107361343\n",
      "for 20 topics, the coherenceNPMI is 0.07113830235637274\n",
      "for 30 topics, the coherenceNPMI is 0.045385015525804207\n",
      "for 50 topics, the coherenceNPMI is 0.05484881081053179\n",
      "for 100 topics, the coherenceNPMI is 0.03634190885728875\n",
      "for 10 topics, the TopicDiversity is 0.87\n",
      "for 20 topics, the TopicDiversity is 0.895\n",
      "for 30 topics, the TopicDiversity is 0.8666666666666667\n",
      "for 50 topics, the TopicDiversity is 0.79\n",
      "for 100 topics, the TopicDiversity is 0.568\n"
     ]
    }
   ],
   "source": [
    "testing_dataset4=tpd.fit(text_for_contextual=unpreprocessed_corpus_test, text_for_bow=preprocessed_documents_test)\n",
    "\n",
    "ctmd1.fit(testing_dataset4)\n",
    "ctmd2.fit(testing_dataset4) \n",
    "ctmd3.fit(testing_dataset4)\n",
    "ctmd4.fit(testing_dataset4)\n",
    "ctmd5.fit(testing_dataset4)\n",
    "\n",
    "npmid1_test = CoherenceNPMI(texts=texts_test, topics=ctmd1.get_topic_lists(10)); d1_test = npmid1_test.score(topk=10)\n",
    "npmid2_test = CoherenceNPMI(texts=texts_test, topics=ctmd2.get_topic_lists(10)); d2_test = npmid2_test.score(topk=10)\n",
    "npmid3_test = CoherenceNPMI(texts=texts_test, topics=ctmd3.get_topic_lists(10)); d3_test = npmid3_test.score(topk=10)\n",
    "npmid4_test = CoherenceNPMI(texts=texts_test, topics=ctmd4.get_topic_lists(10)); d4_test = npmid4_test.score(topk=10)\n",
    "npmid5_test = CoherenceNPMI(texts=texts_test, topics=ctmd5.get_topic_lists(10)); d5_test = npmid5_test.score(topk=10)\n",
    "\n",
    "print(f\"for 10 topics, the coherenceNPMI is {d1_test}\")\n",
    "print(f\"for 20 topics, the coherenceNPMI is {d2_test}\")\n",
    "print(f\"for 30 topics, the coherenceNPMI is {d3_test}\")\n",
    "print(f\"for 50 topics, the coherenceNPMI is {d4_test}\")\n",
    "print(f\"for 100 topics, the coherenceNPMI is {d5_test}\")\n",
    "\n",
    "tdd1_test = TopicDiversity(topics=ctmd1.get_topic_lists(10)); td1_test = tdd1_test.score(topk=10)\n",
    "tdd2_test = TopicDiversity(topics=ctmd2.get_topic_lists(10)); td2_test = tdd2_test.score(topk=10)\n",
    "tdd3_test = TopicDiversity(topics=ctmd3.get_topic_lists(10)); td3_test = tdd3_test.score(topk=10)\n",
    "tdd4_test = TopicDiversity(topics=ctmd4.get_topic_lists(10)); td4_test = tdd4_test.score(topk=10)\n",
    "tdd5_test = TopicDiversity(topics=ctmd5.get_topic_lists(10)); td5_test = tdd5_test.score(topk=10)\n",
    "\n",
    "print(f\"for 10 topics, the TopicDiversity is {td1_test}\")\n",
    "print(f\"for 20 topics, the TopicDiversity is {td2_test}\")\n",
    "print(f\"for 30 topics, the TopicDiversity is {td3_test}\")\n",
    "print(f\"for 50 topics, the TopicDiversity is {td4_test}\")\n",
    "print(f\"for 100 topics, the TopicDiversity is {td5_test}\")"
   ]
  },
  {
   "cell_type": "markdown",
   "metadata": {},
   "source": [
    "# Train Plot"
   ]
  },
  {
   "cell_type": "code",
   "execution_count": 90,
   "metadata": {},
   "outputs": [
    {
     "data": {
      "image/png": "[encoded data removed]",
      "text/plain": [
       "<Figure size 432x288 with 1 Axes>"
      ]
     },
     "metadata": {
      "needs_background": "light"
     },
     "output_type": "display_data"
    }
   ],
   "source": [
    "xd1 = np.array([10, 20, 30, 50, 100])\n",
    "yd1 = np.array([d1, d2, d3, d4, d5])\n",
    "\n",
    "plt.xlabel('Number of Topics')\n",
    "plt.ylabel('CoherenceNPMI')\n",
    "\n",
    "plt.title(\"CoherenceNPMI vs Number of Topics\")\n",
    "\n",
    "plt.plot(xd1, yd1)\n",
    "plt.show()"
   ]
  },
  {
   "cell_type": "code",
   "execution_count": 91,
   "metadata": {},
   "outputs": [
    {
     "data": {
      "image/png": "[encoded data removed]",
      "text/plain": [
       "<Figure size 432x288 with 1 Axes>"
      ]
     },
     "metadata": {
      "needs_background": "light"
     },
     "output_type": "display_data"
    }
   ],
   "source": [
    "xd2 = np.array([10, 20, 30, 50, 100])\n",
    "yd2 = np.array([td1, td2, td3, td4, td5])\n",
    "\n",
    "plt.xlabel('Number of Topics')\n",
    "plt.ylabel('TopicDiversity')\n",
    "\n",
    "plt.title(\"TopicDiversity vs Number of Topics\")\n",
    "\n",
    "plt.plot(xd2, yd2)\n",
    "plt.show()"
   ]
  },
  {
   "cell_type": "code",
   "execution_count": 92,
   "metadata": {},
   "outputs": [
    {
     "data": {
      "text/html": [
       "<div>\n",
       "<style scoped>\n",
       "    .dataframe tbody tr th:only-of-type {\n",
       "        vertical-align: middle;\n",
       "    }\n",
       "\n",
       "    .dataframe tbody tr th {\n",
       "        vertical-align: top;\n",
       "    }\n",
       "\n",
       "    .dataframe thead th {\n",
       "        text-align: right;\n",
       "    }\n",
       "</style>\n",
       "<table border=\"1\" class=\"dataframe\">\n",
       "  <thead>\n",
       "    <tr style=\"text-align: right;\">\n",
       "      <th></th>\n",
       "      <th>Number of Topics</th>\n",
       "      <th>CoherenceNPMI</th>\n",
       "      <th>TopicDiversity</th>\n",
       "    </tr>\n",
       "  </thead>\n",
       "  <tbody>\n",
       "    <tr>\n",
       "      <th>0</th>\n",
       "      <td>10</td>\n",
       "      <td>0.154805</td>\n",
       "      <td>0.920000</td>\n",
       "    </tr>\n",
       "    <tr>\n",
       "      <th>1</th>\n",
       "      <td>20</td>\n",
       "      <td>0.149605</td>\n",
       "      <td>0.860000</td>\n",
       "    </tr>\n",
       "    <tr>\n",
       "      <th>2</th>\n",
       "      <td>30</td>\n",
       "      <td>0.143471</td>\n",
       "      <td>0.826667</td>\n",
       "    </tr>\n",
       "    <tr>\n",
       "      <th>3</th>\n",
       "      <td>50</td>\n",
       "      <td>0.094110</td>\n",
       "      <td>0.764000</td>\n",
       "    </tr>\n",
       "    <tr>\n",
       "      <th>4</th>\n",
       "      <td>100</td>\n",
       "      <td>0.087496</td>\n",
       "      <td>0.576000</td>\n",
       "    </tr>\n",
       "  </tbody>\n",
       "</table>\n",
       "</div>"
      ],
      "text/plain": [
       "   Number of Topics  CoherenceNPMI  TopicDiversity\n",
       "0                10       0.154805        0.920000\n",
       "1                20       0.149605        0.860000\n",
       "2                30       0.143471        0.826667\n",
       "3                50       0.094110        0.764000\n",
       "4               100       0.087496        0.576000"
      ]
     },
     "execution_count": 92,
     "metadata": {},
     "output_type": "execute_result"
    }
   ],
   "source": [
    "dict4 = {'Number of Topics' : [10, 20, 30, 50, 100], \n",
    "         'CoherenceNPMI' : [d1, d2, d3, d4, d5], \n",
    "         'TopicDiversity' : [td1, td2, td3, td4, td5]}\n",
    "df4 = pd.DataFrame(dict4); df4"
   ]
  },
  {
   "cell_type": "markdown",
   "metadata": {},
   "source": [
    "# 5. Using \"all-MiniLM-L6-v2 \" as PLM"
   ]
  },
  {
   "cell_type": "code",
   "execution_count": 93,
   "metadata": {},
   "outputs": [],
   "source": [
    "tpe = TopicModelDataPreparation(\"all-MiniLM-L6-v2\")"
   ]
  },
  {
   "cell_type": "code",
   "execution_count": 94,
   "metadata": {},
   "outputs": [
    {
     "name": "stderr",
     "output_type": "stream",
     "text": [
      "/home/sysadm/anaconda3/lib/python3.9/site-packages/contextualized_topic_models/utils/data_preparation.py:57: UserWarning: the longest document in your collection has 11765 words, the model instead truncates to 128 tokens.\n",
      "  warnings.warn(f\"the longest document in your collection has {max_local_length} words, the model instead \"\n"
     ]
    },
    {
     "data": {
      "application/vnd.jupyter.widget-view+json": {
       "model_id": "faae677eaa2d4412aabc9b4f60761403",
       "version_major": 2,
       "version_minor": 0
      },
      "text/plain": [
       "Batches:   0%|          | 0/55 [00:00<?, ?it/s]"
      ]
     },
     "metadata": {},
     "output_type": "display_data"
    },
    {
     "name": "stderr",
     "output_type": "stream",
     "text": [
      "/home/sysadm/anaconda3/lib/python3.9/site-packages/sklearn/utils/deprecation.py:87: FutureWarning: Function get_feature_names is deprecated; get_feature_names is deprecated in 1.0 and will be removed in 1.2. Please use get_feature_names_out instead.\n",
      "  warnings.warn(msg, category=FutureWarning)\n"
     ]
    }
   ],
   "source": [
    "training_dataset5=tpe.fit(text_for_contextual=unpreprocessed_corpus, text_for_bow=preprocessed_documents)"
   ]
  },
  {
   "cell_type": "code",
   "execution_count": 95,
   "metadata": {},
   "outputs": [],
   "source": [
    "ctme1 = CombinedTM(bow_size=len(tpe.vocab), contextual_size=384, model_type='prodLDA',\n",
    "                 dropout=0.2, batch_size=32, lr=0.01, solver='adam',\n",
    "                 n_components=10, num_epochs=100)\n",
    "ctme2 = CombinedTM(bow_size=len(tpe.vocab), contextual_size=384, model_type='prodLDA',\n",
    "                 dropout=0.2, batch_size=32, lr=0.01, solver='adam',\n",
    "                 n_components=20, num_epochs=100)\n",
    "ctme3 = CombinedTM(bow_size=len(tpe.vocab), contextual_size=384, model_type='prodLDA',\n",
    "                 dropout=0.2, batch_size=32, lr=0.01, solver='adam',\n",
    "                 n_components=30, num_epochs=100)\n",
    "ctme4 = CombinedTM(bow_size=len(tpe.vocab), contextual_size=384, model_type='prodLDA',\n",
    "                 dropout=0.2, batch_size=32, lr=0.01, solver='adam',\n",
    "                 n_components=50, num_epochs=100)\n",
    "ctme5 = CombinedTM(bow_size=len(tpe.vocab), contextual_size=384, model_type='prodLDA',\n",
    "                 dropout=0.2, batch_size=32, lr=0.01, solver='adam',\n",
    "                 n_components=100, num_epochs=100)"
   ]
  },
  {
   "cell_type": "code",
   "execution_count": 96,
   "metadata": {},
   "outputs": [
    {
     "name": "stderr",
     "output_type": "stream",
     "text": [
      "Epoch: [100/100]\t Seen Samples: [1094400/1095100]\tTrain Loss: 464.8095235991896\tTime: 0:00:04.336275: : 100it [07:05,  4.26s/it]\n",
      "Sampling: [20/20]: : 20it [00:34,  1.74s/it]\n",
      "Epoch: [100/100]\t Seen Samples: [1094400/1095100]\tTrain Loss: 457.1333846599735\tTime: 0:00:04.603106: : 100it [07:13,  4.34s/it]\n",
      "Sampling: [20/20]: : 20it [00:34,  1.71s/it]\n",
      "Epoch: [100/100]\t Seen Samples: [1094400/1095100]\tTrain Loss: 465.67386533502946\tTime: 0:00:04.257886: : 100it [07:06,  4.27s/it]\n",
      "Sampling: [20/20]: : 20it [00:35,  1.75s/it]\n",
      "Epoch: [100/100]\t Seen Samples: [1094400/1095100]\tTrain Loss: 457.3337213616622\tTime: 0:00:04.311345: : 100it [07:08,  4.29s/it]\n",
      "Sampling: [20/20]: : 20it [00:34,  1.74s/it]\n",
      "Epoch: [100/100]\t Seen Samples: [1094400/1095100]\tTrain Loss: 469.83865401061655\tTime: 0:00:04.394441: : 100it [07:30,  4.50s/it]\n",
      "Sampling: [20/20]: : 20it [00:34,  1.74s/it]\n"
     ]
    }
   ],
   "source": [
    "ctme1.fit(training_dataset5)\n",
    "ctme2.fit(training_dataset5)\n",
    "ctme3.fit(training_dataset5)\n",
    "ctme4.fit(training_dataset5)\n",
    "ctme5.fit(training_dataset5)"
   ]
  },
  {
   "cell_type": "code",
   "execution_count": 97,
   "metadata": {},
   "outputs": [
    {
     "name": "stderr",
     "output_type": "stream",
     "text": [
      "/home/sysadm/anaconda3/lib/python3.9/site-packages/contextualized_topic_models/models/ctm.py:473: Warning: This is an experimental feature that we has not been fully tested. Refer to the following issue:https://github.com/MilaNLProc/contextualized-topic-models/issues/38\n",
      "  warnings.warn(\"This is an experimental feature that we has not been fully tested. Refer to the following issue:\"\n",
      "/home/sysadm/anaconda3/lib/python3.9/site-packages/contextualized_topic_models/models/ctm.py:473: Warning: This is an experimental feature that we has not been fully tested. Refer to the following issue:https://github.com/MilaNLProc/contextualized-topic-models/issues/38\n",
      "  warnings.warn(\"This is an experimental feature that we has not been fully tested. Refer to the following issue:\"\n",
      "/home/sysadm/anaconda3/lib/python3.9/site-packages/contextualized_topic_models/models/ctm.py:473: Warning: This is an experimental feature that we has not been fully tested. Refer to the following issue:https://github.com/MilaNLProc/contextualized-topic-models/issues/38\n",
      "  warnings.warn(\"This is an experimental feature that we has not been fully tested. Refer to the following issue:\"\n",
      "/home/sysadm/anaconda3/lib/python3.9/site-packages/contextualized_topic_models/models/ctm.py:473: Warning: This is an experimental feature that we has not been fully tested. Refer to the following issue:https://github.com/MilaNLProc/contextualized-topic-models/issues/38\n",
      "  warnings.warn(\"This is an experimental feature that we has not been fully tested. Refer to the following issue:\"\n",
      "/home/sysadm/anaconda3/lib/python3.9/site-packages/contextualized_topic_models/models/ctm.py:473: Warning: This is an experimental feature that we has not been fully tested. Refer to the following issue:https://github.com/MilaNLProc/contextualized-topic-models/issues/38\n",
      "  warnings.warn(\"This is an experimental feature that we has not been fully tested. Refer to the following issue:\"\n"
     ]
    }
   ],
   "source": [
    "ctme1.save(models_dir=\"./\")\n",
    "ctme2.save(models_dir=\"./\")\n",
    "ctme3.save(models_dir=\"./\")\n",
    "ctme4.save(models_dir=\"./\")\n",
    "ctme5.save(models_dir=\"./\")"
   ]
  },
  {
   "cell_type": "markdown",
   "metadata": {},
   "source": [
    "# Train Performance"
   ]
  },
  {
   "cell_type": "code",
   "execution_count": 98,
   "metadata": {},
   "outputs": [],
   "source": [
    "npmie1 = CoherenceNPMI(texts=texts, topics=ctme1.get_topic_lists(10)); e1 = npmie1.score(topk=10)\n",
    "npmie2 = CoherenceNPMI(texts=texts, topics=ctme2.get_topic_lists(10)); e2 = npmie2.score(topk=10)\n",
    "npmie3 = CoherenceNPMI(texts=texts, topics=ctme3.get_topic_lists(10)); e3 = npmie3.score(topk=10)\n",
    "npmie4 = CoherenceNPMI(texts=texts, topics=ctme4.get_topic_lists(10)); e4 = npmie4.score(topk=10)\n",
    "npmie5 = CoherenceNPMI(texts=texts, topics=ctme5.get_topic_lists(10)); e5 = npmie5.score(topk=10)"
   ]
  },
  {
   "cell_type": "code",
   "execution_count": 99,
   "metadata": {},
   "outputs": [
    {
     "name": "stdout",
     "output_type": "stream",
     "text": [
      "for 10 topics, the coherenceNPMI is 0.14183178092611065\n",
      "for 20 topics, the coherenceNPMI is 0.10196442736598603\n",
      "for 30 topics, the coherenceNPMI is 0.049072064041747146\n",
      "for 50 topics, the coherenceNPMI is 0.10826772742831575\n",
      "for 100 topics, the coherenceNPMI is 0.08160272253857466\n"
     ]
    }
   ],
   "source": [
    "print(f\"for 10 topics, the coherenceNPMI is {e1}\")\n",
    "print(f\"for 20 topics, the coherenceNPMI is {e2}\")\n",
    "print(f\"for 30 topics, the coherenceNPMI is {e3}\")\n",
    "print(f\"for 50 topics, the coherenceNPMI is {e4}\")\n",
    "print(f\"for 100 topics, the coherenceNPMI is {e5}\")"
   ]
  },
  {
   "cell_type": "code",
   "execution_count": 100,
   "metadata": {},
   "outputs": [],
   "source": [
    "tde1 = TopicDiversity(topics=ctme1.get_topic_lists(10)); te1 = tde1.score(topk=10)\n",
    "tde2 = TopicDiversity(topics=ctme2.get_topic_lists(10)); te2 = tde2.score(topk=10)\n",
    "tde3 = TopicDiversity(topics=ctme3.get_topic_lists(10)); te3 = tde3.score(topk=10)\n",
    "tde4 = TopicDiversity(topics=ctme4.get_topic_lists(10)); te4 = tde4.score(topk=10)\n",
    "tde5 = TopicDiversity(topics=ctme5.get_topic_lists(10)); te5 = tde5.score(topk=10)"
   ]
  },
  {
   "cell_type": "code",
   "execution_count": 101,
   "metadata": {},
   "outputs": [
    {
     "name": "stdout",
     "output_type": "stream",
     "text": [
      "for 10 topics, the TopicDiversity is 0.91\n",
      "for 20 topics, the TopicDiversity is 0.88\n",
      "for 30 topics, the TopicDiversity is 0.8\n",
      "for 50 topics, the TopicDiversity is 0.758\n",
      "for 100 topics, the TopicDiversity is 0.59\n"
     ]
    }
   ],
   "source": [
    "print(f\"for 10 topics, the TopicDiversity is {te1}\")\n",
    "print(f\"for 20 topics, the TopicDiversity is {te2}\")\n",
    "print(f\"for 30 topics, the TopicDiversity is {te3}\")\n",
    "print(f\"for 50 topics, the TopicDiversity is {te4}\")\n",
    "print(f\"for 100 topics, the TopicDiversity is {te5}\")"
   ]
  },
  {
   "cell_type": "markdown",
   "metadata": {},
   "source": [
    "# Test Performance"
   ]
  },
  {
   "cell_type": "code",
   "execution_count": 103,
   "metadata": {},
   "outputs": [
    {
     "name": "stderr",
     "output_type": "stream",
     "text": [
      "/home/sysadm/anaconda3/lib/python3.9/site-packages/contextualized_topic_models/utils/data_preparation.py:57: UserWarning: the longest document in your collection has 9507 words, the model instead truncates to 128 tokens.\n",
      "  warnings.warn(f\"the longest document in your collection has {max_local_length} words, the model instead \"\n"
     ]
    },
    {
     "data": {
      "application/vnd.jupyter.widget-view+json": {
       "model_id": "bbb0731a0651400e99dafe421f92976a",
       "version_major": 2,
       "version_minor": 0
      },
      "text/plain": [
       "Batches:   0%|          | 0/37 [00:00<?, ?it/s]"
      ]
     },
     "metadata": {},
     "output_type": "display_data"
    },
    {
     "name": "stderr",
     "output_type": "stream",
     "text": [
      "/home/sysadm/anaconda3/lib/python3.9/site-packages/sklearn/utils/deprecation.py:87: FutureWarning: Function get_feature_names is deprecated; get_feature_names is deprecated in 1.0 and will be removed in 1.2. Please use get_feature_names_out instead.\n",
      "  warnings.warn(msg, category=FutureWarning)\n",
      "Epoch: [100/100]\t Seen Samples: [726400/726700]\tTrain Loss: 421.79572581824755\tTime: 0:00:03.261025: : 100it [05:21,  3.22s/it]\n",
      "Sampling: [20/20]: : 20it [00:28,  1.43s/it]\n",
      "Epoch: [100/100]\t Seen Samples: [726400/726700]\tTrain Loss: 419.6244254763431\tTime: 0:00:03.262560: : 100it [05:25,  3.26s/it]\n",
      "Sampling: [20/20]: : 20it [00:29,  1.49s/it]\n",
      "Epoch: [100/100]\t Seen Samples: [726400/726700]\tTrain Loss: 419.61933636770374\tTime: 0:00:03.359234: : 100it [05:37,  3.37s/it]\n",
      "Sampling: [20/20]: : 20it [00:29,  1.48s/it]\n",
      "Epoch: [100/100]\t Seen Samples: [726400/726700]\tTrain Loss: 422.98454674540113\tTime: 0:00:03.450390: : 100it [05:40,  3.40s/it]\n",
      "Sampling: [20/20]: : 20it [00:29,  1.50s/it]\n",
      "Epoch: [100/100]\t Seen Samples: [726400/726700]\tTrain Loss: 437.7415046859943\tTime: 0:00:03.472284: : 100it [06:02,  3.62s/it]\n",
      "Sampling: [20/20]: : 20it [00:31,  1.58s/it]\n"
     ]
    },
    {
     "name": "stdout",
     "output_type": "stream",
     "text": [
      "for 10 topics, the coherenceNPMI is -0.03342547801201699\n",
      "for 20 topics, the coherenceNPMI is 0.048447744510257885\n",
      "for 30 topics, the coherenceNPMI is 0.06498893493921098\n",
      "for 50 topics, the coherenceNPMI is 0.059695528166389594\n",
      "for 100 topics, the coherenceNPMI is 0.023282640717663207\n",
      "for 10 topics, the TopicDiversity is 0.87\n",
      "for 20 topics, the TopicDiversity is 0.895\n",
      "for 30 topics, the TopicDiversity is 0.8666666666666667\n",
      "for 50 topics, the TopicDiversity is 0.79\n",
      "for 100 topics, the TopicDiversity is 0.568\n"
     ]
    }
   ],
   "source": [
    "testing_dataset5=tpe.fit(text_for_contextual=unpreprocessed_corpus_test, text_for_bow=preprocessed_documents_test)\n",
    "\n",
    "ctme1.fit(testing_dataset5)\n",
    "ctme2.fit(testing_dataset5) \n",
    "ctme3.fit(testing_dataset5)\n",
    "ctme4.fit(testing_dataset5)\n",
    "ctme5.fit(testing_dataset5)\n",
    "\n",
    "npmie1_test = CoherenceNPMI(texts=texts_test, topics=ctme1.get_topic_lists(10)); e1_test = npmie1_test.score(topk=10)\n",
    "npmie2_test = CoherenceNPMI(texts=texts_test, topics=ctme2.get_topic_lists(10)); e2_test = npmie2_test.score(topk=10)\n",
    "npmie3_test = CoherenceNPMI(texts=texts_test, topics=ctme3.get_topic_lists(10)); e3_test = npmie3_test.score(topk=10)\n",
    "npmie4_test = CoherenceNPMI(texts=texts_test, topics=ctme4.get_topic_lists(10)); e4_test = npmie4_test.score(topk=10)\n",
    "npmie5_test = CoherenceNPMI(texts=texts_test, topics=ctme5.get_topic_lists(10)); e5_test = npmie5_test.score(topk=10)\n",
    "\n",
    "print(f\"for 10 topics, the coherenceNPMI is {e1_test}\")\n",
    "print(f\"for 20 topics, the coherenceNPMI is {e2_test}\")\n",
    "print(f\"for 30 topics, the coherenceNPMI is {e3_test}\")\n",
    "print(f\"for 50 topics, the coherenceNPMI is {e4_test}\")\n",
    "print(f\"for 100 topics, the coherenceNPMI is {e5_test}\")\n",
    "\n",
    "tde1_test = TopicDiversity(topics=ctme1.get_topic_lists(10)); te1_test = tdd1_test.score(topk=10)\n",
    "tde2_test = TopicDiversity(topics=ctme2.get_topic_lists(10)); te2_test = tdd2_test.score(topk=10)\n",
    "tde3_test = TopicDiversity(topics=ctme3.get_topic_lists(10)); te3_test = tdd3_test.score(topk=10)\n",
    "tde4_test = TopicDiversity(topics=ctme4.get_topic_lists(10)); te4_test = tdd4_test.score(topk=10)\n",
    "tde5_test = TopicDiversity(topics=ctme5.get_topic_lists(10)); te5_test = tdd5_test.score(topk=10)\n",
    "\n",
    "print(f\"for 10 topics, the TopicDiversity is {te1_test}\")\n",
    "print(f\"for 20 topics, the TopicDiversity is {te2_test}\")\n",
    "print(f\"for 30 topics, the TopicDiversity is {te3_test}\")\n",
    "print(f\"for 50 topics, the TopicDiversity is {te4_test}\")\n",
    "print(f\"for 100 topics, the TopicDiversity is {te5_test}\")"
   ]
  },
  {
   "cell_type": "markdown",
   "metadata": {},
   "source": [
    "# Train Plot"
   ]
  },
  {
   "cell_type": "code",
   "execution_count": 104,
   "metadata": {},
   "outputs": [
    {
     "data": {
      "image/png": "[encoded data removed]",
      "text/plain": [
       "<Figure size 432x288 with 1 Axes>"
      ]
     },
     "metadata": {
      "needs_background": "light"
     },
     "output_type": "display_data"
    }
   ],
   "source": [
    "xe1 = np.array([10, 20, 30, 50, 100])\n",
    "ye1 = np.array([e1, e2, e3, e4, e5])\n",
    "\n",
    "plt.xlabel('Number of Topics')\n",
    "plt.ylabel('CoherenceNPMI')\n",
    "\n",
    "plt.title(\"CoherenceNPMI vs Number of Topics\")\n",
    "\n",
    "plt.plot(xe1, ye1)\n",
    "plt.show()"
   ]
  },
  {
   "cell_type": "code",
   "execution_count": 105,
   "metadata": {},
   "outputs": [
    {
     "data": {
      "image/png": "[encoded data removed]",
      "text/plain": [
       "<Figure size 432x288 with 1 Axes>"
      ]
     },
     "metadata": {
      "needs_background": "light"
     },
     "output_type": "display_data"
    }
   ],
   "source": [
    "xe2 = np.array([10, 20, 30, 50, 100])\n",
    "ye2 = np.array([te1, te2, te3, te4, te5])\n",
    "\n",
    "plt.xlabel('Number of Topics')\n",
    "plt.ylabel('TopicDiversity')\n",
    "\n",
    "plt.title(\"TopicDiversity vs Number of Topics\")\n",
    "\n",
    "plt.plot(xe2, ye2)\n",
    "plt.show()"
   ]
  },
  {
   "cell_type": "code",
   "execution_count": 106,
   "metadata": {},
   "outputs": [
    {
     "data": {
      "text/html": [
       "<div>\n",
       "<style scoped>\n",
       "    .dataframe tbody tr th:only-of-type {\n",
       "        vertical-align: middle;\n",
       "    }\n",
       "\n",
       "    .dataframe tbody tr th {\n",
       "        vertical-align: top;\n",
       "    }\n",
       "\n",
       "    .dataframe thead th {\n",
       "        text-align: right;\n",
       "    }\n",
       "</style>\n",
       "<table border=\"1\" class=\"dataframe\">\n",
       "  <thead>\n",
       "    <tr style=\"text-align: right;\">\n",
       "      <th></th>\n",
       "      <th>Number of Topics</th>\n",
       "      <th>CoherenceNPMI</th>\n",
       "      <th>TopicDiversity</th>\n",
       "    </tr>\n",
       "  </thead>\n",
       "  <tbody>\n",
       "    <tr>\n",
       "      <th>0</th>\n",
       "      <td>10</td>\n",
       "      <td>0.141832</td>\n",
       "      <td>0.910</td>\n",
       "    </tr>\n",
       "    <tr>\n",
       "      <th>1</th>\n",
       "      <td>20</td>\n",
       "      <td>0.101964</td>\n",
       "      <td>0.880</td>\n",
       "    </tr>\n",
       "    <tr>\n",
       "      <th>2</th>\n",
       "      <td>30</td>\n",
       "      <td>0.049072</td>\n",
       "      <td>0.800</td>\n",
       "    </tr>\n",
       "    <tr>\n",
       "      <th>3</th>\n",
       "      <td>50</td>\n",
       "      <td>0.108268</td>\n",
       "      <td>0.758</td>\n",
       "    </tr>\n",
       "    <tr>\n",
       "      <th>4</th>\n",
       "      <td>100</td>\n",
       "      <td>0.081603</td>\n",
       "      <td>0.590</td>\n",
       "    </tr>\n",
       "  </tbody>\n",
       "</table>\n",
       "</div>"
      ],
      "text/plain": [
       "   Number of Topics  CoherenceNPMI  TopicDiversity\n",
       "0                10       0.141832           0.910\n",
       "1                20       0.101964           0.880\n",
       "2                30       0.049072           0.800\n",
       "3                50       0.108268           0.758\n",
       "4               100       0.081603           0.590"
      ]
     },
     "execution_count": 106,
     "metadata": {},
     "output_type": "execute_result"
    }
   ],
   "source": [
    "dict5 = {'Number of Topics' : [10, 20, 30, 50, 100], \n",
    "         'CoherenceNPMI' : [e1, e2, e3, e4, e5], \n",
    "         'TopicDiversity' : [te1, te2, te3, te4, te5]}\n",
    "df5 = pd.DataFrame(dict5); df5"
   ]
  },
  {
   "cell_type": "markdown",
   "metadata": {},
   "source": [
    "# Component wise coherence for 5 PLMs for train"
   ]
  },
  {
   "cell_type": "code",
   "execution_count": 107,
   "metadata": {},
   "outputs": [
    {
     "data": {
      "image/png": "[encoded data removed]",
      "text/plain": [
       "<Figure size 720x720 with 5 Axes>"
      ]
     },
     "metadata": {
      "needs_background": "light"
     },
     "output_type": "display_data"
    }
   ],
   "source": [
    "X = ['all-mpnet-base-v2', 'stsb-roberta-large', \n",
    "      'bert-base-nli-mean-tokens', 'all-distilroberta-v1', 'all-MiniLM-L6-v2 ']\n",
    "\n",
    "\n",
    "Y1 = [a1, b1, c1, d1, e1]\n",
    "Y2 = [a2, b2, c2, d2, e2]\n",
    "Y3 = [a3, b3, c3, d3, e3]\n",
    "Y4 = [a4, b4, c4, d4, e4]\n",
    "Y5 = [a5, b5, c5, d5, e5]\n",
    "\n",
    "figure, axis = plt.subplots(5, 1, figsize = (10,10))\n",
    "figure.tight_layout()\n",
    "\n",
    "axis[0].plot(X, Y1)\n",
    "axis[0].set_title(\"n_components = 10\")\n",
    "\n",
    "axis[1].plot(X, Y2)\n",
    "axis[1].set_title(\"n_components = 20\")\n",
    "\n",
    "axis[2].plot(X, Y3)\n",
    "axis[2].set_title(\"n_components = 30\")\n",
    "\n",
    "axis[3].plot(X, Y4)\n",
    "axis[3].set_title(\"n_components = 50\")\n",
    "                     \n",
    "axis[4].plot(X, Y5)\n",
    "axis[4].set_title(\"n_components = 100\")   \n",
    "\n",
    "plt.subplots_adjust(hspace=0.8)\n",
    "\n",
    "plt.show()"
   ]
  },
  {
   "cell_type": "markdown",
   "metadata": {},
   "source": [
    "# Component wise TopicDiversity for 5 PLMs for Train"
   ]
  },
  {
   "cell_type": "code",
   "execution_count": 108,
   "metadata": {},
   "outputs": [
    {
     "data": {
      "image/png": "[encoded data removed]",
      "text/plain": [
       "<Figure size 720x720 with 5 Axes>"
      ]
     },
     "metadata": {
      "needs_background": "light"
     },
     "output_type": "display_data"
    }
   ],
   "source": [
    "X = ['all-mpnet-base-v2', 'stsb-roberta-large', \n",
    "      'bert-base-nli-mean-tokens', 'all-distilroberta-v1', 'all-MiniLM-L6-v2 ']\n",
    "\n",
    "\n",
    "Z1 = [ta1, tb1, tc1, td1, te1]\n",
    "Z2 = [ta2, tb2, tc2, td2, te2]\n",
    "Z3 = [ta3, tb3, tc3, td3, te3]\n",
    "Z4 = [ta4, tb4, tc4, td4, te4]\n",
    "Z5 = [ta5, tb5, tc5, td5, te5]\n",
    "\n",
    "figure, axis = plt.subplots(5, 1, figsize = (10,10))\n",
    "figure.tight_layout()\n",
    "\n",
    "axis[0].plot(X, Z1)\n",
    "axis[0].set_title(\"n_components = 10\")\n",
    "\n",
    "axis[1].plot(X, Z2)\n",
    "axis[1].set_title(\"n_components = 20\")\n",
    "\n",
    "axis[2].plot(X, Z3)\n",
    "axis[2].set_title(\"n_components = 30\")\n",
    "\n",
    "axis[3].plot(X, Z4)\n",
    "axis[3].set_title(\"n_components = 50\")\n",
    "                     \n",
    "axis[4].plot(X, Z5)\n",
    "axis[4].set_title(\"n_components = 100\")                     \n",
    "\n",
    "plt.subplots_adjust(hspace=0.8)\n",
    "\n",
    "plt.show()"
   ]
  },
  {
   "cell_type": "markdown",
   "metadata": {},
   "source": [
    "## Testing Coherence is coming pretty lesser than training. We need to solve this issue of overfitting by hyperparameters tuning and need to check the distribution of both the dataset"
   ]
  },
  {
   "cell_type": "code",
   "execution_count": null,
   "metadata": {},
   "outputs": [],
   "source": []
  }
 ],
 "metadata": {
  "accelerator": "GPU",
  "colab": {
   "collapsed_sections": [],
   "provenance": []
  },
  "kernelspec": {
   "display_name": "Python 3",
   "language": "python",
   "name": "python3"
  },
  "language_info": {
   "codemirror_mode": {
    "name": "ipython",
    "version": 3
   },
   "file_extension": ".py",
   "mimetype": "text/x-python",
   "name": "python",
   "nbconvert_exporter": "python",
   "pygments_lexer": "ipython3",
   "version": "3.9.12"
  },
  "widgets": {
   "application/vnd.jupyter.widget-state+json": {
    "034af98ead144162acfd0f8b2c5f6e30": {
     "model_module": "@jupyter-widgets/controls",
     "model_module_version": "1.5.0",
     "model_name": "FloatProgressModel",
     "state": {
      "_dom_classes": [],
      "_model_module": "@jupyter-widgets/controls",
      "_model_module_version": "1.5.0",
      "_model_name": "FloatProgressModel",
      "_view_count": null,
      "_view_module": "@jupyter-widgets/controls",
      "_view_module_version": "1.5.0",
      "_view_name": "ProgressView",
      "bar_style": "success",
      "description": "",
      "description_tooltip": null,
      "layout": "IPY_MODEL_e332396b992d42dba7ddf1486c5913d7",
      "max": 190,
      "min": 0,
      "orientation": "horizontal",
      "style": "IPY_MODEL_30a9a5f2865b499c8279730cb2e16a9b",
      "value": 190
     }
    },
    "0379bf016f40476b9d42ae33aaacac67": {
     "model_module": "@jupyter-widgets/controls",
     "model_module_version": "1.5.0",
     "model_name": "DescriptionStyleModel",
     "state": {
      "_model_module": "@jupyter-widgets/controls",
      "_model_module_version": "1.5.0",
      "_model_name": "DescriptionStyleModel",
      "_view_count": null,
      "_view_module": "@jupyter-widgets/base",
      "_view_module_version": "1.2.0",
      "_view_name": "StyleView",
      "description_width": ""
     }
    },
    "041b77ddc2c449ef89f9089ad16f0062": {
     "model_module": "@jupyter-widgets/controls",
     "model_module_version": "1.5.0",
     "model_name": "DescriptionStyleModel",
     "state": {
      "_model_module": "@jupyter-widgets/controls",
      "_model_module_version": "1.5.0",
      "_model_name": "DescriptionStyleModel",
      "_view_count": null,
      "_view_module": "@jupyter-widgets/base",
      "_view_module_version": "1.2.0",
      "_view_name": "StyleView",
      "description_width": ""
     }
    },
    "0574c17e3f6c4c3ba7fa2555b2c1e5af": {
     "model_module": "@jupyter-widgets/controls",
     "model_module_version": "1.5.0",
     "model_name": "HTMLModel",
     "state": {
      "_dom_classes": [],
      "_model_module": "@jupyter-widgets/controls",
      "_model_module_version": "1.5.0",
      "_model_name": "HTMLModel",
      "_view_count": null,
      "_view_module": "@jupyter-widgets/controls",
      "_view_module_version": "1.5.0",
      "_view_name": "HTMLView",
      "description": "",
      "description_tooltip": null,
      "layout": "IPY_MODEL_3290d8ce78354aef950651288df1f998",
      "placeholder": "​",
      "style": "IPY_MODEL_7287c0bf276b4a8dadc7f8660a9467dc",
      "value": " 190/190 [00:00&lt;00:00, 2.04kB/s]"
     }
    },
    "066dc9ba11294dce803779edb484684e": {
     "model_module": "@jupyter-widgets/base",
     "model_module_version": "1.2.0",
     "model_name": "LayoutModel",
     "state": {
      "_model_module": "@jupyter-widgets/base",
      "_model_module_version": "1.2.0",
      "_model_name": "LayoutModel",
      "_view_count": null,
      "_view_module": "@jupyter-widgets/base",
      "_view_module_version": "1.2.0",
      "_view_name": "LayoutView",
      "align_content": null,
      "align_items": null,
      "align_self": null,
      "border": null,
      "bottom": null,
      "display": null,
      "flex": null,
      "flex_flow": null,
      "grid_area": null,
      "grid_auto_columns": null,
      "grid_auto_flow": null,
      "grid_auto_rows": null,
      "grid_column": null,
      "grid_gap": null,
      "grid_row": null,
      "grid_template_areas": null,
      "grid_template_columns": null,
      "grid_template_rows": null,
      "height": null,
      "justify_content": null,
      "justify_items": null,
      "left": null,
      "margin": null,
      "max_height": null,
      "max_width": null,
      "min_height": null,
      "min_width": null,
      "object_fit": null,
      "object_position": null,
      "order": null,
      "overflow": null,
      "overflow_x": null,
      "overflow_y": null,
      "padding": null,
      "right": null,
      "top": null,
      "visibility": null,
      "width": null
     }
    },
    "06f73c70f597429aa543d6642398847b": {
     "model_module": "@jupyter-widgets/base",
     "model_module_version": "1.2.0",
     "model_name": "LayoutModel",
     "state": {
      "_model_module": "@jupyter-widgets/base",
      "_model_module_version": "1.2.0",
      "_model_name": "LayoutModel",
      "_view_count": null,
      "_view_module": "@jupyter-widgets/base",
      "_view_module_version": "1.2.0",
      "_view_name": "LayoutView",
      "align_content": null,
      "align_items": null,
      "align_self": null,
      "border": null,
      "bottom": null,
      "display": null,
      "flex": null,
      "flex_flow": null,
      "grid_area": null,
      "grid_auto_columns": null,
      "grid_auto_flow": null,
      "grid_auto_rows": null,
      "grid_column": null,
      "grid_gap": null,
      "grid_row": null,
      "grid_template_areas": null,
      "grid_template_columns": null,
      "grid_template_rows": null,
      "height": null,
      "justify_content": null,
      "justify_items": null,
      "left": null,
      "margin": null,
      "max_height": null,
      "max_width": null,
      "min_height": null,
      "min_width": null,
      "object_fit": null,
      "object_position": null,
      "order": null,
      "overflow": null,
      "overflow_x": null,
      "overflow_y": null,
      "padding": null,
      "right": null,
      "top": null,
      "visibility": null,
      "width": null
     }
    },
    "08dcf2fc2f01435bb5fc2f935d6f5bf8": {
     "model_module": "@jupyter-widgets/controls",
     "model_module_version": "1.5.0",
     "model_name": "HTMLModel",
     "state": {
      "_dom_classes": [],
      "_model_module": "@jupyter-widgets/controls",
      "_model_module_version": "1.5.0",
      "_model_name": "HTMLModel",
      "_view_count": null,
      "_view_module": "@jupyter-widgets/controls",
      "_view_module_version": "1.5.0",
      "_view_name": "HTMLView",
      "description": "",
      "description_tooltip": null,
      "layout": "IPY_MODEL_066dc9ba11294dce803779edb484684e",
      "placeholder": "​",
      "style": "IPY_MODEL_275a56414eb8408ead3e4128c8b1a0c7",
      "value": " 53.0/53.0 [00:00&lt;00:00, 1.76kB/s]"
     }
    },
    "09962d2a2e974c6283e293eebd7d480c": {
     "model_module": "@jupyter-widgets/base",
     "model_module_version": "1.2.0",
     "model_name": "LayoutModel",
     "state": {
      "_model_module": "@jupyter-widgets/base",
      "_model_module_version": "1.2.0",
      "_model_name": "LayoutModel",
      "_view_count": null,
      "_view_module": "@jupyter-widgets/base",
      "_view_module_version": "1.2.0",
      "_view_name": "LayoutView",
      "align_content": null,
      "align_items": null,
      "align_self": null,
      "border": null,
      "bottom": null,
      "display": null,
      "flex": null,
      "flex_flow": null,
      "grid_area": null,
      "grid_auto_columns": null,
      "grid_auto_flow": null,
      "grid_auto_rows": null,
      "grid_column": null,
      "grid_gap": null,
      "grid_row": null,
      "grid_template_areas": null,
      "grid_template_columns": null,
      "grid_template_rows": null,
      "height": null,
      "justify_content": null,
      "justify_items": null,
      "left": null,
      "margin": null,
      "max_height": null,
      "max_width": null,
      "min_height": null,
      "min_width": null,
      "object_fit": null,
      "object_position": null,
      "order": null,
      "overflow": null,
      "overflow_x": null,
      "overflow_y": null,
      "padding": null,
      "right": null,
      "top": null,
      "visibility": null,
      "width": null
     }
    },
    "0a27a07f356346b89f285778b8318a7f": {
     "model_module": "@jupyter-widgets/base",
     "model_module_version": "1.2.0",
     "model_name": "LayoutModel",
     "state": {
      "_model_module": "@jupyter-widgets/base",
      "_model_module_version": "1.2.0",
      "_model_name": "LayoutModel",
      "_view_count": null,
      "_view_module": "@jupyter-widgets/base",
      "_view_module_version": "1.2.0",
      "_view_name": "LayoutView",
      "align_content": null,
      "align_items": null,
      "align_self": null,
      "border": null,
      "bottom": null,
      "display": null,
      "flex": null,
      "flex_flow": null,
      "grid_area": null,
      "grid_auto_columns": null,
      "grid_auto_flow": null,
      "grid_auto_rows": null,
      "grid_column": null,
      "grid_gap": null,
      "grid_row": null,
      "grid_template_areas": null,
      "grid_template_columns": null,
      "grid_template_rows": null,
      "height": null,
      "justify_content": null,
      "justify_items": null,
      "left": null,
      "margin": null,
      "max_height": null,
      "max_width": null,
      "min_height": null,
      "min_width": null,
      "object_fit": null,
      "object_position": null,
      "order": null,
      "overflow": null,
      "overflow_x": null,
      "overflow_y": null,
      "padding": null,
      "right": null,
      "top": null,
      "visibility": null,
      "width": null
     }
    },
    "0ad33f57a2914996ad2bba51a31722da": {
     "model_module": "@jupyter-widgets/controls",
     "model_module_version": "1.5.0",
     "model_name": "ProgressStyleModel",
     "state": {
      "_model_module": "@jupyter-widgets/controls",
      "_model_module_version": "1.5.0",
      "_model_name": "ProgressStyleModel",
      "_view_count": null,
      "_view_module": "@jupyter-widgets/base",
      "_view_module_version": "1.2.0",
      "_view_name": "StyleView",
      "bar_color": null,
      "description_width": ""
     }
    },
    "0c821513011d4e8eaf70a04aa80df265": {
     "model_module": "@jupyter-widgets/controls",
     "model_module_version": "1.5.0",
     "model_name": "HTMLModel",
     "state": {
      "_dom_classes": [],
      "_model_module": "@jupyter-widgets/controls",
      "_model_module_version": "1.5.0",
      "_model_name": "HTMLModel",
      "_view_count": null,
      "_view_module": "@jupyter-widgets/controls",
      "_view_module_version": "1.5.0",
      "_view_name": "HTMLView",
      "description": "",
      "description_tooltip": null,
      "layout": "IPY_MODEL_24883993056b432cbb7360115736d235",
      "placeholder": "​",
      "style": "IPY_MODEL_8dbf181d7e5e4ba7b12bbec585e05992",
      "value": " 10.5k/10.5k [00:00&lt;00:00, 135kB/s]"
     }
    },
    "0fd2d1d7ab2442d491610dbbf4e754e5": {
     "model_module": "@jupyter-widgets/base",
     "model_module_version": "1.2.0",
     "model_name": "LayoutModel",
     "state": {
      "_model_module": "@jupyter-widgets/base",
      "_model_module_version": "1.2.0",
      "_model_name": "LayoutModel",
      "_view_count": null,
      "_view_module": "@jupyter-widgets/base",
      "_view_module_version": "1.2.0",
      "_view_name": "LayoutView",
      "align_content": null,
      "align_items": null,
      "align_self": null,
      "border": null,
      "bottom": null,
      "display": null,
      "flex": null,
      "flex_flow": null,
      "grid_area": null,
      "grid_auto_columns": null,
      "grid_auto_flow": null,
      "grid_auto_rows": null,
      "grid_column": null,
      "grid_gap": null,
      "grid_row": null,
      "grid_template_areas": null,
      "grid_template_columns": null,
      "grid_template_rows": null,
      "height": null,
      "justify_content": null,
      "justify_items": null,
      "left": null,
      "margin": null,
      "max_height": null,
      "max_width": null,
      "min_height": null,
      "min_width": null,
      "object_fit": null,
      "object_position": null,
      "order": null,
      "overflow": null,
      "overflow_x": null,
      "overflow_y": null,
      "padding": null,
      "right": null,
      "top": null,
      "visibility": null,
      "width": null
     }
    },
    "106b432007a1470893345830a88e31c2": {
     "model_module": "@jupyter-widgets/controls",
     "model_module_version": "1.5.0",
     "model_name": "FloatProgressModel",
     "state": {
      "_dom_classes": [],
      "_model_module": "@jupyter-widgets/controls",
      "_model_module_version": "1.5.0",
      "_model_name": "FloatProgressModel",
      "_view_count": null,
      "_view_module": "@jupyter-widgets/controls",
      "_view_module_version": "1.5.0",
      "_view_name": "ProgressView",
      "bar_style": "success",
      "description": "",
      "description_tooltip": null,
      "layout": "IPY_MODEL_2449be4565594941944f23f4f0134c2f",
      "max": 53,
      "min": 0,
      "orientation": "horizontal",
      "style": "IPY_MODEL_329f0f45c76c4830bbd00547c0e2c69d",
      "value": 53
     }
    },
    "109c182a78474947b76873ce0012f177": {
     "model_module": "@jupyter-widgets/base",
     "model_module_version": "1.2.0",
     "model_name": "LayoutModel",
     "state": {
      "_model_module": "@jupyter-widgets/base",
      "_model_module_version": "1.2.0",
      "_model_name": "LayoutModel",
      "_view_count": null,
      "_view_module": "@jupyter-widgets/base",
      "_view_module_version": "1.2.0",
      "_view_name": "LayoutView",
      "align_content": null,
      "align_items": null,
      "align_self": null,
      "border": null,
      "bottom": null,
      "display": null,
      "flex": null,
      "flex_flow": null,
      "grid_area": null,
      "grid_auto_columns": null,
      "grid_auto_flow": null,
      "grid_auto_rows": null,
      "grid_column": null,
      "grid_gap": null,
      "grid_row": null,
      "grid_template_areas": null,
      "grid_template_columns": null,
      "grid_template_rows": null,
      "height": null,
      "justify_content": null,
      "justify_items": null,
      "left": null,
      "margin": null,
      "max_height": null,
      "max_width": null,
      "min_height": null,
      "min_width": null,
      "object_fit": null,
      "object_position": null,
      "order": null,
      "overflow": null,
      "overflow_x": null,
      "overflow_y": null,
      "padding": null,
      "right": null,
      "top": null,
      "visibility": null,
      "width": null
     }
    },
    "10df5ac6828d44e69f45e7cda15010ae": {
     "model_module": "@jupyter-widgets/controls",
     "model_module_version": "1.5.0",
     "model_name": "ProgressStyleModel",
     "state": {
      "_model_module": "@jupyter-widgets/controls",
      "_model_module_version": "1.5.0",
      "_model_name": "ProgressStyleModel",
      "_view_count": null,
      "_view_module": "@jupyter-widgets/base",
      "_view_module_version": "1.2.0",
      "_view_name": "StyleView",
      "bar_color": null,
      "description_width": ""
     }
    },
    "1140de34d0004610a965f38a67f29213": {
     "model_module": "@jupyter-widgets/controls",
     "model_module_version": "1.5.0",
     "model_name": "FloatProgressModel",
     "state": {
      "_dom_classes": [],
      "_model_module": "@jupyter-widgets/controls",
      "_model_module_version": "1.5.0",
      "_model_name": "FloatProgressModel",
      "_view_count": null,
      "_view_module": "@jupyter-widgets/controls",
      "_view_module_version": "1.5.0",
      "_view_name": "ProgressView",
      "bar_style": "success",
      "description": "",
      "description_tooltip": null,
      "layout": "IPY_MODEL_c9c5289709d54e74b588a86ed07498ee",
      "max": 1175,
      "min": 0,
      "orientation": "horizontal",
      "style": "IPY_MODEL_7327d475a682496ca694d86e3f82a9e2",
      "value": 1175
     }
    },
    "11e35c222ced460db387aa2df4ef9fad": {
     "model_module": "@jupyter-widgets/controls",
     "model_module_version": "1.5.0",
     "model_name": "DescriptionStyleModel",
     "state": {
      "_model_module": "@jupyter-widgets/controls",
      "_model_module_version": "1.5.0",
      "_model_name": "DescriptionStyleModel",
      "_view_count": null,
      "_view_module": "@jupyter-widgets/base",
      "_view_module_version": "1.2.0",
      "_view_name": "StyleView",
      "description_width": ""
     }
    },
    "124d46f6cfae44589fdd46e4cb5fa878": {
     "model_module": "@jupyter-widgets/controls",
     "model_module_version": "1.5.0",
     "model_name": "DescriptionStyleModel",
     "state": {
      "_model_module": "@jupyter-widgets/controls",
      "_model_module_version": "1.5.0",
      "_model_name": "DescriptionStyleModel",
      "_view_count": null,
      "_view_module": "@jupyter-widgets/base",
      "_view_module_version": "1.2.0",
      "_view_name": "StyleView",
      "description_width": ""
     }
    },
    "135b862900bd4cac8ed9a4aac3ce4484": {
     "model_module": "@jupyter-widgets/controls",
     "model_module_version": "1.5.0",
     "model_name": "HBoxModel",
     "state": {
      "_dom_classes": [],
      "_model_module": "@jupyter-widgets/controls",
      "_model_module_version": "1.5.0",
      "_model_name": "HBoxModel",
      "_view_count": null,
      "_view_module": "@jupyter-widgets/controls",
      "_view_module_version": "1.5.0",
      "_view_name": "HBoxView",
      "box_style": "",
      "children": [
       "IPY_MODEL_86ab2aafbfaf48eb9078b114fd892273",
       "IPY_MODEL_67973c3f30204bacba626cf298568777",
       "IPY_MODEL_abcb94d8f7794877ae8b8fa7a28867e8"
      ],
      "layout": "IPY_MODEL_38f9e26f901748f58a373ca665377226"
     }
    },
    "14685df6d28a4a9fb48d1cc20dc9317d": {
     "model_module": "@jupyter-widgets/base",
     "model_module_version": "1.2.0",
     "model_name": "LayoutModel",
     "state": {
      "_model_module": "@jupyter-widgets/base",
      "_model_module_version": "1.2.0",
      "_model_name": "LayoutModel",
      "_view_count": null,
      "_view_module": "@jupyter-widgets/base",
      "_view_module_version": "1.2.0",
      "_view_name": "LayoutView",
      "align_content": null,
      "align_items": null,
      "align_self": null,
      "border": null,
      "bottom": null,
      "display": null,
      "flex": null,
      "flex_flow": null,
      "grid_area": null,
      "grid_auto_columns": null,
      "grid_auto_flow": null,
      "grid_auto_rows": null,
      "grid_column": null,
      "grid_gap": null,
      "grid_row": null,
      "grid_template_areas": null,
      "grid_template_columns": null,
      "grid_template_rows": null,
      "height": null,
      "justify_content": null,
      "justify_items": null,
      "left": null,
      "margin": null,
      "max_height": null,
      "max_width": null,
      "min_height": null,
      "min_width": null,
      "object_fit": null,
      "object_position": null,
      "order": null,
      "overflow": null,
      "overflow_x": null,
      "overflow_y": null,
      "padding": null,
      "right": null,
      "top": null,
      "visibility": null,
      "width": null
     }
    },
    "1548ece6790f4ba4b16be840c999d557": {
     "model_module": "@jupyter-widgets/controls",
     "model_module_version": "1.5.0",
     "model_name": "HBoxModel",
     "state": {
      "_dom_classes": [],
      "_model_module": "@jupyter-widgets/controls",
      "_model_module_version": "1.5.0",
      "_model_name": "HBoxModel",
      "_view_count": null,
      "_view_module": "@jupyter-widgets/controls",
      "_view_module_version": "1.5.0",
      "_view_name": "HBoxView",
      "box_style": "",
      "children": [
       "IPY_MODEL_25ce008a9e7d48ea9a45c03bc041aa44",
       "IPY_MODEL_4c9fb0045f2e43ecaa7d9d376d488203",
       "IPY_MODEL_65115ae77d2944abae5a2d4be91bf867"
      ],
      "layout": "IPY_MODEL_de7341badc964ff3b4e4576a2853a298"
     }
    },
    "15822e16eb714d85ae82e9feb839c701": {
     "model_module": "@jupyter-widgets/base",
     "model_module_version": "1.2.0",
     "model_name": "LayoutModel",
     "state": {
      "_model_module": "@jupyter-widgets/base",
      "_model_module_version": "1.2.0",
      "_model_name": "LayoutModel",
      "_view_count": null,
      "_view_module": "@jupyter-widgets/base",
      "_view_module_version": "1.2.0",
      "_view_name": "LayoutView",
      "align_content": null,
      "align_items": null,
      "align_self": null,
      "border": null,
      "bottom": null,
      "display": null,
      "flex": null,
      "flex_flow": null,
      "grid_area": null,
      "grid_auto_columns": null,
      "grid_auto_flow": null,
      "grid_auto_rows": null,
      "grid_column": null,
      "grid_gap": null,
      "grid_row": null,
      "grid_template_areas": null,
      "grid_template_columns": null,
      "grid_template_rows": null,
      "height": null,
      "justify_content": null,
      "justify_items": null,
      "left": null,
      "margin": null,
      "max_height": null,
      "max_width": null,
      "min_height": null,
      "min_width": null,
      "object_fit": null,
      "object_position": null,
      "order": null,
      "overflow": null,
      "overflow_x": null,
      "overflow_y": null,
      "padding": null,
      "right": null,
      "top": null,
      "visibility": null,
      "width": null
     }
    },
    "15e6ab5ea21c44469d2e7e010cfebdf2": {
     "model_module": "@jupyter-widgets/controls",
     "model_module_version": "1.5.0",
     "model_name": "HTMLModel",
     "state": {
      "_dom_classes": [],
      "_model_module": "@jupyter-widgets/controls",
      "_model_module_version": "1.5.0",
      "_model_name": "HTMLModel",
      "_view_count": null,
      "_view_module": "@jupyter-widgets/controls",
      "_view_module_version": "1.5.0",
      "_view_name": "HTMLView",
      "description": "",
      "description_tooltip": null,
      "layout": "IPY_MODEL_dcd42ee6cac947d9b6efabe937da3a8a",
      "placeholder": "​",
      "style": "IPY_MODEL_361f707c40c2445fabed461c1d3cb2fe",
      "value": "Downloading: 100%"
     }
    },
    "1693ea71ac8a4b3aa633b5269a110f19": {
     "model_module": "@jupyter-widgets/base",
     "model_module_version": "1.2.0",
     "model_name": "LayoutModel",
     "state": {
      "_model_module": "@jupyter-widgets/base",
      "_model_module_version": "1.2.0",
      "_model_name": "LayoutModel",
      "_view_count": null,
      "_view_module": "@jupyter-widgets/base",
      "_view_module_version": "1.2.0",
      "_view_name": "LayoutView",
      "align_content": null,
      "align_items": null,
      "align_self": null,
      "border": null,
      "bottom": null,
      "display": null,
      "flex": null,
      "flex_flow": null,
      "grid_area": null,
      "grid_auto_columns": null,
      "grid_auto_flow": null,
      "grid_auto_rows": null,
      "grid_column": null,
      "grid_gap": null,
      "grid_row": null,
      "grid_template_areas": null,
      "grid_template_columns": null,
      "grid_template_rows": null,
      "height": null,
      "justify_content": null,
      "justify_items": null,
      "left": null,
      "margin": null,
      "max_height": null,
      "max_width": null,
      "min_height": null,
      "min_width": null,
      "object_fit": null,
      "object_position": null,
      "order": null,
      "overflow": null,
      "overflow_x": null,
      "overflow_y": null,
      "padding": null,
      "right": null,
      "top": null,
      "visibility": null,
      "width": null
     }
    },
    "18c93026359445279773bc04804757e4": {
     "model_module": "@jupyter-widgets/controls",
     "model_module_version": "1.5.0",
     "model_name": "DescriptionStyleModel",
     "state": {
      "_model_module": "@jupyter-widgets/controls",
      "_model_module_version": "1.5.0",
      "_model_name": "DescriptionStyleModel",
      "_view_count": null,
      "_view_module": "@jupyter-widgets/base",
      "_view_module_version": "1.2.0",
      "_view_name": "StyleView",
      "description_width": ""
     }
    },
    "1e4b673b92ab432483d9cee637453093": {
     "model_module": "@jupyter-widgets/controls",
     "model_module_version": "1.5.0",
     "model_name": "HBoxModel",
     "state": {
      "_dom_classes": [],
      "_model_module": "@jupyter-widgets/controls",
      "_model_module_version": "1.5.0",
      "_model_name": "HBoxModel",
      "_view_count": null,
      "_view_module": "@jupyter-widgets/controls",
      "_view_module_version": "1.5.0",
      "_view_name": "HBoxView",
      "box_style": "",
      "children": [
       "IPY_MODEL_96a5a7f32b5c476288883196a5175049",
       "IPY_MODEL_b222177a95c94f809fdd98498a60c383",
       "IPY_MODEL_df5d0d187741497ea9f5b392e6f01ad2"
      ],
      "layout": "IPY_MODEL_2a6239881b0e4442ae5bd41fdfcbefaf"
     }
    },
    "1ec557cc4b984ba4809f570a4709eeb7": {
     "model_module": "@jupyter-widgets/base",
     "model_module_version": "1.2.0",
     "model_name": "LayoutModel",
     "state": {
      "_model_module": "@jupyter-widgets/base",
      "_model_module_version": "1.2.0",
      "_model_name": "LayoutModel",
      "_view_count": null,
      "_view_module": "@jupyter-widgets/base",
      "_view_module_version": "1.2.0",
      "_view_name": "LayoutView",
      "align_content": null,
      "align_items": null,
      "align_self": null,
      "border": null,
      "bottom": null,
      "display": null,
      "flex": null,
      "flex_flow": null,
      "grid_area": null,
      "grid_auto_columns": null,
      "grid_auto_flow": null,
      "grid_auto_rows": null,
      "grid_column": null,
      "grid_gap": null,
      "grid_row": null,
      "grid_template_areas": null,
      "grid_template_columns": null,
      "grid_template_rows": null,
      "height": null,
      "justify_content": null,
      "justify_items": null,
      "left": null,
      "margin": null,
      "max_height": null,
      "max_width": null,
      "min_height": null,
      "min_width": null,
      "object_fit": null,
      "object_position": null,
      "order": null,
      "overflow": null,
      "overflow_x": null,
      "overflow_y": null,
      "padding": null,
      "right": null,
      "top": null,
      "visibility": null,
      "width": null
     }
    },
    "203075f75af1476a90c43d0d67dddd06": {
     "model_module": "@jupyter-widgets/controls",
     "model_module_version": "1.5.0",
     "model_name": "FloatProgressModel",
     "state": {
      "_dom_classes": [],
      "_model_module": "@jupyter-widgets/controls",
      "_model_module_version": "1.5.0",
      "_model_name": "FloatProgressModel",
      "_view_count": null,
      "_view_module": "@jupyter-widgets/controls",
      "_view_module_version": "1.5.0",
      "_view_name": "ProgressView",
      "bar_style": "success",
      "description": "",
      "description_tooltip": null,
      "layout": "IPY_MODEL_06f73c70f597429aa543d6642398847b",
      "max": 349,
      "min": 0,
      "orientation": "horizontal",
      "style": "IPY_MODEL_10df5ac6828d44e69f45e7cda15010ae",
      "value": 349
     }
    },
    "2067712bedac4f76bfd825379c4dcee8": {
     "model_module": "@jupyter-widgets/controls",
     "model_module_version": "1.5.0",
     "model_name": "DescriptionStyleModel",
     "state": {
      "_model_module": "@jupyter-widgets/controls",
      "_model_module_version": "1.5.0",
      "_model_name": "DescriptionStyleModel",
      "_view_count": null,
      "_view_module": "@jupyter-widgets/base",
      "_view_module_version": "1.2.0",
      "_view_name": "StyleView",
      "description_width": ""
     }
    },
    "219c5c6c72ab4fca9311db1fd1fcb6fb": {
     "model_module": "@jupyter-widgets/controls",
     "model_module_version": "1.5.0",
     "model_name": "FloatProgressModel",
     "state": {
      "_dom_classes": [],
      "_model_module": "@jupyter-widgets/controls",
      "_model_module_version": "1.5.0",
      "_model_name": "FloatProgressModel",
      "_view_count": null,
      "_view_module": "@jupyter-widgets/controls",
      "_view_module_version": "1.5.0",
      "_view_name": "ProgressView",
      "bar_style": "success",
      "description": "",
      "description_tooltip": null,
      "layout": "IPY_MODEL_67209f302a8541be9f9adcbbd64582f9",
      "max": 10,
      "min": 0,
      "orientation": "horizontal",
      "style": "IPY_MODEL_e2715c4433b34c66b2ac5aa8635ce9e2",
      "value": 10
     }
    },
    "22243f79dd334e4888741615cfdfc6ee": {
     "model_module": "@jupyter-widgets/base",
     "model_module_version": "1.2.0",
     "model_name": "LayoutModel",
     "state": {
      "_model_module": "@jupyter-widgets/base",
      "_model_module_version": "1.2.0",
      "_model_name": "LayoutModel",
      "_view_count": null,
      "_view_module": "@jupyter-widgets/base",
      "_view_module_version": "1.2.0",
      "_view_name": "LayoutView",
      "align_content": null,
      "align_items": null,
      "align_self": null,
      "border": null,
      "bottom": null,
      "display": null,
      "flex": null,
      "flex_flow": null,
      "grid_area": null,
      "grid_auto_columns": null,
      "grid_auto_flow": null,
      "grid_auto_rows": null,
      "grid_column": null,
      "grid_gap": null,
      "grid_row": null,
      "grid_template_areas": null,
      "grid_template_columns": null,
      "grid_template_rows": null,
      "height": null,
      "justify_content": null,
      "justify_items": null,
      "left": null,
      "margin": null,
      "max_height": null,
      "max_width": null,
      "min_height": null,
      "min_width": null,
      "object_fit": null,
      "object_position": null,
      "order": null,
      "overflow": null,
      "overflow_x": null,
      "overflow_y": null,
      "padding": null,
      "right": null,
      "top": null,
      "visibility": null,
      "width": null
     }
    },
    "2449be4565594941944f23f4f0134c2f": {
     "model_module": "@jupyter-widgets/base",
     "model_module_version": "1.2.0",
     "model_name": "LayoutModel",
     "state": {
      "_model_module": "@jupyter-widgets/base",
      "_model_module_version": "1.2.0",
      "_model_name": "LayoutModel",
      "_view_count": null,
      "_view_module": "@jupyter-widgets/base",
      "_view_module_version": "1.2.0",
      "_view_name": "LayoutView",
      "align_content": null,
      "align_items": null,
      "align_self": null,
      "border": null,
      "bottom": null,
      "display": null,
      "flex": null,
      "flex_flow": null,
      "grid_area": null,
      "grid_auto_columns": null,
      "grid_auto_flow": null,
      "grid_auto_rows": null,
      "grid_column": null,
      "grid_gap": null,
      "grid_row": null,
      "grid_template_areas": null,
      "grid_template_columns": null,
      "grid_template_rows": null,
      "height": null,
      "justify_content": null,
      "justify_items": null,
      "left": null,
      "margin": null,
      "max_height": null,
      "max_width": null,
      "min_height": null,
      "min_width": null,
      "object_fit": null,
      "object_position": null,
      "order": null,
      "overflow": null,
      "overflow_x": null,
      "overflow_y": null,
      "padding": null,
      "right": null,
      "top": null,
      "visibility": null,
      "width": null
     }
    },
    "24883993056b432cbb7360115736d235": {
     "model_module": "@jupyter-widgets/base",
     "model_module_version": "1.2.0",
     "model_name": "LayoutModel",
     "state": {
      "_model_module": "@jupyter-widgets/base",
      "_model_module_version": "1.2.0",
      "_model_name": "LayoutModel",
      "_view_count": null,
      "_view_module": "@jupyter-widgets/base",
      "_view_module_version": "1.2.0",
      "_view_name": "LayoutView",
      "align_content": null,
      "align_items": null,
      "align_self": null,
      "border": null,
      "bottom": null,
      "display": null,
      "flex": null,
      "flex_flow": null,
      "grid_area": null,
      "grid_auto_columns": null,
      "grid_auto_flow": null,
      "grid_auto_rows": null,
      "grid_column": null,
      "grid_gap": null,
      "grid_row": null,
      "grid_template_areas": null,
      "grid_template_columns": null,
      "grid_template_rows": null,
      "height": null,
      "justify_content": null,
      "justify_items": null,
      "left": null,
      "margin": null,
      "max_height": null,
      "max_width": null,
      "min_height": null,
      "min_width": null,
      "object_fit": null,
      "object_position": null,
      "order": null,
      "overflow": null,
      "overflow_x": null,
      "overflow_y": null,
      "padding": null,
      "right": null,
      "top": null,
      "visibility": null,
      "width": null
     }
    },
    "25ce008a9e7d48ea9a45c03bc041aa44": {
     "model_module": "@jupyter-widgets/controls",
     "model_module_version": "1.5.0",
     "model_name": "HTMLModel",
     "state": {
      "_dom_classes": [],
      "_model_module": "@jupyter-widgets/controls",
      "_model_module_version": "1.5.0",
      "_model_name": "HTMLModel",
      "_view_count": null,
      "_view_module": "@jupyter-widgets/controls",
      "_view_module_version": "1.5.0",
      "_view_name": "HTMLView",
      "description": "",
      "description_tooltip": null,
      "layout": "IPY_MODEL_ab77ba40c39f44f4bfc77674ccbc0c13",
      "placeholder": "​",
      "style": "IPY_MODEL_2c141a7ec19a43048ae1728901d5f0bb",
      "value": "Downloading: 100%"
     }
    },
    "266ea7989dfe458b9afab2bf782a8b0a": {
     "model_module": "@jupyter-widgets/controls",
     "model_module_version": "1.5.0",
     "model_name": "DescriptionStyleModel",
     "state": {
      "_model_module": "@jupyter-widgets/controls",
      "_model_module_version": "1.5.0",
      "_model_name": "DescriptionStyleModel",
      "_view_count": null,
      "_view_module": "@jupyter-widgets/base",
      "_view_module_version": "1.2.0",
      "_view_name": "StyleView",
      "description_width": ""
     }
    },
    "274ffc7f401045d589ad6860087ef216": {
     "model_module": "@jupyter-widgets/controls",
     "model_module_version": "1.5.0",
     "model_name": "DescriptionStyleModel",
     "state": {
      "_model_module": "@jupyter-widgets/controls",
      "_model_module_version": "1.5.0",
      "_model_name": "DescriptionStyleModel",
      "_view_count": null,
      "_view_module": "@jupyter-widgets/base",
      "_view_module_version": "1.2.0",
      "_view_name": "StyleView",
      "description_width": ""
     }
    },
    "275a56414eb8408ead3e4128c8b1a0c7": {
     "model_module": "@jupyter-widgets/controls",
     "model_module_version": "1.5.0",
     "model_name": "DescriptionStyleModel",
     "state": {
      "_model_module": "@jupyter-widgets/controls",
      "_model_module_version": "1.5.0",
      "_model_name": "DescriptionStyleModel",
      "_view_count": null,
      "_view_module": "@jupyter-widgets/base",
      "_view_module_version": "1.2.0",
      "_view_name": "StyleView",
      "description_width": ""
     }
    },
    "276d73e893014068982832389a8fe655": {
     "model_module": "@jupyter-widgets/controls",
     "model_module_version": "1.5.0",
     "model_name": "DescriptionStyleModel",
     "state": {
      "_model_module": "@jupyter-widgets/controls",
      "_model_module_version": "1.5.0",
      "_model_name": "DescriptionStyleModel",
      "_view_count": null,
      "_view_module": "@jupyter-widgets/base",
      "_view_module_version": "1.2.0",
      "_view_name": "StyleView",
      "description_width": ""
     }
    },
    "27e72047882d4447bea6a8225a13a94e": {
     "model_module": "@jupyter-widgets/controls",
     "model_module_version": "1.5.0",
     "model_name": "HTMLModel",
     "state": {
      "_dom_classes": [],
      "_model_module": "@jupyter-widgets/controls",
      "_model_module_version": "1.5.0",
      "_model_name": "HTMLModel",
      "_view_count": null,
      "_view_module": "@jupyter-widgets/controls",
      "_view_module_version": "1.5.0",
      "_view_name": "HTMLView",
      "description": "",
      "description_tooltip": null,
      "layout": "IPY_MODEL_5469d8df60234899a8be66ddd7ce5cbc",
      "placeholder": "​",
      "style": "IPY_MODEL_5dbd408be1604340963b8190cbd80afb",
      "value": " 232k/232k [00:00&lt;00:00, 5.78MB/s]"
     }
    },
    "29e27cad0c5f4607a9ed860faffd6fa2": {
     "model_module": "@jupyter-widgets/controls",
     "model_module_version": "1.5.0",
     "model_name": "DescriptionStyleModel",
     "state": {
      "_model_module": "@jupyter-widgets/controls",
      "_model_module_version": "1.5.0",
      "_model_name": "DescriptionStyleModel",
      "_view_count": null,
      "_view_module": "@jupyter-widgets/base",
      "_view_module_version": "1.2.0",
      "_view_name": "StyleView",
      "description_width": ""
     }
    },
    "2a6239881b0e4442ae5bd41fdfcbefaf": {
     "model_module": "@jupyter-widgets/base",
     "model_module_version": "1.2.0",
     "model_name": "LayoutModel",
     "state": {
      "_model_module": "@jupyter-widgets/base",
      "_model_module_version": "1.2.0",
      "_model_name": "LayoutModel",
      "_view_count": null,
      "_view_module": "@jupyter-widgets/base",
      "_view_module_version": "1.2.0",
      "_view_name": "LayoutView",
      "align_content": null,
      "align_items": null,
      "align_self": null,
      "border": null,
      "bottom": null,
      "display": null,
      "flex": null,
      "flex_flow": null,
      "grid_area": null,
      "grid_auto_columns": null,
      "grid_auto_flow": null,
      "grid_auto_rows": null,
      "grid_column": null,
      "grid_gap": null,
      "grid_row": null,
      "grid_template_areas": null,
      "grid_template_columns": null,
      "grid_template_rows": null,
      "height": null,
      "justify_content": null,
      "justify_items": null,
      "left": null,
      "margin": null,
      "max_height": null,
      "max_width": null,
      "min_height": null,
      "min_width": null,
      "object_fit": null,
      "object_position": null,
      "order": null,
      "overflow": null,
      "overflow_x": null,
      "overflow_y": null,
      "padding": null,
      "right": null,
      "top": null,
      "visibility": null,
      "width": null
     }
    },
    "2b946cab5ac34df784b07d8917ddd050": {
     "model_module": "@jupyter-widgets/controls",
     "model_module_version": "1.5.0",
     "model_name": "HTMLModel",
     "state": {
      "_dom_classes": [],
      "_model_module": "@jupyter-widgets/controls",
      "_model_module_version": "1.5.0",
      "_model_name": "HTMLModel",
      "_view_count": null,
      "_view_module": "@jupyter-widgets/controls",
      "_view_module_version": "1.5.0",
      "_view_name": "HTMLView",
      "description": "",
      "description_tooltip": null,
      "layout": "IPY_MODEL_e955fa78269a420285313f787f1bea01",
      "placeholder": "​",
      "style": "IPY_MODEL_e3891688b69e4d66b5961899e7a717db",
      "value": " 466k/466k [00:00&lt;00:00, 6.93MB/s]"
     }
    },
    "2be912ce98474363841d03e981dc4848": {
     "model_module": "@jupyter-widgets/controls",
     "model_module_version": "1.5.0",
     "model_name": "HBoxModel",
     "state": {
      "_dom_classes": [],
      "_model_module": "@jupyter-widgets/controls",
      "_model_module_version": "1.5.0",
      "_model_name": "HBoxModel",
      "_view_count": null,
      "_view_module": "@jupyter-widgets/controls",
      "_view_module_version": "1.5.0",
      "_view_name": "HBoxView",
      "box_style": "",
      "children": [
       "IPY_MODEL_583ca3ab007f4eb6ac4a7c496b2a19a7",
       "IPY_MODEL_034af98ead144162acfd0f8b2c5f6e30",
       "IPY_MODEL_0574c17e3f6c4c3ba7fa2555b2c1e5af"
      ],
      "layout": "IPY_MODEL_6b619966a7944951beb7bc565862e6b0"
     }
    },
    "2c141a7ec19a43048ae1728901d5f0bb": {
     "model_module": "@jupyter-widgets/controls",
     "model_module_version": "1.5.0",
     "model_name": "DescriptionStyleModel",
     "state": {
      "_model_module": "@jupyter-widgets/controls",
      "_model_module_version": "1.5.0",
      "_model_name": "DescriptionStyleModel",
      "_view_count": null,
      "_view_module": "@jupyter-widgets/base",
      "_view_module_version": "1.2.0",
      "_view_name": "StyleView",
      "description_width": ""
     }
    },
    "2f46fbdf66de4e34bbe9c7cb639c4a30": {
     "model_module": "@jupyter-widgets/base",
     "model_module_version": "1.2.0",
     "model_name": "LayoutModel",
     "state": {
      "_model_module": "@jupyter-widgets/base",
      "_model_module_version": "1.2.0",
      "_model_name": "LayoutModel",
      "_view_count": null,
      "_view_module": "@jupyter-widgets/base",
      "_view_module_version": "1.2.0",
      "_view_name": "LayoutView",
      "align_content": null,
      "align_items": null,
      "align_self": null,
      "border": null,
      "bottom": null,
      "display": null,
      "flex": null,
      "flex_flow": null,
      "grid_area": null,
      "grid_auto_columns": null,
      "grid_auto_flow": null,
      "grid_auto_rows": null,
      "grid_column": null,
      "grid_gap": null,
      "grid_row": null,
      "grid_template_areas": null,
      "grid_template_columns": null,
      "grid_template_rows": null,
      "height": null,
      "justify_content": null,
      "justify_items": null,
      "left": null,
      "margin": null,
      "max_height": null,
      "max_width": null,
      "min_height": null,
      "min_width": null,
      "object_fit": null,
      "object_position": null,
      "order": null,
      "overflow": null,
      "overflow_x": null,
      "overflow_y": null,
      "padding": null,
      "right": null,
      "top": null,
      "visibility": null,
      "width": null
     }
    },
    "305ff61a123f4a72870901735305ad1e": {
     "model_module": "@jupyter-widgets/controls",
     "model_module_version": "1.5.0",
     "model_name": "HTMLModel",
     "state": {
      "_dom_classes": [],
      "_model_module": "@jupyter-widgets/controls",
      "_model_module_version": "1.5.0",
      "_model_name": "HTMLModel",
      "_view_count": null,
      "_view_module": "@jupyter-widgets/controls",
      "_view_module_version": "1.5.0",
      "_view_name": "HTMLView",
      "description": "",
      "description_tooltip": null,
      "layout": "IPY_MODEL_845ab910c4d143089095fbde4b7b0dc3",
      "placeholder": "​",
      "style": "IPY_MODEL_433959fb8482422d8c025cbe4250a93c",
      "value": "Downloading: 100%"
     }
    },
    "30a9a5f2865b499c8279730cb2e16a9b": {
     "model_module": "@jupyter-widgets/controls",
     "model_module_version": "1.5.0",
     "model_name": "ProgressStyleModel",
     "state": {
      "_model_module": "@jupyter-widgets/controls",
      "_model_module_version": "1.5.0",
      "_model_name": "ProgressStyleModel",
      "_view_count": null,
      "_view_module": "@jupyter-widgets/base",
      "_view_module_version": "1.2.0",
      "_view_name": "StyleView",
      "bar_color": null,
      "description_width": ""
     }
    },
    "31aa4d64a7a04925a927fed223336d16": {
     "model_module": "@jupyter-widgets/controls",
     "model_module_version": "1.5.0",
     "model_name": "DescriptionStyleModel",
     "state": {
      "_model_module": "@jupyter-widgets/controls",
      "_model_module_version": "1.5.0",
      "_model_name": "DescriptionStyleModel",
      "_view_count": null,
      "_view_module": "@jupyter-widgets/base",
      "_view_module_version": "1.2.0",
      "_view_name": "StyleView",
      "description_width": ""
     }
    },
    "321505d7209c48289e8649f58e3fac51": {
     "model_module": "@jupyter-widgets/controls",
     "model_module_version": "1.5.0",
     "model_name": "ProgressStyleModel",
     "state": {
      "_model_module": "@jupyter-widgets/controls",
      "_model_module_version": "1.5.0",
      "_model_name": "ProgressStyleModel",
      "_view_count": null,
      "_view_module": "@jupyter-widgets/base",
      "_view_module_version": "1.2.0",
      "_view_name": "StyleView",
      "bar_color": null,
      "description_width": ""
     }
    },
    "3290d8ce78354aef950651288df1f998": {
     "model_module": "@jupyter-widgets/base",
     "model_module_version": "1.2.0",
     "model_name": "LayoutModel",
     "state": {
      "_model_module": "@jupyter-widgets/base",
      "_model_module_version": "1.2.0",
      "_model_name": "LayoutModel",
      "_view_count": null,
      "_view_module": "@jupyter-widgets/base",
      "_view_module_version": "1.2.0",
      "_view_name": "LayoutView",
      "align_content": null,
      "align_items": null,
      "align_self": null,
      "border": null,
      "bottom": null,
      "display": null,
      "flex": null,
      "flex_flow": null,
      "grid_area": null,
      "grid_auto_columns": null,
      "grid_auto_flow": null,
      "grid_auto_rows": null,
      "grid_column": null,
      "grid_gap": null,
      "grid_row": null,
      "grid_template_areas": null,
      "grid_template_columns": null,
      "grid_template_rows": null,
      "height": null,
      "justify_content": null,
      "justify_items": null,
      "left": null,
      "margin": null,
      "max_height": null,
      "max_width": null,
      "min_height": null,
      "min_width": null,
      "object_fit": null,
      "object_position": null,
      "order": null,
      "overflow": null,
      "overflow_x": null,
      "overflow_y": null,
      "padding": null,
      "right": null,
      "top": null,
      "visibility": null,
      "width": null
     }
    },
    "329f0f45c76c4830bbd00547c0e2c69d": {
     "model_module": "@jupyter-widgets/controls",
     "model_module_version": "1.5.0",
     "model_name": "ProgressStyleModel",
     "state": {
      "_model_module": "@jupyter-widgets/controls",
      "_model_module_version": "1.5.0",
      "_model_name": "ProgressStyleModel",
      "_view_count": null,
      "_view_module": "@jupyter-widgets/base",
      "_view_module_version": "1.2.0",
      "_view_name": "StyleView",
      "bar_color": null,
      "description_width": ""
     }
    },
    "33aa3652d6df4ea3859ea26b4c67b956": {
     "model_module": "@jupyter-widgets/base",
     "model_module_version": "1.2.0",
     "model_name": "LayoutModel",
     "state": {
      "_model_module": "@jupyter-widgets/base",
      "_model_module_version": "1.2.0",
      "_model_name": "LayoutModel",
      "_view_count": null,
      "_view_module": "@jupyter-widgets/base",
      "_view_module_version": "1.2.0",
      "_view_name": "LayoutView",
      "align_content": null,
      "align_items": null,
      "align_self": null,
      "border": null,
      "bottom": null,
      "display": null,
      "flex": null,
      "flex_flow": null,
      "grid_area": null,
      "grid_auto_columns": null,
      "grid_auto_flow": null,
      "grid_auto_rows": null,
      "grid_column": null,
      "grid_gap": null,
      "grid_row": null,
      "grid_template_areas": null,
      "grid_template_columns": null,
      "grid_template_rows": null,
      "height": null,
      "justify_content": null,
      "justify_items": null,
      "left": null,
      "margin": null,
      "max_height": null,
      "max_width": null,
      "min_height": null,
      "min_width": null,
      "object_fit": null,
      "object_position": null,
      "order": null,
      "overflow": null,
      "overflow_x": null,
      "overflow_y": null,
      "padding": null,
      "right": null,
      "top": null,
      "visibility": null,
      "width": null
     }
    },
    "361f707c40c2445fabed461c1d3cb2fe": {
     "model_module": "@jupyter-widgets/controls",
     "model_module_version": "1.5.0",
     "model_name": "DescriptionStyleModel",
     "state": {
      "_model_module": "@jupyter-widgets/controls",
      "_model_module_version": "1.5.0",
      "_model_name": "DescriptionStyleModel",
      "_view_count": null,
      "_view_module": "@jupyter-widgets/base",
      "_view_module_version": "1.2.0",
      "_view_name": "StyleView",
      "description_width": ""
     }
    },
    "373707bb4ffe4264bf86a08a14199f03": {
     "model_module": "@jupyter-widgets/controls",
     "model_module_version": "1.5.0",
     "model_name": "HTMLModel",
     "state": {
      "_dom_classes": [],
      "_model_module": "@jupyter-widgets/controls",
      "_model_module_version": "1.5.0",
      "_model_name": "HTMLModel",
      "_view_count": null,
      "_view_module": "@jupyter-widgets/controls",
      "_view_module_version": "1.5.0",
      "_view_name": "HTMLView",
      "description": "",
      "description_tooltip": null,
      "layout": "IPY_MODEL_fb7e8e49f53b416590fb0bf4feecf97f",
      "placeholder": "​",
      "style": "IPY_MODEL_a6881d4e296c4e48894e25a25fc0d8ab",
      "value": "Downloading: 100%"
     }
    },
    "3893ac34fbea44c2a53c5b51ce2d09f4": {
     "model_module": "@jupyter-widgets/base",
     "model_module_version": "1.2.0",
     "model_name": "LayoutModel",
     "state": {
      "_model_module": "@jupyter-widgets/base",
      "_model_module_version": "1.2.0",
      "_model_name": "LayoutModel",
      "_view_count": null,
      "_view_module": "@jupyter-widgets/base",
      "_view_module_version": "1.2.0",
      "_view_name": "LayoutView",
      "align_content": null,
      "align_items": null,
      "align_self": null,
      "border": null,
      "bottom": null,
      "display": null,
      "flex": null,
      "flex_flow": null,
      "grid_area": null,
      "grid_auto_columns": null,
      "grid_auto_flow": null,
      "grid_auto_rows": null,
      "grid_column": null,
      "grid_gap": null,
      "grid_row": null,
      "grid_template_areas": null,
      "grid_template_columns": null,
      "grid_template_rows": null,
      "height": null,
      "justify_content": null,
      "justify_items": null,
      "left": null,
      "margin": null,
      "max_height": null,
      "max_width": null,
      "min_height": null,
      "min_width": null,
      "object_fit": null,
      "object_position": null,
      "order": null,
      "overflow": null,
      "overflow_x": null,
      "overflow_y": null,
      "padding": null,
      "right": null,
      "top": null,
      "visibility": null,
      "width": null
     }
    },
    "38f9e26f901748f58a373ca665377226": {
     "model_module": "@jupyter-widgets/base",
     "model_module_version": "1.2.0",
     "model_name": "LayoutModel",
     "state": {
      "_model_module": "@jupyter-widgets/base",
      "_model_module_version": "1.2.0",
      "_model_name": "LayoutModel",
      "_view_count": null,
      "_view_module": "@jupyter-widgets/base",
      "_view_module_version": "1.2.0",
      "_view_name": "LayoutView",
      "align_content": null,
      "align_items": null,
      "align_self": null,
      "border": null,
      "bottom": null,
      "display": null,
      "flex": null,
      "flex_flow": null,
      "grid_area": null,
      "grid_auto_columns": null,
      "grid_auto_flow": null,
      "grid_auto_rows": null,
      "grid_column": null,
      "grid_gap": null,
      "grid_row": null,
      "grid_template_areas": null,
      "grid_template_columns": null,
      "grid_template_rows": null,
      "height": null,
      "justify_content": null,
      "justify_items": null,
      "left": null,
      "margin": null,
      "max_height": null,
      "max_width": null,
      "min_height": null,
      "min_width": null,
      "object_fit": null,
      "object_position": null,
      "order": null,
      "overflow": null,
      "overflow_x": null,
      "overflow_y": null,
      "padding": null,
      "right": null,
      "top": null,
      "visibility": null,
      "width": null
     }
    },
    "3bdc1878395c4ae2a583dfb420ddda17": {
     "model_module": "@jupyter-widgets/base",
     "model_module_version": "1.2.0",
     "model_name": "LayoutModel",
     "state": {
      "_model_module": "@jupyter-widgets/base",
      "_model_module_version": "1.2.0",
      "_model_name": "LayoutModel",
      "_view_count": null,
      "_view_module": "@jupyter-widgets/base",
      "_view_module_version": "1.2.0",
      "_view_name": "LayoutView",
      "align_content": null,
      "align_items": null,
      "align_self": null,
      "border": null,
      "bottom": null,
      "display": null,
      "flex": null,
      "flex_flow": null,
      "grid_area": null,
      "grid_auto_columns": null,
      "grid_auto_flow": null,
      "grid_auto_rows": null,
      "grid_column": null,
      "grid_gap": null,
      "grid_row": null,
      "grid_template_areas": null,
      "grid_template_columns": null,
      "grid_template_rows": null,
      "height": null,
      "justify_content": null,
      "justify_items": null,
      "left": null,
      "margin": null,
      "max_height": null,
      "max_width": null,
      "min_height": null,
      "min_width": null,
      "object_fit": null,
      "object_position": null,
      "order": null,
      "overflow": null,
      "overflow_x": null,
      "overflow_y": null,
      "padding": null,
      "right": null,
      "top": null,
      "visibility": null,
      "width": null
     }
    },
    "433959fb8482422d8c025cbe4250a93c": {
     "model_module": "@jupyter-widgets/controls",
     "model_module_version": "1.5.0",
     "model_name": "DescriptionStyleModel",
     "state": {
      "_model_module": "@jupyter-widgets/controls",
      "_model_module_version": "1.5.0",
      "_model_name": "DescriptionStyleModel",
      "_view_count": null,
      "_view_module": "@jupyter-widgets/base",
      "_view_module_version": "1.2.0",
      "_view_name": "StyleView",
      "description_width": ""
     }
    },
    "463e122a7efb46f783bbb383d464a967": {
     "model_module": "@jupyter-widgets/controls",
     "model_module_version": "1.5.0",
     "model_name": "HTMLModel",
     "state": {
      "_dom_classes": [],
      "_model_module": "@jupyter-widgets/controls",
      "_model_module_version": "1.5.0",
      "_model_name": "HTMLModel",
      "_view_count": null,
      "_view_module": "@jupyter-widgets/controls",
      "_view_module_version": "1.5.0",
      "_view_name": "HTMLView",
      "description": "",
      "description_tooltip": null,
      "layout": "IPY_MODEL_51114c7e4717496882b29ca83cb59a61",
      "placeholder": "​",
      "style": "IPY_MODEL_276d73e893014068982832389a8fe655",
      "value": " 13.1k/13.1k [00:00&lt;00:00, 412kB/s]"
     }
    },
    "4aae7647801944b8a5d6bcc76f9536f5": {
     "model_module": "@jupyter-widgets/base",
     "model_module_version": "1.2.0",
     "model_name": "LayoutModel",
     "state": {
      "_model_module": "@jupyter-widgets/base",
      "_model_module_version": "1.2.0",
      "_model_name": "LayoutModel",
      "_view_count": null,
      "_view_module": "@jupyter-widgets/base",
      "_view_module_version": "1.2.0",
      "_view_name": "LayoutView",
      "align_content": null,
      "align_items": null,
      "align_self": null,
      "border": null,
      "bottom": null,
      "display": null,
      "flex": null,
      "flex_flow": null,
      "grid_area": null,
      "grid_auto_columns": null,
      "grid_auto_flow": null,
      "grid_auto_rows": null,
      "grid_column": null,
      "grid_gap": null,
      "grid_row": null,
      "grid_template_areas": null,
      "grid_template_columns": null,
      "grid_template_rows": null,
      "height": null,
      "justify_content": null,
      "justify_items": null,
      "left": null,
      "margin": null,
      "max_height": null,
      "max_width": null,
      "min_height": null,
      "min_width": null,
      "object_fit": null,
      "object_position": null,
      "order": null,
      "overflow": null,
      "overflow_x": null,
      "overflow_y": null,
      "padding": null,
      "right": null,
      "top": null,
      "visibility": null,
      "width": null
     }
    },
    "4c9fb0045f2e43ecaa7d9d376d488203": {
     "model_module": "@jupyter-widgets/controls",
     "model_module_version": "1.5.0",
     "model_name": "FloatProgressModel",
     "state": {
      "_dom_classes": [],
      "_model_module": "@jupyter-widgets/controls",
      "_model_module_version": "1.5.0",
      "_model_name": "FloatProgressModel",
      "_view_count": null,
      "_view_module": "@jupyter-widgets/controls",
      "_view_module_version": "1.5.0",
      "_view_name": "ProgressView",
      "bar_style": "success",
      "description": "",
      "description_tooltip": null,
      "layout": "IPY_MODEL_ed786229532e49199c57fe1e3c75a280",
      "max": 571,
      "min": 0,
      "orientation": "horizontal",
      "style": "IPY_MODEL_9a66c2aebc9f4cf3b2d66708f1f0f07f",
      "value": 571
     }
    },
    "4d7882754c8d44629e6bc259b06455be": {
     "model_module": "@jupyter-widgets/controls",
     "model_module_version": "1.5.0",
     "model_name": "DescriptionStyleModel",
     "state": {
      "_model_module": "@jupyter-widgets/controls",
      "_model_module_version": "1.5.0",
      "_model_name": "DescriptionStyleModel",
      "_view_count": null,
      "_view_module": "@jupyter-widgets/base",
      "_view_module_version": "1.2.0",
      "_view_name": "StyleView",
      "description_width": ""
     }
    },
    "4da53cc0076f4f879bf22057b0c8807f": {
     "model_module": "@jupyter-widgets/controls",
     "model_module_version": "1.5.0",
     "model_name": "HTMLModel",
     "state": {
      "_dom_classes": [],
      "_model_module": "@jupyter-widgets/controls",
      "_model_module_version": "1.5.0",
      "_model_name": "HTMLModel",
      "_view_count": null,
      "_view_module": "@jupyter-widgets/controls",
      "_view_module_version": "1.5.0",
      "_view_name": "HTMLView",
      "description": "",
      "description_tooltip": null,
      "layout": "IPY_MODEL_cbf5cc43bf0a46989427b5e2f7e59184",
      "placeholder": "​",
      "style": "IPY_MODEL_29e27cad0c5f4607a9ed860faffd6fa2",
      "value": " 363/363 [00:00&lt;00:00, 8.62kB/s]"
     }
    },
    "4e10d5e9940844a9805ab0d22aaa9834": {
     "model_module": "@jupyter-widgets/base",
     "model_module_version": "1.2.0",
     "model_name": "LayoutModel",
     "state": {
      "_model_module": "@jupyter-widgets/base",
      "_model_module_version": "1.2.0",
      "_model_name": "LayoutModel",
      "_view_count": null,
      "_view_module": "@jupyter-widgets/base",
      "_view_module_version": "1.2.0",
      "_view_name": "LayoutView",
      "align_content": null,
      "align_items": null,
      "align_self": null,
      "border": null,
      "bottom": null,
      "display": null,
      "flex": null,
      "flex_flow": null,
      "grid_area": null,
      "grid_auto_columns": null,
      "grid_auto_flow": null,
      "grid_auto_rows": null,
      "grid_column": null,
      "grid_gap": null,
      "grid_row": null,
      "grid_template_areas": null,
      "grid_template_columns": null,
      "grid_template_rows": null,
      "height": null,
      "justify_content": null,
      "justify_items": null,
      "left": null,
      "margin": null,
      "max_height": null,
      "max_width": null,
      "min_height": null,
      "min_width": null,
      "object_fit": null,
      "object_position": null,
      "order": null,
      "overflow": null,
      "overflow_x": null,
      "overflow_y": null,
      "padding": null,
      "right": null,
      "top": null,
      "visibility": null,
      "width": null
     }
    },
    "5083d03d266340f7a5ed5891b661b4de": {
     "model_module": "@jupyter-widgets/base",
     "model_module_version": "1.2.0",
     "model_name": "LayoutModel",
     "state": {
      "_model_module": "@jupyter-widgets/base",
      "_model_module_version": "1.2.0",
      "_model_name": "LayoutModel",
      "_view_count": null,
      "_view_module": "@jupyter-widgets/base",
      "_view_module_version": "1.2.0",
      "_view_name": "LayoutView",
      "align_content": null,
      "align_items": null,
      "align_self": null,
      "border": null,
      "bottom": null,
      "display": null,
      "flex": null,
      "flex_flow": null,
      "grid_area": null,
      "grid_auto_columns": null,
      "grid_auto_flow": null,
      "grid_auto_rows": null,
      "grid_column": null,
      "grid_gap": null,
      "grid_row": null,
      "grid_template_areas": null,
      "grid_template_columns": null,
      "grid_template_rows": null,
      "height": null,
      "justify_content": null,
      "justify_items": null,
      "left": null,
      "margin": null,
      "max_height": null,
      "max_width": null,
      "min_height": null,
      "min_width": null,
      "object_fit": null,
      "object_position": null,
      "order": null,
      "overflow": null,
      "overflow_x": null,
      "overflow_y": null,
      "padding": null,
      "right": null,
      "top": null,
      "visibility": null,
      "width": null
     }
    },
    "51114c7e4717496882b29ca83cb59a61": {
     "model_module": "@jupyter-widgets/base",
     "model_module_version": "1.2.0",
     "model_name": "LayoutModel",
     "state": {
      "_model_module": "@jupyter-widgets/base",
      "_model_module_version": "1.2.0",
      "_model_name": "LayoutModel",
      "_view_count": null,
      "_view_module": "@jupyter-widgets/base",
      "_view_module_version": "1.2.0",
      "_view_name": "LayoutView",
      "align_content": null,
      "align_items": null,
      "align_self": null,
      "border": null,
      "bottom": null,
      "display": null,
      "flex": null,
      "flex_flow": null,
      "grid_area": null,
      "grid_auto_columns": null,
      "grid_auto_flow": null,
      "grid_auto_rows": null,
      "grid_column": null,
      "grid_gap": null,
      "grid_row": null,
      "grid_template_areas": null,
      "grid_template_columns": null,
      "grid_template_rows": null,
      "height": null,
      "justify_content": null,
      "justify_items": null,
      "left": null,
      "margin": null,
      "max_height": null,
      "max_width": null,
      "min_height": null,
      "min_width": null,
      "object_fit": null,
      "object_position": null,
      "order": null,
      "overflow": null,
      "overflow_x": null,
      "overflow_y": null,
      "padding": null,
      "right": null,
      "top": null,
      "visibility": null,
      "width": null
     }
    },
    "5469d8df60234899a8be66ddd7ce5cbc": {
     "model_module": "@jupyter-widgets/base",
     "model_module_version": "1.2.0",
     "model_name": "LayoutModel",
     "state": {
      "_model_module": "@jupyter-widgets/base",
      "_model_module_version": "1.2.0",
      "_model_name": "LayoutModel",
      "_view_count": null,
      "_view_module": "@jupyter-widgets/base",
      "_view_module_version": "1.2.0",
      "_view_name": "LayoutView",
      "align_content": null,
      "align_items": null,
      "align_self": null,
      "border": null,
      "bottom": null,
      "display": null,
      "flex": null,
      "flex_flow": null,
      "grid_area": null,
      "grid_auto_columns": null,
      "grid_auto_flow": null,
      "grid_auto_rows": null,
      "grid_column": null,
      "grid_gap": null,
      "grid_row": null,
      "grid_template_areas": null,
      "grid_template_columns": null,
      "grid_template_rows": null,
      "height": null,
      "justify_content": null,
      "justify_items": null,
      "left": null,
      "margin": null,
      "max_height": null,
      "max_width": null,
      "min_height": null,
      "min_width": null,
      "object_fit": null,
      "object_position": null,
      "order": null,
      "overflow": null,
      "overflow_x": null,
      "overflow_y": null,
      "padding": null,
      "right": null,
      "top": null,
      "visibility": null,
      "width": null
     }
    },
    "55f79bf7633d4750ae67a54996fe17b7": {
     "model_module": "@jupyter-widgets/controls",
     "model_module_version": "1.5.0",
     "model_name": "FloatProgressModel",
     "state": {
      "_dom_classes": [],
      "_model_module": "@jupyter-widgets/controls",
      "_model_module_version": "1.5.0",
      "_model_name": "FloatProgressModel",
      "_view_count": null,
      "_view_module": "@jupyter-widgets/controls",
      "_view_module_version": "1.5.0",
      "_view_name": "ProgressView",
      "bar_style": "success",
      "description": "",
      "description_tooltip": null,
      "layout": "IPY_MODEL_8dd4934582dc4529bdbc2d8515dfbbab",
      "max": 363,
      "min": 0,
      "orientation": "horizontal",
      "style": "IPY_MODEL_0ad33f57a2914996ad2bba51a31722da",
      "value": 363
     }
    },
    "583ca3ab007f4eb6ac4a7c496b2a19a7": {
     "model_module": "@jupyter-widgets/controls",
     "model_module_version": "1.5.0",
     "model_name": "HTMLModel",
     "state": {
      "_dom_classes": [],
      "_model_module": "@jupyter-widgets/controls",
      "_model_module_version": "1.5.0",
      "_model_name": "HTMLModel",
      "_view_count": null,
      "_view_module": "@jupyter-widgets/controls",
      "_view_module_version": "1.5.0",
      "_view_name": "HTMLView",
      "description": "",
      "description_tooltip": null,
      "layout": "IPY_MODEL_5083d03d266340f7a5ed5891b661b4de",
      "placeholder": "​",
      "style": "IPY_MODEL_11e35c222ced460db387aa2df4ef9fad",
      "value": "Downloading: 100%"
     }
    },
    "5cec8dcb66cd44edad0a5619d7be3a22": {
     "model_module": "@jupyter-widgets/base",
     "model_module_version": "1.2.0",
     "model_name": "LayoutModel",
     "state": {
      "_model_module": "@jupyter-widgets/base",
      "_model_module_version": "1.2.0",
      "_model_name": "LayoutModel",
      "_view_count": null,
      "_view_module": "@jupyter-widgets/base",
      "_view_module_version": "1.2.0",
      "_view_name": "LayoutView",
      "align_content": null,
      "align_items": null,
      "align_self": null,
      "border": null,
      "bottom": null,
      "display": null,
      "flex": null,
      "flex_flow": null,
      "grid_area": null,
      "grid_auto_columns": null,
      "grid_auto_flow": null,
      "grid_auto_rows": null,
      "grid_column": null,
      "grid_gap": null,
      "grid_row": null,
      "grid_template_areas": null,
      "grid_template_columns": null,
      "grid_template_rows": null,
      "height": null,
      "justify_content": null,
      "justify_items": null,
      "left": null,
      "margin": null,
      "max_height": null,
      "max_width": null,
      "min_height": null,
      "min_width": null,
      "object_fit": null,
      "object_position": null,
      "order": null,
      "overflow": null,
      "overflow_x": null,
      "overflow_y": null,
      "padding": null,
      "right": null,
      "top": null,
      "visibility": null,
      "width": null
     }
    },
    "5dbd408be1604340963b8190cbd80afb": {
     "model_module": "@jupyter-widgets/controls",
     "model_module_version": "1.5.0",
     "model_name": "DescriptionStyleModel",
     "state": {
      "_model_module": "@jupyter-widgets/controls",
      "_model_module_version": "1.5.0",
      "_model_name": "DescriptionStyleModel",
      "_view_count": null,
      "_view_module": "@jupyter-widgets/base",
      "_view_module_version": "1.2.0",
      "_view_name": "StyleView",
      "description_width": ""
     }
    },
    "5e38afd8edb2458e85a4fcc5a6f52204": {
     "model_module": "@jupyter-widgets/controls",
     "model_module_version": "1.5.0",
     "model_name": "HBoxModel",
     "state": {
      "_dom_classes": [],
      "_model_module": "@jupyter-widgets/controls",
      "_model_module_version": "1.5.0",
      "_model_name": "HBoxModel",
      "_view_count": null,
      "_view_module": "@jupyter-widgets/controls",
      "_view_module_version": "1.5.0",
      "_view_name": "HBoxView",
      "box_style": "",
      "children": [
       "IPY_MODEL_ae3c27944034479d9043936bfcff2c20",
       "IPY_MODEL_b1df07d4b4e24a1db1d743ec68fa6369",
       "IPY_MODEL_2b946cab5ac34df784b07d8917ddd050"
      ],
      "layout": "IPY_MODEL_c6f568c01db04111a3a9aa7e6cfc4c20"
     }
    },
    "5fbb8108742d44febb37038398a8b66f": {
     "model_module": "@jupyter-widgets/controls",
     "model_module_version": "1.5.0",
     "model_name": "ProgressStyleModel",
     "state": {
      "_model_module": "@jupyter-widgets/controls",
      "_model_module_version": "1.5.0",
      "_model_name": "ProgressStyleModel",
      "_view_count": null,
      "_view_module": "@jupyter-widgets/base",
      "_view_module_version": "1.2.0",
      "_view_name": "StyleView",
      "bar_color": null,
      "description_width": ""
     }
    },
    "6166376a57f64862853a4fb97cbc1375": {
     "model_module": "@jupyter-widgets/controls",
     "model_module_version": "1.5.0",
     "model_name": "DescriptionStyleModel",
     "state": {
      "_model_module": "@jupyter-widgets/controls",
      "_model_module_version": "1.5.0",
      "_model_name": "DescriptionStyleModel",
      "_view_count": null,
      "_view_module": "@jupyter-widgets/base",
      "_view_module_version": "1.2.0",
      "_view_name": "StyleView",
      "description_width": ""
     }
    },
    "65115ae77d2944abae5a2d4be91bf867": {
     "model_module": "@jupyter-widgets/controls",
     "model_module_version": "1.5.0",
     "model_name": "HTMLModel",
     "state": {
      "_dom_classes": [],
      "_model_module": "@jupyter-widgets/controls",
      "_model_module_version": "1.5.0",
      "_model_name": "HTMLModel",
      "_view_count": null,
      "_view_module": "@jupyter-widgets/controls",
      "_view_module_version": "1.5.0",
      "_view_name": "HTMLView",
      "description": "",
      "description_tooltip": null,
      "layout": "IPY_MODEL_1693ea71ac8a4b3aa633b5269a110f19",
      "placeholder": "​",
      "style": "IPY_MODEL_4d7882754c8d44629e6bc259b06455be",
      "value": " 571/571 [00:00&lt;00:00, 8.20kB/s]"
     }
    },
    "65d1f57f4c3c409abde8820c5a90f25c": {
     "model_module": "@jupyter-widgets/base",
     "model_module_version": "1.2.0",
     "model_name": "LayoutModel",
     "state": {
      "_model_module": "@jupyter-widgets/base",
      "_model_module_version": "1.2.0",
      "_model_name": "LayoutModel",
      "_view_count": null,
      "_view_module": "@jupyter-widgets/base",
      "_view_module_version": "1.2.0",
      "_view_name": "LayoutView",
      "align_content": null,
      "align_items": null,
      "align_self": null,
      "border": null,
      "bottom": null,
      "display": null,
      "flex": null,
      "flex_flow": null,
      "grid_area": null,
      "grid_auto_columns": null,
      "grid_auto_flow": null,
      "grid_auto_rows": null,
      "grid_column": null,
      "grid_gap": null,
      "grid_row": null,
      "grid_template_areas": null,
      "grid_template_columns": null,
      "grid_template_rows": null,
      "height": null,
      "justify_content": null,
      "justify_items": null,
      "left": null,
      "margin": null,
      "max_height": null,
      "max_width": null,
      "min_height": null,
      "min_width": null,
      "object_fit": null,
      "object_position": null,
      "order": null,
      "overflow": null,
      "overflow_x": null,
      "overflow_y": null,
      "padding": null,
      "right": null,
      "top": null,
      "visibility": null,
      "width": null
     }
    },
    "66a25557719d47be9340b40f02f0222b": {
     "model_module": "@jupyter-widgets/controls",
     "model_module_version": "1.5.0",
     "model_name": "HBoxModel",
     "state": {
      "_dom_classes": [],
      "_model_module": "@jupyter-widgets/controls",
      "_model_module_version": "1.5.0",
      "_model_name": "HBoxModel",
      "_view_count": null,
      "_view_module": "@jupyter-widgets/controls",
      "_view_module_version": "1.5.0",
      "_view_name": "HBoxView",
      "box_style": "",
      "children": [
       "IPY_MODEL_ddc4323514904dd0a131457d38a16af3",
       "IPY_MODEL_1140de34d0004610a965f38a67f29213",
       "IPY_MODEL_7dfee62a10ee45f1962c318047a7f71b"
      ],
      "layout": "IPY_MODEL_b7ced01f9f644a28bece3d46f5d856b6"
     }
    },
    "67209f302a8541be9f9adcbbd64582f9": {
     "model_module": "@jupyter-widgets/base",
     "model_module_version": "1.2.0",
     "model_name": "LayoutModel",
     "state": {
      "_model_module": "@jupyter-widgets/base",
      "_model_module_version": "1.2.0",
      "_model_name": "LayoutModel",
      "_view_count": null,
      "_view_module": "@jupyter-widgets/base",
      "_view_module_version": "1.2.0",
      "_view_name": "LayoutView",
      "align_content": null,
      "align_items": null,
      "align_self": null,
      "border": null,
      "bottom": null,
      "display": null,
      "flex": null,
      "flex_flow": null,
      "grid_area": null,
      "grid_auto_columns": null,
      "grid_auto_flow": null,
      "grid_auto_rows": null,
      "grid_column": null,
      "grid_gap": null,
      "grid_row": null,
      "grid_template_areas": null,
      "grid_template_columns": null,
      "grid_template_rows": null,
      "height": null,
      "justify_content": null,
      "justify_items": null,
      "left": null,
      "margin": null,
      "max_height": null,
      "max_width": null,
      "min_height": null,
      "min_width": null,
      "object_fit": null,
      "object_position": null,
      "order": null,
      "overflow": null,
      "overflow_x": null,
      "overflow_y": null,
      "padding": null,
      "right": null,
      "top": null,
      "visibility": null,
      "width": null
     }
    },
    "67973c3f30204bacba626cf298568777": {
     "model_module": "@jupyter-widgets/controls",
     "model_module_version": "1.5.0",
     "model_name": "FloatProgressModel",
     "state": {
      "_dom_classes": [],
      "_model_module": "@jupyter-widgets/controls",
      "_model_module_version": "1.5.0",
      "_model_name": "FloatProgressModel",
      "_view_count": null,
      "_view_module": "@jupyter-widgets/controls",
      "_view_module_version": "1.5.0",
      "_view_name": "ProgressView",
      "bar_style": "success",
      "description": "",
      "description_tooltip": null,
      "layout": "IPY_MODEL_3bdc1878395c4ae2a583dfb420ddda17",
      "max": 39265,
      "min": 0,
      "orientation": "horizontal",
      "style": "IPY_MODEL_b183617e54dc42d9973a620b9c292db5",
      "value": 39265
     }
    },
    "6b619966a7944951beb7bc565862e6b0": {
     "model_module": "@jupyter-widgets/base",
     "model_module_version": "1.2.0",
     "model_name": "LayoutModel",
     "state": {
      "_model_module": "@jupyter-widgets/base",
      "_model_module_version": "1.2.0",
      "_model_name": "LayoutModel",
      "_view_count": null,
      "_view_module": "@jupyter-widgets/base",
      "_view_module_version": "1.2.0",
      "_view_name": "LayoutView",
      "align_content": null,
      "align_items": null,
      "align_self": null,
      "border": null,
      "bottom": null,
      "display": null,
      "flex": null,
      "flex_flow": null,
      "grid_area": null,
      "grid_auto_columns": null,
      "grid_auto_flow": null,
      "grid_auto_rows": null,
      "grid_column": null,
      "grid_gap": null,
      "grid_row": null,
      "grid_template_areas": null,
      "grid_template_columns": null,
      "grid_template_rows": null,
      "height": null,
      "justify_content": null,
      "justify_items": null,
      "left": null,
      "margin": null,
      "max_height": null,
      "max_width": null,
      "min_height": null,
      "min_width": null,
      "object_fit": null,
      "object_position": null,
      "order": null,
      "overflow": null,
      "overflow_x": null,
      "overflow_y": null,
      "padding": null,
      "right": null,
      "top": null,
      "visibility": null,
      "width": null
     }
    },
    "6c49bb4b235542949ed4a449106137cc": {
     "model_module": "@jupyter-widgets/base",
     "model_module_version": "1.2.0",
     "model_name": "LayoutModel",
     "state": {
      "_model_module": "@jupyter-widgets/base",
      "_model_module_version": "1.2.0",
      "_model_name": "LayoutModel",
      "_view_count": null,
      "_view_module": "@jupyter-widgets/base",
      "_view_module_version": "1.2.0",
      "_view_name": "LayoutView",
      "align_content": null,
      "align_items": null,
      "align_self": null,
      "border": null,
      "bottom": null,
      "display": null,
      "flex": null,
      "flex_flow": null,
      "grid_area": null,
      "grid_auto_columns": null,
      "grid_auto_flow": null,
      "grid_auto_rows": null,
      "grid_column": null,
      "grid_gap": null,
      "grid_row": null,
      "grid_template_areas": null,
      "grid_template_columns": null,
      "grid_template_rows": null,
      "height": null,
      "justify_content": null,
      "justify_items": null,
      "left": null,
      "margin": null,
      "max_height": null,
      "max_width": null,
      "min_height": null,
      "min_width": null,
      "object_fit": null,
      "object_position": null,
      "order": null,
      "overflow": null,
      "overflow_x": null,
      "overflow_y": null,
      "padding": null,
      "right": null,
      "top": null,
      "visibility": null,
      "width": null
     }
    },
    "716b4c3b312a442388ef56a1f1ce2232": {
     "model_module": "@jupyter-widgets/controls",
     "model_module_version": "1.5.0",
     "model_name": "HTMLModel",
     "state": {
      "_dom_classes": [],
      "_model_module": "@jupyter-widgets/controls",
      "_model_module_version": "1.5.0",
      "_model_name": "HTMLModel",
      "_view_count": null,
      "_view_module": "@jupyter-widgets/controls",
      "_view_module_version": "1.5.0",
      "_view_name": "HTMLView",
      "description": "",
      "description_tooltip": null,
      "layout": "IPY_MODEL_33aa3652d6df4ea3859ea26b4c67b956",
      "placeholder": "​",
      "style": "IPY_MODEL_041b77ddc2c449ef89f9089ad16f0062",
      "value": "Downloading: 100%"
     }
    },
    "7287c0bf276b4a8dadc7f8660a9467dc": {
     "model_module": "@jupyter-widgets/controls",
     "model_module_version": "1.5.0",
     "model_name": "DescriptionStyleModel",
     "state": {
      "_model_module": "@jupyter-widgets/controls",
      "_model_module_version": "1.5.0",
      "_model_name": "DescriptionStyleModel",
      "_view_count": null,
      "_view_module": "@jupyter-widgets/base",
      "_view_module_version": "1.2.0",
      "_view_name": "StyleView",
      "description_width": ""
     }
    },
    "7327d475a682496ca694d86e3f82a9e2": {
     "model_module": "@jupyter-widgets/controls",
     "model_module_version": "1.5.0",
     "model_name": "ProgressStyleModel",
     "state": {
      "_model_module": "@jupyter-widgets/controls",
      "_model_module_version": "1.5.0",
      "_model_name": "ProgressStyleModel",
      "_view_count": null,
      "_view_module": "@jupyter-widgets/base",
      "_view_module_version": "1.2.0",
      "_view_name": "StyleView",
      "bar_color": null,
      "description_width": ""
     }
    },
    "73cbbb7a816d48608a0d7907d87e8a29": {
     "model_module": "@jupyter-widgets/controls",
     "model_module_version": "1.5.0",
     "model_name": "ProgressStyleModel",
     "state": {
      "_model_module": "@jupyter-widgets/controls",
      "_model_module_version": "1.5.0",
      "_model_name": "ProgressStyleModel",
      "_view_count": null,
      "_view_module": "@jupyter-widgets/base",
      "_view_module_version": "1.2.0",
      "_view_name": "StyleView",
      "bar_color": null,
      "description_width": ""
     }
    },
    "749102b903b34c9aba21e4fa01dd4d3a": {
     "model_module": "@jupyter-widgets/base",
     "model_module_version": "1.2.0",
     "model_name": "LayoutModel",
     "state": {
      "_model_module": "@jupyter-widgets/base",
      "_model_module_version": "1.2.0",
      "_model_name": "LayoutModel",
      "_view_count": null,
      "_view_module": "@jupyter-widgets/base",
      "_view_module_version": "1.2.0",
      "_view_name": "LayoutView",
      "align_content": null,
      "align_items": null,
      "align_self": null,
      "border": null,
      "bottom": null,
      "display": null,
      "flex": null,
      "flex_flow": null,
      "grid_area": null,
      "grid_auto_columns": null,
      "grid_auto_flow": null,
      "grid_auto_rows": null,
      "grid_column": null,
      "grid_gap": null,
      "grid_row": null,
      "grid_template_areas": null,
      "grid_template_columns": null,
      "grid_template_rows": null,
      "height": null,
      "justify_content": null,
      "justify_items": null,
      "left": null,
      "margin": null,
      "max_height": null,
      "max_width": null,
      "min_height": null,
      "min_width": null,
      "object_fit": null,
      "object_position": null,
      "order": null,
      "overflow": null,
      "overflow_x": null,
      "overflow_y": null,
      "padding": null,
      "right": null,
      "top": null,
      "visibility": null,
      "width": null
     }
    },
    "7a0b9cfe74c143fbb27cea47fe4e3aeb": {
     "model_module": "@jupyter-widgets/controls",
     "model_module_version": "1.5.0",
     "model_name": "HBoxModel",
     "state": {
      "_dom_classes": [],
      "_model_module": "@jupyter-widgets/controls",
      "_model_module_version": "1.5.0",
      "_model_name": "HBoxModel",
      "_view_count": null,
      "_view_module": "@jupyter-widgets/controls",
      "_view_module_version": "1.5.0",
      "_view_name": "HBoxView",
      "box_style": "",
      "children": [
       "IPY_MODEL_e85a821c6a8e4fe5b53f1fccf7f1f4fa",
       "IPY_MODEL_ff85eb5d54744f6ba9b7b6573236d060",
       "IPY_MODEL_27e72047882d4447bea6a8225a13a94e"
      ],
      "layout": "IPY_MODEL_14685df6d28a4a9fb48d1cc20dc9317d"
     }
    },
    "7ae365ebdad442a5996a17b680a8e1e0": {
     "model_module": "@jupyter-widgets/controls",
     "model_module_version": "1.5.0",
     "model_name": "HBoxModel",
     "state": {
      "_dom_classes": [],
      "_model_module": "@jupyter-widgets/controls",
      "_model_module_version": "1.5.0",
      "_model_name": "HBoxModel",
      "_view_count": null,
      "_view_module": "@jupyter-widgets/controls",
      "_view_module_version": "1.5.0",
      "_view_name": "HBoxView",
      "box_style": "",
      "children": [
       "IPY_MODEL_e6626fa45b6846e2bfe4b0c07d0c0833",
       "IPY_MODEL_219c5c6c72ab4fca9311db1fd1fcb6fb",
       "IPY_MODEL_d8e73496465e4d3bb828db336ea8564b"
      ],
      "layout": "IPY_MODEL_8b7bd8e9f5c249c882a686f745e2337d"
     }
    },
    "7dfee62a10ee45f1962c318047a7f71b": {
     "model_module": "@jupyter-widgets/controls",
     "model_module_version": "1.5.0",
     "model_name": "HTMLModel",
     "state": {
      "_dom_classes": [],
      "_model_module": "@jupyter-widgets/controls",
      "_model_module_version": "1.5.0",
      "_model_name": "HTMLModel",
      "_view_count": null,
      "_view_module": "@jupyter-widgets/controls",
      "_view_module_version": "1.5.0",
      "_view_name": "HTMLView",
      "description": "",
      "description_tooltip": null,
      "layout": "IPY_MODEL_d2457e80bf994053a694c790493a7aec",
      "placeholder": "​",
      "style": "IPY_MODEL_18c93026359445279773bc04804757e4",
      "value": " 1.18k/1.18k [00:00&lt;00:00, 11.7kB/s]"
     }
    },
    "845ab910c4d143089095fbde4b7b0dc3": {
     "model_module": "@jupyter-widgets/base",
     "model_module_version": "1.2.0",
     "model_name": "LayoutModel",
     "state": {
      "_model_module": "@jupyter-widgets/base",
      "_model_module_version": "1.2.0",
      "_model_name": "LayoutModel",
      "_view_count": null,
      "_view_module": "@jupyter-widgets/base",
      "_view_module_version": "1.2.0",
      "_view_name": "LayoutView",
      "align_content": null,
      "align_items": null,
      "align_self": null,
      "border": null,
      "bottom": null,
      "display": null,
      "flex": null,
      "flex_flow": null,
      "grid_area": null,
      "grid_auto_columns": null,
      "grid_auto_flow": null,
      "grid_auto_rows": null,
      "grid_column": null,
      "grid_gap": null,
      "grid_row": null,
      "grid_template_areas": null,
      "grid_template_columns": null,
      "grid_template_rows": null,
      "height": null,
      "justify_content": null,
      "justify_items": null,
      "left": null,
      "margin": null,
      "max_height": null,
      "max_width": null,
      "min_height": null,
      "min_width": null,
      "object_fit": null,
      "object_position": null,
      "order": null,
      "overflow": null,
      "overflow_x": null,
      "overflow_y": null,
      "padding": null,
      "right": null,
      "top": null,
      "visibility": null,
      "width": null
     }
    },
    "8484d4d64a53452c9429d2ce14e2f0ea": {
     "model_module": "@jupyter-widgets/controls",
     "model_module_version": "1.5.0",
     "model_name": "DescriptionStyleModel",
     "state": {
      "_model_module": "@jupyter-widgets/controls",
      "_model_module_version": "1.5.0",
      "_model_name": "DescriptionStyleModel",
      "_view_count": null,
      "_view_module": "@jupyter-widgets/base",
      "_view_module_version": "1.2.0",
      "_view_name": "StyleView",
      "description_width": ""
     }
    },
    "84dec87f9e7848d88b00a44cfb2e7e89": {
     "model_module": "@jupyter-widgets/controls",
     "model_module_version": "1.5.0",
     "model_name": "ProgressStyleModel",
     "state": {
      "_model_module": "@jupyter-widgets/controls",
      "_model_module_version": "1.5.0",
      "_model_name": "ProgressStyleModel",
      "_view_count": null,
      "_view_module": "@jupyter-widgets/base",
      "_view_module_version": "1.2.0",
      "_view_name": "StyleView",
      "bar_color": null,
      "description_width": ""
     }
    },
    "8643030e68464a589d0d020b8e9fda2c": {
     "model_module": "@jupyter-widgets/base",
     "model_module_version": "1.2.0",
     "model_name": "LayoutModel",
     "state": {
      "_model_module": "@jupyter-widgets/base",
      "_model_module_version": "1.2.0",
      "_model_name": "LayoutModel",
      "_view_count": null,
      "_view_module": "@jupyter-widgets/base",
      "_view_module_version": "1.2.0",
      "_view_name": "LayoutView",
      "align_content": null,
      "align_items": null,
      "align_self": null,
      "border": null,
      "bottom": null,
      "display": null,
      "flex": null,
      "flex_flow": null,
      "grid_area": null,
      "grid_auto_columns": null,
      "grid_auto_flow": null,
      "grid_auto_rows": null,
      "grid_column": null,
      "grid_gap": null,
      "grid_row": null,
      "grid_template_areas": null,
      "grid_template_columns": null,
      "grid_template_rows": null,
      "height": null,
      "justify_content": null,
      "justify_items": null,
      "left": null,
      "margin": null,
      "max_height": null,
      "max_width": null,
      "min_height": null,
      "min_width": null,
      "object_fit": null,
      "object_position": null,
      "order": null,
      "overflow": null,
      "overflow_x": null,
      "overflow_y": null,
      "padding": null,
      "right": null,
      "top": null,
      "visibility": null,
      "width": null
     }
    },
    "86ab2aafbfaf48eb9078b114fd892273": {
     "model_module": "@jupyter-widgets/controls",
     "model_module_version": "1.5.0",
     "model_name": "HTMLModel",
     "state": {
      "_dom_classes": [],
      "_model_module": "@jupyter-widgets/controls",
      "_model_module_version": "1.5.0",
      "_model_name": "HTMLModel",
      "_view_count": null,
      "_view_module": "@jupyter-widgets/controls",
      "_view_module_version": "1.5.0",
      "_view_name": "HTMLView",
      "description": "",
      "description_tooltip": null,
      "layout": "IPY_MODEL_b038515b30e14c7cac1bff5ba4b42845",
      "placeholder": "​",
      "style": "IPY_MODEL_31aa4d64a7a04925a927fed223336d16",
      "value": "Downloading: 100%"
     }
    },
    "8b7bd8e9f5c249c882a686f745e2337d": {
     "model_module": "@jupyter-widgets/base",
     "model_module_version": "1.2.0",
     "model_name": "LayoutModel",
     "state": {
      "_model_module": "@jupyter-widgets/base",
      "_model_module_version": "1.2.0",
      "_model_name": "LayoutModel",
      "_view_count": null,
      "_view_module": "@jupyter-widgets/base",
      "_view_module_version": "1.2.0",
      "_view_name": "LayoutView",
      "align_content": null,
      "align_items": null,
      "align_self": null,
      "border": null,
      "bottom": null,
      "display": null,
      "flex": null,
      "flex_flow": null,
      "grid_area": null,
      "grid_auto_columns": null,
      "grid_auto_flow": null,
      "grid_auto_rows": null,
      "grid_column": null,
      "grid_gap": null,
      "grid_row": null,
      "grid_template_areas": null,
      "grid_template_columns": null,
      "grid_template_rows": null,
      "height": null,
      "justify_content": null,
      "justify_items": null,
      "left": null,
      "margin": null,
      "max_height": null,
      "max_width": null,
      "min_height": null,
      "min_width": null,
      "object_fit": null,
      "object_position": null,
      "order": null,
      "overflow": null,
      "overflow_x": null,
      "overflow_y": null,
      "padding": null,
      "right": null,
      "top": null,
      "visibility": null,
      "width": null
     }
    },
    "8dbf181d7e5e4ba7b12bbec585e05992": {
     "model_module": "@jupyter-widgets/controls",
     "model_module_version": "1.5.0",
     "model_name": "DescriptionStyleModel",
     "state": {
      "_model_module": "@jupyter-widgets/controls",
      "_model_module_version": "1.5.0",
      "_model_name": "DescriptionStyleModel",
      "_view_count": null,
      "_view_module": "@jupyter-widgets/base",
      "_view_module_version": "1.2.0",
      "_view_name": "StyleView",
      "description_width": ""
     }
    },
    "8dd4934582dc4529bdbc2d8515dfbbab": {
     "model_module": "@jupyter-widgets/base",
     "model_module_version": "1.2.0",
     "model_name": "LayoutModel",
     "state": {
      "_model_module": "@jupyter-widgets/base",
      "_model_module_version": "1.2.0",
      "_model_name": "LayoutModel",
      "_view_count": null,
      "_view_module": "@jupyter-widgets/base",
      "_view_module_version": "1.2.0",
      "_view_name": "LayoutView",
      "align_content": null,
      "align_items": null,
      "align_self": null,
      "border": null,
      "bottom": null,
      "display": null,
      "flex": null,
      "flex_flow": null,
      "grid_area": null,
      "grid_auto_columns": null,
      "grid_auto_flow": null,
      "grid_auto_rows": null,
      "grid_column": null,
      "grid_gap": null,
      "grid_row": null,
      "grid_template_areas": null,
      "grid_template_columns": null,
      "grid_template_rows": null,
      "height": null,
      "justify_content": null,
      "justify_items": null,
      "left": null,
      "margin": null,
      "max_height": null,
      "max_width": null,
      "min_height": null,
      "min_width": null,
      "object_fit": null,
      "object_position": null,
      "order": null,
      "overflow": null,
      "overflow_x": null,
      "overflow_y": null,
      "padding": null,
      "right": null,
      "top": null,
      "visibility": null,
      "width": null
     }
    },
    "90259ebebda543cf8c4772793577b26d": {
     "model_module": "@jupyter-widgets/controls",
     "model_module_version": "1.5.0",
     "model_name": "DescriptionStyleModel",
     "state": {
      "_model_module": "@jupyter-widgets/controls",
      "_model_module_version": "1.5.0",
      "_model_name": "DescriptionStyleModel",
      "_view_count": null,
      "_view_module": "@jupyter-widgets/base",
      "_view_module_version": "1.2.0",
      "_view_name": "StyleView",
      "description_width": ""
     }
    },
    "954068d30be44d10986d52f85f013019": {
     "model_module": "@jupyter-widgets/base",
     "model_module_version": "1.2.0",
     "model_name": "LayoutModel",
     "state": {
      "_model_module": "@jupyter-widgets/base",
      "_model_module_version": "1.2.0",
      "_model_name": "LayoutModel",
      "_view_count": null,
      "_view_module": "@jupyter-widgets/base",
      "_view_module_version": "1.2.0",
      "_view_name": "LayoutView",
      "align_content": null,
      "align_items": null,
      "align_self": null,
      "border": null,
      "bottom": null,
      "display": null,
      "flex": null,
      "flex_flow": null,
      "grid_area": null,
      "grid_auto_columns": null,
      "grid_auto_flow": null,
      "grid_auto_rows": null,
      "grid_column": null,
      "grid_gap": null,
      "grid_row": null,
      "grid_template_areas": null,
      "grid_template_columns": null,
      "grid_template_rows": null,
      "height": null,
      "justify_content": null,
      "justify_items": null,
      "left": null,
      "margin": null,
      "max_height": null,
      "max_width": null,
      "min_height": null,
      "min_width": null,
      "object_fit": null,
      "object_position": null,
      "order": null,
      "overflow": null,
      "overflow_x": null,
      "overflow_y": null,
      "padding": null,
      "right": null,
      "top": null,
      "visibility": null,
      "width": null
     }
    },
    "96a5a7f32b5c476288883196a5175049": {
     "model_module": "@jupyter-widgets/controls",
     "model_module_version": "1.5.0",
     "model_name": "HTMLModel",
     "state": {
      "_dom_classes": [],
      "_model_module": "@jupyter-widgets/controls",
      "_model_module_version": "1.5.0",
      "_model_name": "HTMLModel",
      "_view_count": null,
      "_view_module": "@jupyter-widgets/controls",
      "_view_module_version": "1.5.0",
      "_view_name": "HTMLView",
      "description": "",
      "description_tooltip": null,
      "layout": "IPY_MODEL_99292243057347b798f3ca46a979e51b",
      "placeholder": "​",
      "style": "IPY_MODEL_8484d4d64a53452c9429d2ce14e2f0ea",
      "value": "Downloading: 100%"
     }
    },
    "99292243057347b798f3ca46a979e51b": {
     "model_module": "@jupyter-widgets/base",
     "model_module_version": "1.2.0",
     "model_name": "LayoutModel",
     "state": {
      "_model_module": "@jupyter-widgets/base",
      "_model_module_version": "1.2.0",
      "_model_name": "LayoutModel",
      "_view_count": null,
      "_view_module": "@jupyter-widgets/base",
      "_view_module_version": "1.2.0",
      "_view_name": "LayoutView",
      "align_content": null,
      "align_items": null,
      "align_self": null,
      "border": null,
      "bottom": null,
      "display": null,
      "flex": null,
      "flex_flow": null,
      "grid_area": null,
      "grid_auto_columns": null,
      "grid_auto_flow": null,
      "grid_auto_rows": null,
      "grid_column": null,
      "grid_gap": null,
      "grid_row": null,
      "grid_template_areas": null,
      "grid_template_columns": null,
      "grid_template_rows": null,
      "height": null,
      "justify_content": null,
      "justify_items": null,
      "left": null,
      "margin": null,
      "max_height": null,
      "max_width": null,
      "min_height": null,
      "min_width": null,
      "object_fit": null,
      "object_position": null,
      "order": null,
      "overflow": null,
      "overflow_x": null,
      "overflow_y": null,
      "padding": null,
      "right": null,
      "top": null,
      "visibility": null,
      "width": null
     }
    },
    "9a66c2aebc9f4cf3b2d66708f1f0f07f": {
     "model_module": "@jupyter-widgets/controls",
     "model_module_version": "1.5.0",
     "model_name": "ProgressStyleModel",
     "state": {
      "_model_module": "@jupyter-widgets/controls",
      "_model_module_version": "1.5.0",
      "_model_name": "ProgressStyleModel",
      "_view_count": null,
      "_view_module": "@jupyter-widgets/base",
      "_view_module_version": "1.2.0",
      "_view_name": "StyleView",
      "bar_color": null,
      "description_width": ""
     }
    },
    "a0f8fea78dd54fb1ab388c4bc64463be": {
     "model_module": "@jupyter-widgets/controls",
     "model_module_version": "1.5.0",
     "model_name": "DescriptionStyleModel",
     "state": {
      "_model_module": "@jupyter-widgets/controls",
      "_model_module_version": "1.5.0",
      "_model_name": "DescriptionStyleModel",
      "_view_count": null,
      "_view_module": "@jupyter-widgets/base",
      "_view_module_version": "1.2.0",
      "_view_name": "StyleView",
      "description_width": ""
     }
    },
    "a4104ce7db6a419daeba062c68d6c8d4": {
     "model_module": "@jupyter-widgets/base",
     "model_module_version": "1.2.0",
     "model_name": "LayoutModel",
     "state": {
      "_model_module": "@jupyter-widgets/base",
      "_model_module_version": "1.2.0",
      "_model_name": "LayoutModel",
      "_view_count": null,
      "_view_module": "@jupyter-widgets/base",
      "_view_module_version": "1.2.0",
      "_view_name": "LayoutView",
      "align_content": null,
      "align_items": null,
      "align_self": null,
      "border": null,
      "bottom": null,
      "display": null,
      "flex": null,
      "flex_flow": null,
      "grid_area": null,
      "grid_auto_columns": null,
      "grid_auto_flow": null,
      "grid_auto_rows": null,
      "grid_column": null,
      "grid_gap": null,
      "grid_row": null,
      "grid_template_areas": null,
      "grid_template_columns": null,
      "grid_template_rows": null,
      "height": null,
      "justify_content": null,
      "justify_items": null,
      "left": null,
      "margin": null,
      "max_height": null,
      "max_width": null,
      "min_height": null,
      "min_width": null,
      "object_fit": null,
      "object_position": null,
      "order": null,
      "overflow": null,
      "overflow_x": null,
      "overflow_y": null,
      "padding": null,
      "right": null,
      "top": null,
      "visibility": null,
      "width": null
     }
    },
    "a5fcb52eeb254bbe8924aa8aa916cbd2": {
     "model_module": "@jupyter-widgets/base",
     "model_module_version": "1.2.0",
     "model_name": "LayoutModel",
     "state": {
      "_model_module": "@jupyter-widgets/base",
      "_model_module_version": "1.2.0",
      "_model_name": "LayoutModel",
      "_view_count": null,
      "_view_module": "@jupyter-widgets/base",
      "_view_module_version": "1.2.0",
      "_view_name": "LayoutView",
      "align_content": null,
      "align_items": null,
      "align_self": null,
      "border": null,
      "bottom": null,
      "display": null,
      "flex": null,
      "flex_flow": null,
      "grid_area": null,
      "grid_auto_columns": null,
      "grid_auto_flow": null,
      "grid_auto_rows": null,
      "grid_column": null,
      "grid_gap": null,
      "grid_row": null,
      "grid_template_areas": null,
      "grid_template_columns": null,
      "grid_template_rows": null,
      "height": null,
      "justify_content": null,
      "justify_items": null,
      "left": null,
      "margin": null,
      "max_height": null,
      "max_width": null,
      "min_height": null,
      "min_width": null,
      "object_fit": null,
      "object_position": null,
      "order": null,
      "overflow": null,
      "overflow_x": null,
      "overflow_y": null,
      "padding": null,
      "right": null,
      "top": null,
      "visibility": null,
      "width": null
     }
    },
    "a665e21eb4bf4f24a9d12f13ebac873d": {
     "model_module": "@jupyter-widgets/controls",
     "model_module_version": "1.5.0",
     "model_name": "ProgressStyleModel",
     "state": {
      "_model_module": "@jupyter-widgets/controls",
      "_model_module_version": "1.5.0",
      "_model_name": "ProgressStyleModel",
      "_view_count": null,
      "_view_module": "@jupyter-widgets/base",
      "_view_module_version": "1.2.0",
      "_view_name": "StyleView",
      "bar_color": null,
      "description_width": ""
     }
    },
    "a6881d4e296c4e48894e25a25fc0d8ab": {
     "model_module": "@jupyter-widgets/controls",
     "model_module_version": "1.5.0",
     "model_name": "DescriptionStyleModel",
     "state": {
      "_model_module": "@jupyter-widgets/controls",
      "_model_module_version": "1.5.0",
      "_model_name": "DescriptionStyleModel",
      "_view_count": null,
      "_view_module": "@jupyter-widgets/base",
      "_view_module_version": "1.2.0",
      "_view_name": "StyleView",
      "description_width": ""
     }
    },
    "aa6f6635ddc140078fd348136562c6c6": {
     "model_module": "@jupyter-widgets/controls",
     "model_module_version": "1.5.0",
     "model_name": "HTMLModel",
     "state": {
      "_dom_classes": [],
      "_model_module": "@jupyter-widgets/controls",
      "_model_module_version": "1.5.0",
      "_model_name": "HTMLModel",
      "_view_count": null,
      "_view_module": "@jupyter-widgets/controls",
      "_view_module_version": "1.5.0",
      "_view_name": "HTMLView",
      "description": "",
      "description_tooltip": null,
      "layout": "IPY_MODEL_e96e4d5f6f0f4a23a99eec4aa67602b0",
      "placeholder": "​",
      "style": "IPY_MODEL_2067712bedac4f76bfd825379c4dcee8",
      "value": "Downloading: 100%"
     }
    },
    "ab77ba40c39f44f4bfc77674ccbc0c13": {
     "model_module": "@jupyter-widgets/base",
     "model_module_version": "1.2.0",
     "model_name": "LayoutModel",
     "state": {
      "_model_module": "@jupyter-widgets/base",
      "_model_module_version": "1.2.0",
      "_model_name": "LayoutModel",
      "_view_count": null,
      "_view_module": "@jupyter-widgets/base",
      "_view_module_version": "1.2.0",
      "_view_name": "LayoutView",
      "align_content": null,
      "align_items": null,
      "align_self": null,
      "border": null,
      "bottom": null,
      "display": null,
      "flex": null,
      "flex_flow": null,
      "grid_area": null,
      "grid_auto_columns": null,
      "grid_auto_flow": null,
      "grid_auto_rows": null,
      "grid_column": null,
      "grid_gap": null,
      "grid_row": null,
      "grid_template_areas": null,
      "grid_template_columns": null,
      "grid_template_rows": null,
      "height": null,
      "justify_content": null,
      "justify_items": null,
      "left": null,
      "margin": null,
      "max_height": null,
      "max_width": null,
      "min_height": null,
      "min_width": null,
      "object_fit": null,
      "object_position": null,
      "order": null,
      "overflow": null,
      "overflow_x": null,
      "overflow_y": null,
      "padding": null,
      "right": null,
      "top": null,
      "visibility": null,
      "width": null
     }
    },
    "abcb94d8f7794877ae8b8fa7a28867e8": {
     "model_module": "@jupyter-widgets/controls",
     "model_module_version": "1.5.0",
     "model_name": "HTMLModel",
     "state": {
      "_dom_classes": [],
      "_model_module": "@jupyter-widgets/controls",
      "_model_module_version": "1.5.0",
      "_model_name": "HTMLModel",
      "_view_count": null,
      "_view_module": "@jupyter-widgets/controls",
      "_view_module_version": "1.5.0",
      "_view_name": "HTMLView",
      "description": "",
      "description_tooltip": null,
      "layout": "IPY_MODEL_e2b01ed342324ee4a7cb69910f31d5c9",
      "placeholder": "​",
      "style": "IPY_MODEL_d1e6e089d4f641c7a73a6053ce40766d",
      "value": " 39.3k/39.3k [00:00&lt;00:00, 429kB/s]"
     }
    },
    "ae3c27944034479d9043936bfcff2c20": {
     "model_module": "@jupyter-widgets/controls",
     "model_module_version": "1.5.0",
     "model_name": "HTMLModel",
     "state": {
      "_dom_classes": [],
      "_model_module": "@jupyter-widgets/controls",
      "_model_module_version": "1.5.0",
      "_model_name": "HTMLModel",
      "_view_count": null,
      "_view_module": "@jupyter-widgets/controls",
      "_view_module_version": "1.5.0",
      "_view_name": "HTMLView",
      "description": "",
      "description_tooltip": null,
      "layout": "IPY_MODEL_4aae7647801944b8a5d6bcc76f9536f5",
      "placeholder": "​",
      "style": "IPY_MODEL_90259ebebda543cf8c4772793577b26d",
      "value": "Downloading: 100%"
     }
    },
    "af65c00d83a046aaab369af17346a69d": {
     "model_module": "@jupyter-widgets/controls",
     "model_module_version": "1.5.0",
     "model_name": "HBoxModel",
     "state": {
      "_dom_classes": [],
      "_model_module": "@jupyter-widgets/controls",
      "_model_module_version": "1.5.0",
      "_model_name": "HBoxModel",
      "_view_count": null,
      "_view_module": "@jupyter-widgets/controls",
      "_view_module_version": "1.5.0",
      "_view_name": "HBoxView",
      "box_style": "",
      "children": [
       "IPY_MODEL_aa6f6635ddc140078fd348136562c6c6",
       "IPY_MODEL_203075f75af1476a90c43d0d67dddd06",
       "IPY_MODEL_b016fee01ce947fe905b5cb99bc63741"
      ],
      "layout": "IPY_MODEL_22243f79dd334e4888741615cfdfc6ee"
     }
    },
    "b016fee01ce947fe905b5cb99bc63741": {
     "model_module": "@jupyter-widgets/controls",
     "model_module_version": "1.5.0",
     "model_name": "HTMLModel",
     "state": {
      "_dom_classes": [],
      "_model_module": "@jupyter-widgets/controls",
      "_model_module_version": "1.5.0",
      "_model_name": "HTMLModel",
      "_view_count": null,
      "_view_module": "@jupyter-widgets/controls",
      "_view_module_version": "1.5.0",
      "_view_name": "HTMLView",
      "description": "",
      "description_tooltip": null,
      "layout": "IPY_MODEL_e1ee8a427f984fb6b37e6359b4bfcab6",
      "placeholder": "​",
      "style": "IPY_MODEL_ed853a1cccb14689ae71f87b4460f693",
      "value": " 349/349 [00:00&lt;00:00, 11.3kB/s]"
     }
    },
    "b038515b30e14c7cac1bff5ba4b42845": {
     "model_module": "@jupyter-widgets/base",
     "model_module_version": "1.2.0",
     "model_name": "LayoutModel",
     "state": {
      "_model_module": "@jupyter-widgets/base",
      "_model_module_version": "1.2.0",
      "_model_name": "LayoutModel",
      "_view_count": null,
      "_view_module": "@jupyter-widgets/base",
      "_view_module_version": "1.2.0",
      "_view_name": "LayoutView",
      "align_content": null,
      "align_items": null,
      "align_self": null,
      "border": null,
      "bottom": null,
      "display": null,
      "flex": null,
      "flex_flow": null,
      "grid_area": null,
      "grid_auto_columns": null,
      "grid_auto_flow": null,
      "grid_auto_rows": null,
      "grid_column": null,
      "grid_gap": null,
      "grid_row": null,
      "grid_template_areas": null,
      "grid_template_columns": null,
      "grid_template_rows": null,
      "height": null,
      "justify_content": null,
      "justify_items": null,
      "left": null,
      "margin": null,
      "max_height": null,
      "max_width": null,
      "min_height": null,
      "min_width": null,
      "object_fit": null,
      "object_position": null,
      "order": null,
      "overflow": null,
      "overflow_x": null,
      "overflow_y": null,
      "padding": null,
      "right": null,
      "top": null,
      "visibility": null,
      "width": null
     }
    },
    "b0e4c2d1364d4f9e875fbecd863c50e3": {
     "model_module": "@jupyter-widgets/controls",
     "model_module_version": "1.5.0",
     "model_name": "FloatProgressModel",
     "state": {
      "_dom_classes": [],
      "_model_module": "@jupyter-widgets/controls",
      "_model_module_version": "1.5.0",
      "_model_name": "FloatProgressModel",
      "_view_count": null,
      "_view_module": "@jupyter-widgets/controls",
      "_view_module_version": "1.5.0",
      "_view_name": "ProgressView",
      "bar_style": "success",
      "description": "",
      "description_tooltip": null,
      "layout": "IPY_MODEL_e72c94a4a1a9481e9c81f8177a7a33e4",
      "max": 10542,
      "min": 0,
      "orientation": "horizontal",
      "style": "IPY_MODEL_a665e21eb4bf4f24a9d12f13ebac873d",
      "value": 10542
     }
    },
    "b183617e54dc42d9973a620b9c292db5": {
     "model_module": "@jupyter-widgets/controls",
     "model_module_version": "1.5.0",
     "model_name": "ProgressStyleModel",
     "state": {
      "_model_module": "@jupyter-widgets/controls",
      "_model_module_version": "1.5.0",
      "_model_name": "ProgressStyleModel",
      "_view_count": null,
      "_view_module": "@jupyter-widgets/base",
      "_view_module_version": "1.2.0",
      "_view_name": "StyleView",
      "bar_color": null,
      "description_width": ""
     }
    },
    "b1df07d4b4e24a1db1d743ec68fa6369": {
     "model_module": "@jupyter-widgets/controls",
     "model_module_version": "1.5.0",
     "model_name": "FloatProgressModel",
     "state": {
      "_dom_classes": [],
      "_model_module": "@jupyter-widgets/controls",
      "_model_module_version": "1.5.0",
      "_model_name": "FloatProgressModel",
      "_view_count": null,
      "_view_module": "@jupyter-widgets/controls",
      "_view_module_version": "1.5.0",
      "_view_name": "ProgressView",
      "bar_style": "success",
      "description": "",
      "description_tooltip": null,
      "layout": "IPY_MODEL_2f46fbdf66de4e34bbe9c7cb639c4a30",
      "max": 466021,
      "min": 0,
      "orientation": "horizontal",
      "style": "IPY_MODEL_84dec87f9e7848d88b00a44cfb2e7e89",
      "value": 466021
     }
    },
    "b222177a95c94f809fdd98498a60c383": {
     "model_module": "@jupyter-widgets/controls",
     "model_module_version": "1.5.0",
     "model_name": "FloatProgressModel",
     "state": {
      "_dom_classes": [],
      "_model_module": "@jupyter-widgets/controls",
      "_model_module_version": "1.5.0",
      "_model_name": "FloatProgressModel",
      "_view_count": null,
      "_view_module": "@jupyter-widgets/controls",
      "_view_module_version": "1.5.0",
      "_view_name": "ProgressView",
      "bar_style": "success",
      "description": "",
      "description_tooltip": null,
      "layout": "IPY_MODEL_4e10d5e9940844a9805ab0d22aaa9834",
      "max": 239,
      "min": 0,
      "orientation": "horizontal",
      "style": "IPY_MODEL_cdac8bdd429a4930a2dc8e1d2732e1ef",
      "value": 239
     }
    },
    "b421dd6f4cb54a008d18d37968c4f8ab": {
     "model_module": "@jupyter-widgets/controls",
     "model_module_version": "1.5.0",
     "model_name": "HBoxModel",
     "state": {
      "_dom_classes": [],
      "_model_module": "@jupyter-widgets/controls",
      "_model_module_version": "1.5.0",
      "_model_name": "HBoxModel",
      "_view_count": null,
      "_view_module": "@jupyter-widgets/controls",
      "_view_module_version": "1.5.0",
      "_view_name": "HBoxView",
      "box_style": "",
      "children": [
       "IPY_MODEL_bf082437724d403581c505d4f082961a",
       "IPY_MODEL_e17453b5dcfc4aa6b5f4c1c41664f74f",
       "IPY_MODEL_dcef13b2f3654630a5de619a17196256"
      ],
      "layout": "IPY_MODEL_8643030e68464a589d0d020b8e9fda2c"
     }
    },
    "b45ed529a58645b0a2eaf62b0700d28d": {
     "model_module": "@jupyter-widgets/base",
     "model_module_version": "1.2.0",
     "model_name": "LayoutModel",
     "state": {
      "_model_module": "@jupyter-widgets/base",
      "_model_module_version": "1.2.0",
      "_model_name": "LayoutModel",
      "_view_count": null,
      "_view_module": "@jupyter-widgets/base",
      "_view_module_version": "1.2.0",
      "_view_name": "LayoutView",
      "align_content": null,
      "align_items": null,
      "align_self": null,
      "border": null,
      "bottom": null,
      "display": null,
      "flex": null,
      "flex_flow": null,
      "grid_area": null,
      "grid_auto_columns": null,
      "grid_auto_flow": null,
      "grid_auto_rows": null,
      "grid_column": null,
      "grid_gap": null,
      "grid_row": null,
      "grid_template_areas": null,
      "grid_template_columns": null,
      "grid_template_rows": null,
      "height": null,
      "justify_content": null,
      "justify_items": null,
      "left": null,
      "margin": null,
      "max_height": null,
      "max_width": null,
      "min_height": null,
      "min_width": null,
      "object_fit": null,
      "object_position": null,
      "order": null,
      "overflow": null,
      "overflow_x": null,
      "overflow_y": null,
      "padding": null,
      "right": null,
      "top": null,
      "visibility": null,
      "width": null
     }
    },
    "b7ced01f9f644a28bece3d46f5d856b6": {
     "model_module": "@jupyter-widgets/base",
     "model_module_version": "1.2.0",
     "model_name": "LayoutModel",
     "state": {
      "_model_module": "@jupyter-widgets/base",
      "_model_module_version": "1.2.0",
      "_model_name": "LayoutModel",
      "_view_count": null,
      "_view_module": "@jupyter-widgets/base",
      "_view_module_version": "1.2.0",
      "_view_name": "LayoutView",
      "align_content": null,
      "align_items": null,
      "align_self": null,
      "border": null,
      "bottom": null,
      "display": null,
      "flex": null,
      "flex_flow": null,
      "grid_area": null,
      "grid_auto_columns": null,
      "grid_auto_flow": null,
      "grid_auto_rows": null,
      "grid_column": null,
      "grid_gap": null,
      "grid_row": null,
      "grid_template_areas": null,
      "grid_template_columns": null,
      "grid_template_rows": null,
      "height": null,
      "justify_content": null,
      "justify_items": null,
      "left": null,
      "margin": null,
      "max_height": null,
      "max_width": null,
      "min_height": null,
      "min_width": null,
      "object_fit": null,
      "object_position": null,
      "order": null,
      "overflow": null,
      "overflow_x": null,
      "overflow_y": null,
      "padding": null,
      "right": null,
      "top": null,
      "visibility": null,
      "width": null
     }
    },
    "bac2f69e7eba41658578d6eb8b971a85": {
     "model_module": "@jupyter-widgets/controls",
     "model_module_version": "1.5.0",
     "model_name": "DescriptionStyleModel",
     "state": {
      "_model_module": "@jupyter-widgets/controls",
      "_model_module_version": "1.5.0",
      "_model_name": "DescriptionStyleModel",
      "_view_count": null,
      "_view_module": "@jupyter-widgets/base",
      "_view_module_version": "1.2.0",
      "_view_name": "StyleView",
      "description_width": ""
     }
    },
    "bac9665f94a54387af873fa67010383e": {
     "model_module": "@jupyter-widgets/controls",
     "model_module_version": "1.5.0",
     "model_name": "HBoxModel",
     "state": {
      "_dom_classes": [],
      "_model_module": "@jupyter-widgets/controls",
      "_model_module_version": "1.5.0",
      "_model_name": "HBoxModel",
      "_view_count": null,
      "_view_module": "@jupyter-widgets/controls",
      "_view_module_version": "1.5.0",
      "_view_name": "HBoxView",
      "box_style": "",
      "children": [
       "IPY_MODEL_15e6ab5ea21c44469d2e7e010cfebdf2",
       "IPY_MODEL_106b432007a1470893345830a88e31c2",
       "IPY_MODEL_08dcf2fc2f01435bb5fc2f935d6f5bf8"
      ],
      "layout": "IPY_MODEL_6c49bb4b235542949ed4a449106137cc"
     }
    },
    "bec5aad7189a45f491bdf507081d7e33": {
     "model_module": "@jupyter-widgets/controls",
     "model_module_version": "1.5.0",
     "model_name": "HBoxModel",
     "state": {
      "_dom_classes": [],
      "_model_module": "@jupyter-widgets/controls",
      "_model_module_version": "1.5.0",
      "_model_name": "HBoxModel",
      "_view_count": null,
      "_view_module": "@jupyter-widgets/controls",
      "_view_module_version": "1.5.0",
      "_view_name": "HBoxView",
      "box_style": "",
      "children": [
       "IPY_MODEL_db0edddf6b5043109a0c84543938977b",
       "IPY_MODEL_e01f1f3c7e5942b98b88b9a63ed4740d",
       "IPY_MODEL_463e122a7efb46f783bbb383d464a967"
      ],
      "layout": "IPY_MODEL_e723a669c1a04e9ea9081ab7c3702f7d"
     }
    },
    "bf082437724d403581c505d4f082961a": {
     "model_module": "@jupyter-widgets/controls",
     "model_module_version": "1.5.0",
     "model_name": "HTMLModel",
     "state": {
      "_dom_classes": [],
      "_model_module": "@jupyter-widgets/controls",
      "_model_module_version": "1.5.0",
      "_model_name": "HTMLModel",
      "_view_count": null,
      "_view_module": "@jupyter-widgets/controls",
      "_view_module_version": "1.5.0",
      "_view_name": "HTMLView",
      "description": "",
      "description_tooltip": null,
      "layout": "IPY_MODEL_109c182a78474947b76873ce0012f177",
      "placeholder": "​",
      "style": "IPY_MODEL_124d46f6cfae44589fdd46e4cb5fa878",
      "value": "Downloading: 100%"
     }
    },
    "c1338efc854741a99b6fa529cfc42a5f": {
     "model_module": "@jupyter-widgets/base",
     "model_module_version": "1.2.0",
     "model_name": "LayoutModel",
     "state": {
      "_model_module": "@jupyter-widgets/base",
      "_model_module_version": "1.2.0",
      "_model_name": "LayoutModel",
      "_view_count": null,
      "_view_module": "@jupyter-widgets/base",
      "_view_module_version": "1.2.0",
      "_view_name": "LayoutView",
      "align_content": null,
      "align_items": null,
      "align_self": null,
      "border": null,
      "bottom": null,
      "display": null,
      "flex": null,
      "flex_flow": null,
      "grid_area": null,
      "grid_auto_columns": null,
      "grid_auto_flow": null,
      "grid_auto_rows": null,
      "grid_column": null,
      "grid_gap": null,
      "grid_row": null,
      "grid_template_areas": null,
      "grid_template_columns": null,
      "grid_template_rows": null,
      "height": null,
      "justify_content": null,
      "justify_items": null,
      "left": null,
      "margin": null,
      "max_height": null,
      "max_width": null,
      "min_height": null,
      "min_width": null,
      "object_fit": null,
      "object_position": null,
      "order": null,
      "overflow": null,
      "overflow_x": null,
      "overflow_y": null,
      "padding": null,
      "right": null,
      "top": null,
      "visibility": null,
      "width": null
     }
    },
    "c6f568c01db04111a3a9aa7e6cfc4c20": {
     "model_module": "@jupyter-widgets/base",
     "model_module_version": "1.2.0",
     "model_name": "LayoutModel",
     "state": {
      "_model_module": "@jupyter-widgets/base",
      "_model_module_version": "1.2.0",
      "_model_name": "LayoutModel",
      "_view_count": null,
      "_view_module": "@jupyter-widgets/base",
      "_view_module_version": "1.2.0",
      "_view_name": "LayoutView",
      "align_content": null,
      "align_items": null,
      "align_self": null,
      "border": null,
      "bottom": null,
      "display": null,
      "flex": null,
      "flex_flow": null,
      "grid_area": null,
      "grid_auto_columns": null,
      "grid_auto_flow": null,
      "grid_auto_rows": null,
      "grid_column": null,
      "grid_gap": null,
      "grid_row": null,
      "grid_template_areas": null,
      "grid_template_columns": null,
      "grid_template_rows": null,
      "height": null,
      "justify_content": null,
      "justify_items": null,
      "left": null,
      "margin": null,
      "max_height": null,
      "max_width": null,
      "min_height": null,
      "min_width": null,
      "object_fit": null,
      "object_position": null,
      "order": null,
      "overflow": null,
      "overflow_x": null,
      "overflow_y": null,
      "padding": null,
      "right": null,
      "top": null,
      "visibility": null,
      "width": null
     }
    },
    "c9c5289709d54e74b588a86ed07498ee": {
     "model_module": "@jupyter-widgets/base",
     "model_module_version": "1.2.0",
     "model_name": "LayoutModel",
     "state": {
      "_model_module": "@jupyter-widgets/base",
      "_model_module_version": "1.2.0",
      "_model_name": "LayoutModel",
      "_view_count": null,
      "_view_module": "@jupyter-widgets/base",
      "_view_module_version": "1.2.0",
      "_view_name": "LayoutView",
      "align_content": null,
      "align_items": null,
      "align_self": null,
      "border": null,
      "bottom": null,
      "display": null,
      "flex": null,
      "flex_flow": null,
      "grid_area": null,
      "grid_auto_columns": null,
      "grid_auto_flow": null,
      "grid_auto_rows": null,
      "grid_column": null,
      "grid_gap": null,
      "grid_row": null,
      "grid_template_areas": null,
      "grid_template_columns": null,
      "grid_template_rows": null,
      "height": null,
      "justify_content": null,
      "justify_items": null,
      "left": null,
      "margin": null,
      "max_height": null,
      "max_width": null,
      "min_height": null,
      "min_width": null,
      "object_fit": null,
      "object_position": null,
      "order": null,
      "overflow": null,
      "overflow_x": null,
      "overflow_y": null,
      "padding": null,
      "right": null,
      "top": null,
      "visibility": null,
      "width": null
     }
    },
    "cbf5cc43bf0a46989427b5e2f7e59184": {
     "model_module": "@jupyter-widgets/base",
     "model_module_version": "1.2.0",
     "model_name": "LayoutModel",
     "state": {
      "_model_module": "@jupyter-widgets/base",
      "_model_module_version": "1.2.0",
      "_model_name": "LayoutModel",
      "_view_count": null,
      "_view_module": "@jupyter-widgets/base",
      "_view_module_version": "1.2.0",
      "_view_name": "LayoutView",
      "align_content": null,
      "align_items": null,
      "align_self": null,
      "border": null,
      "bottom": null,
      "display": null,
      "flex": null,
      "flex_flow": null,
      "grid_area": null,
      "grid_auto_columns": null,
      "grid_auto_flow": null,
      "grid_auto_rows": null,
      "grid_column": null,
      "grid_gap": null,
      "grid_row": null,
      "grid_template_areas": null,
      "grid_template_columns": null,
      "grid_template_rows": null,
      "height": null,
      "justify_content": null,
      "justify_items": null,
      "left": null,
      "margin": null,
      "max_height": null,
      "max_width": null,
      "min_height": null,
      "min_width": null,
      "object_fit": null,
      "object_position": null,
      "order": null,
      "overflow": null,
      "overflow_x": null,
      "overflow_y": null,
      "padding": null,
      "right": null,
      "top": null,
      "visibility": null,
      "width": null
     }
    },
    "cdac8bdd429a4930a2dc8e1d2732e1ef": {
     "model_module": "@jupyter-widgets/controls",
     "model_module_version": "1.5.0",
     "model_name": "ProgressStyleModel",
     "state": {
      "_model_module": "@jupyter-widgets/controls",
      "_model_module_version": "1.5.0",
      "_model_name": "ProgressStyleModel",
      "_view_count": null,
      "_view_module": "@jupyter-widgets/base",
      "_view_module_version": "1.2.0",
      "_view_name": "StyleView",
      "bar_color": null,
      "description_width": ""
     }
    },
    "cf38bca4e71f4d8286cb3c288e422ff2": {
     "model_module": "@jupyter-widgets/controls",
     "model_module_version": "1.5.0",
     "model_name": "DescriptionStyleModel",
     "state": {
      "_model_module": "@jupyter-widgets/controls",
      "_model_module_version": "1.5.0",
      "_model_name": "DescriptionStyleModel",
      "_view_count": null,
      "_view_module": "@jupyter-widgets/base",
      "_view_module_version": "1.2.0",
      "_view_name": "StyleView",
      "description_width": ""
     }
    },
    "d1e6e089d4f641c7a73a6053ce40766d": {
     "model_module": "@jupyter-widgets/controls",
     "model_module_version": "1.5.0",
     "model_name": "DescriptionStyleModel",
     "state": {
      "_model_module": "@jupyter-widgets/controls",
      "_model_module_version": "1.5.0",
      "_model_name": "DescriptionStyleModel",
      "_view_count": null,
      "_view_module": "@jupyter-widgets/base",
      "_view_module_version": "1.2.0",
      "_view_name": "StyleView",
      "description_width": ""
     }
    },
    "d2457e80bf994053a694c790493a7aec": {
     "model_module": "@jupyter-widgets/base",
     "model_module_version": "1.2.0",
     "model_name": "LayoutModel",
     "state": {
      "_model_module": "@jupyter-widgets/base",
      "_model_module_version": "1.2.0",
      "_model_name": "LayoutModel",
      "_view_count": null,
      "_view_module": "@jupyter-widgets/base",
      "_view_module_version": "1.2.0",
      "_view_name": "LayoutView",
      "align_content": null,
      "align_items": null,
      "align_self": null,
      "border": null,
      "bottom": null,
      "display": null,
      "flex": null,
      "flex_flow": null,
      "grid_area": null,
      "grid_auto_columns": null,
      "grid_auto_flow": null,
      "grid_auto_rows": null,
      "grid_column": null,
      "grid_gap": null,
      "grid_row": null,
      "grid_template_areas": null,
      "grid_template_columns": null,
      "grid_template_rows": null,
      "height": null,
      "justify_content": null,
      "justify_items": null,
      "left": null,
      "margin": null,
      "max_height": null,
      "max_width": null,
      "min_height": null,
      "min_width": null,
      "object_fit": null,
      "object_position": null,
      "order": null,
      "overflow": null,
      "overflow_x": null,
      "overflow_y": null,
      "padding": null,
      "right": null,
      "top": null,
      "visibility": null,
      "width": null
     }
    },
    "d8e73496465e4d3bb828db336ea8564b": {
     "model_module": "@jupyter-widgets/controls",
     "model_module_version": "1.5.0",
     "model_name": "HTMLModel",
     "state": {
      "_dom_classes": [],
      "_model_module": "@jupyter-widgets/controls",
      "_model_module_version": "1.5.0",
      "_model_name": "HTMLModel",
      "_view_count": null,
      "_view_module": "@jupyter-widgets/controls",
      "_view_module_version": "1.5.0",
      "_view_name": "HTMLView",
      "description": "",
      "description_tooltip": null,
      "layout": "IPY_MODEL_15822e16eb714d85ae82e9feb839c701",
      "placeholder": "​",
      "style": "IPY_MODEL_a0f8fea78dd54fb1ab388c4bc64463be",
      "value": " 10/10 [00:10&lt;00:00,  1.04it/s]"
     }
    },
    "db0edddf6b5043109a0c84543938977b": {
     "model_module": "@jupyter-widgets/controls",
     "model_module_version": "1.5.0",
     "model_name": "HTMLModel",
     "state": {
      "_dom_classes": [],
      "_model_module": "@jupyter-widgets/controls",
      "_model_module_version": "1.5.0",
      "_model_name": "HTMLModel",
      "_view_count": null,
      "_view_module": "@jupyter-widgets/controls",
      "_view_module_version": "1.5.0",
      "_view_name": "HTMLView",
      "description": "",
      "description_tooltip": null,
      "layout": "IPY_MODEL_749102b903b34c9aba21e4fa01dd4d3a",
      "placeholder": "​",
      "style": "IPY_MODEL_f569f2b1cadb48a6a61a7dfdd74f9979",
      "value": "Downloading: 100%"
     }
    },
    "dcd42ee6cac947d9b6efabe937da3a8a": {
     "model_module": "@jupyter-widgets/base",
     "model_module_version": "1.2.0",
     "model_name": "LayoutModel",
     "state": {
      "_model_module": "@jupyter-widgets/base",
      "_model_module_version": "1.2.0",
      "_model_name": "LayoutModel",
      "_view_count": null,
      "_view_module": "@jupyter-widgets/base",
      "_view_module_version": "1.2.0",
      "_view_name": "LayoutView",
      "align_content": null,
      "align_items": null,
      "align_self": null,
      "border": null,
      "bottom": null,
      "display": null,
      "flex": null,
      "flex_flow": null,
      "grid_area": null,
      "grid_auto_columns": null,
      "grid_auto_flow": null,
      "grid_auto_rows": null,
      "grid_column": null,
      "grid_gap": null,
      "grid_row": null,
      "grid_template_areas": null,
      "grid_template_columns": null,
      "grid_template_rows": null,
      "height": null,
      "justify_content": null,
      "justify_items": null,
      "left": null,
      "margin": null,
      "max_height": null,
      "max_width": null,
      "min_height": null,
      "min_width": null,
      "object_fit": null,
      "object_position": null,
      "order": null,
      "overflow": null,
      "overflow_x": null,
      "overflow_y": null,
      "padding": null,
      "right": null,
      "top": null,
      "visibility": null,
      "width": null
     }
    },
    "dcef13b2f3654630a5de619a17196256": {
     "model_module": "@jupyter-widgets/controls",
     "model_module_version": "1.5.0",
     "model_name": "HTMLModel",
     "state": {
      "_dom_classes": [],
      "_model_module": "@jupyter-widgets/controls",
      "_model_module_version": "1.5.0",
      "_model_name": "HTMLModel",
      "_view_count": null,
      "_view_module": "@jupyter-widgets/controls",
      "_view_module_version": "1.5.0",
      "_view_name": "HTMLView",
      "description": "",
      "description_tooltip": null,
      "layout": "IPY_MODEL_a4104ce7db6a419daeba062c68d6c8d4",
      "placeholder": "​",
      "style": "IPY_MODEL_266ea7989dfe458b9afab2bf782a8b0a",
      "value": " 116/116 [00:00&lt;00:00, 1.58kB/s]"
     }
    },
    "ddc4323514904dd0a131457d38a16af3": {
     "model_module": "@jupyter-widgets/controls",
     "model_module_version": "1.5.0",
     "model_name": "HTMLModel",
     "state": {
      "_dom_classes": [],
      "_model_module": "@jupyter-widgets/controls",
      "_model_module_version": "1.5.0",
      "_model_name": "HTMLModel",
      "_view_count": null,
      "_view_module": "@jupyter-widgets/controls",
      "_view_module_version": "1.5.0",
      "_view_name": "HTMLView",
      "description": "",
      "description_tooltip": null,
      "layout": "IPY_MODEL_65d1f57f4c3c409abde8820c5a90f25c",
      "placeholder": "​",
      "style": "IPY_MODEL_274ffc7f401045d589ad6860087ef216",
      "value": "Downloading: 100%"
     }
    },
    "de7341badc964ff3b4e4576a2853a298": {
     "model_module": "@jupyter-widgets/base",
     "model_module_version": "1.2.0",
     "model_name": "LayoutModel",
     "state": {
      "_model_module": "@jupyter-widgets/base",
      "_model_module_version": "1.2.0",
      "_model_name": "LayoutModel",
      "_view_count": null,
      "_view_module": "@jupyter-widgets/base",
      "_view_module_version": "1.2.0",
      "_view_name": "LayoutView",
      "align_content": null,
      "align_items": null,
      "align_self": null,
      "border": null,
      "bottom": null,
      "display": null,
      "flex": null,
      "flex_flow": null,
      "grid_area": null,
      "grid_auto_columns": null,
      "grid_auto_flow": null,
      "grid_auto_rows": null,
      "grid_column": null,
      "grid_gap": null,
      "grid_row": null,
      "grid_template_areas": null,
      "grid_template_columns": null,
      "grid_template_rows": null,
      "height": null,
      "justify_content": null,
      "justify_items": null,
      "left": null,
      "margin": null,
      "max_height": null,
      "max_width": null,
      "min_height": null,
      "min_width": null,
      "object_fit": null,
      "object_position": null,
      "order": null,
      "overflow": null,
      "overflow_x": null,
      "overflow_y": null,
      "padding": null,
      "right": null,
      "top": null,
      "visibility": null,
      "width": null
     }
    },
    "df5d0d187741497ea9f5b392e6f01ad2": {
     "model_module": "@jupyter-widgets/controls",
     "model_module_version": "1.5.0",
     "model_name": "HTMLModel",
     "state": {
      "_dom_classes": [],
      "_model_module": "@jupyter-widgets/controls",
      "_model_module_version": "1.5.0",
      "_model_name": "HTMLModel",
      "_view_count": null,
      "_view_module": "@jupyter-widgets/controls",
      "_view_module_version": "1.5.0",
      "_view_name": "HTMLView",
      "description": "",
      "description_tooltip": null,
      "layout": "IPY_MODEL_3893ac34fbea44c2a53c5b51ce2d09f4",
      "placeholder": "​",
      "style": "IPY_MODEL_0379bf016f40476b9d42ae33aaacac67",
      "value": " 239/239 [00:00&lt;00:00, 5.17kB/s]"
     }
    },
    "e01f1f3c7e5942b98b88b9a63ed4740d": {
     "model_module": "@jupyter-widgets/controls",
     "model_module_version": "1.5.0",
     "model_name": "FloatProgressModel",
     "state": {
      "_dom_classes": [],
      "_model_module": "@jupyter-widgets/controls",
      "_model_module_version": "1.5.0",
      "_model_name": "FloatProgressModel",
      "_view_count": null,
      "_view_module": "@jupyter-widgets/controls",
      "_view_module_version": "1.5.0",
      "_view_name": "ProgressView",
      "bar_style": "success",
      "description": "",
      "description_tooltip": null,
      "layout": "IPY_MODEL_954068d30be44d10986d52f85f013019",
      "max": 13123,
      "min": 0,
      "orientation": "horizontal",
      "style": "IPY_MODEL_321505d7209c48289e8649f58e3fac51",
      "value": 13123
     }
    },
    "e1038583a1b747b285d4b84504b48bfb": {
     "model_module": "@jupyter-widgets/base",
     "model_module_version": "1.2.0",
     "model_name": "LayoutModel",
     "state": {
      "_model_module": "@jupyter-widgets/base",
      "_model_module_version": "1.2.0",
      "_model_name": "LayoutModel",
      "_view_count": null,
      "_view_module": "@jupyter-widgets/base",
      "_view_module_version": "1.2.0",
      "_view_name": "LayoutView",
      "align_content": null,
      "align_items": null,
      "align_self": null,
      "border": null,
      "bottom": null,
      "display": null,
      "flex": null,
      "flex_flow": null,
      "grid_area": null,
      "grid_auto_columns": null,
      "grid_auto_flow": null,
      "grid_auto_rows": null,
      "grid_column": null,
      "grid_gap": null,
      "grid_row": null,
      "grid_template_areas": null,
      "grid_template_columns": null,
      "grid_template_rows": null,
      "height": null,
      "justify_content": null,
      "justify_items": null,
      "left": null,
      "margin": null,
      "max_height": null,
      "max_width": null,
      "min_height": null,
      "min_width": null,
      "object_fit": null,
      "object_position": null,
      "order": null,
      "overflow": null,
      "overflow_x": null,
      "overflow_y": null,
      "padding": null,
      "right": null,
      "top": null,
      "visibility": null,
      "width": null
     }
    },
    "e17453b5dcfc4aa6b5f4c1c41664f74f": {
     "model_module": "@jupyter-widgets/controls",
     "model_module_version": "1.5.0",
     "model_name": "FloatProgressModel",
     "state": {
      "_dom_classes": [],
      "_model_module": "@jupyter-widgets/controls",
      "_model_module_version": "1.5.0",
      "_model_name": "FloatProgressModel",
      "_view_count": null,
      "_view_module": "@jupyter-widgets/controls",
      "_view_module_version": "1.5.0",
      "_view_name": "ProgressView",
      "bar_style": "success",
      "description": "",
      "description_tooltip": null,
      "layout": "IPY_MODEL_e1038583a1b747b285d4b84504b48bfb",
      "max": 116,
      "min": 0,
      "orientation": "horizontal",
      "style": "IPY_MODEL_f11dfb40104e433f8dd2dfe059844125",
      "value": 116
     }
    },
    "e1ee8a427f984fb6b37e6359b4bfcab6": {
     "model_module": "@jupyter-widgets/base",
     "model_module_version": "1.2.0",
     "model_name": "LayoutModel",
     "state": {
      "_model_module": "@jupyter-widgets/base",
      "_model_module_version": "1.2.0",
      "_model_name": "LayoutModel",
      "_view_count": null,
      "_view_module": "@jupyter-widgets/base",
      "_view_module_version": "1.2.0",
      "_view_name": "LayoutView",
      "align_content": null,
      "align_items": null,
      "align_self": null,
      "border": null,
      "bottom": null,
      "display": null,
      "flex": null,
      "flex_flow": null,
      "grid_area": null,
      "grid_auto_columns": null,
      "grid_auto_flow": null,
      "grid_auto_rows": null,
      "grid_column": null,
      "grid_gap": null,
      "grid_row": null,
      "grid_template_areas": null,
      "grid_template_columns": null,
      "grid_template_rows": null,
      "height": null,
      "justify_content": null,
      "justify_items": null,
      "left": null,
      "margin": null,
      "max_height": null,
      "max_width": null,
      "min_height": null,
      "min_width": null,
      "object_fit": null,
      "object_position": null,
      "order": null,
      "overflow": null,
      "overflow_x": null,
      "overflow_y": null,
      "padding": null,
      "right": null,
      "top": null,
      "visibility": null,
      "width": null
     }
    },
    "e266375184364d2aa178b2085dafa874": {
     "model_module": "@jupyter-widgets/controls",
     "model_module_version": "1.5.0",
     "model_name": "HBoxModel",
     "state": {
      "_dom_classes": [],
      "_model_module": "@jupyter-widgets/controls",
      "_model_module_version": "1.5.0",
      "_model_name": "HBoxModel",
      "_view_count": null,
      "_view_module": "@jupyter-widgets/controls",
      "_view_module_version": "1.5.0",
      "_view_name": "HBoxView",
      "box_style": "",
      "children": [
       "IPY_MODEL_305ff61a123f4a72870901735305ad1e",
       "IPY_MODEL_b0e4c2d1364d4f9e875fbecd863c50e3",
       "IPY_MODEL_0c821513011d4e8eaf70a04aa80df265"
      ],
      "layout": "IPY_MODEL_09962d2a2e974c6283e293eebd7d480c"
     }
    },
    "e2715c4433b34c66b2ac5aa8635ce9e2": {
     "model_module": "@jupyter-widgets/controls",
     "model_module_version": "1.5.0",
     "model_name": "ProgressStyleModel",
     "state": {
      "_model_module": "@jupyter-widgets/controls",
      "_model_module_version": "1.5.0",
      "_model_name": "ProgressStyleModel",
      "_view_count": null,
      "_view_module": "@jupyter-widgets/base",
      "_view_module_version": "1.2.0",
      "_view_name": "StyleView",
      "bar_color": null,
      "description_width": ""
     }
    },
    "e2b01ed342324ee4a7cb69910f31d5c9": {
     "model_module": "@jupyter-widgets/base",
     "model_module_version": "1.2.0",
     "model_name": "LayoutModel",
     "state": {
      "_model_module": "@jupyter-widgets/base",
      "_model_module_version": "1.2.0",
      "_model_name": "LayoutModel",
      "_view_count": null,
      "_view_module": "@jupyter-widgets/base",
      "_view_module_version": "1.2.0",
      "_view_name": "LayoutView",
      "align_content": null,
      "align_items": null,
      "align_self": null,
      "border": null,
      "bottom": null,
      "display": null,
      "flex": null,
      "flex_flow": null,
      "grid_area": null,
      "grid_auto_columns": null,
      "grid_auto_flow": null,
      "grid_auto_rows": null,
      "grid_column": null,
      "grid_gap": null,
      "grid_row": null,
      "grid_template_areas": null,
      "grid_template_columns": null,
      "grid_template_rows": null,
      "height": null,
      "justify_content": null,
      "justify_items": null,
      "left": null,
      "margin": null,
      "max_height": null,
      "max_width": null,
      "min_height": null,
      "min_width": null,
      "object_fit": null,
      "object_position": null,
      "order": null,
      "overflow": null,
      "overflow_x": null,
      "overflow_y": null,
      "padding": null,
      "right": null,
      "top": null,
      "visibility": null,
      "width": null
     }
    },
    "e332396b992d42dba7ddf1486c5913d7": {
     "model_module": "@jupyter-widgets/base",
     "model_module_version": "1.2.0",
     "model_name": "LayoutModel",
     "state": {
      "_model_module": "@jupyter-widgets/base",
      "_model_module_version": "1.2.0",
      "_model_name": "LayoutModel",
      "_view_count": null,
      "_view_module": "@jupyter-widgets/base",
      "_view_module_version": "1.2.0",
      "_view_name": "LayoutView",
      "align_content": null,
      "align_items": null,
      "align_self": null,
      "border": null,
      "bottom": null,
      "display": null,
      "flex": null,
      "flex_flow": null,
      "grid_area": null,
      "grid_auto_columns": null,
      "grid_auto_flow": null,
      "grid_auto_rows": null,
      "grid_column": null,
      "grid_gap": null,
      "grid_row": null,
      "grid_template_areas": null,
      "grid_template_columns": null,
      "grid_template_rows": null,
      "height": null,
      "justify_content": null,
      "justify_items": null,
      "left": null,
      "margin": null,
      "max_height": null,
      "max_width": null,
      "min_height": null,
      "min_width": null,
      "object_fit": null,
      "object_position": null,
      "order": null,
      "overflow": null,
      "overflow_x": null,
      "overflow_y": null,
      "padding": null,
      "right": null,
      "top": null,
      "visibility": null,
      "width": null
     }
    },
    "e3891688b69e4d66b5961899e7a717db": {
     "model_module": "@jupyter-widgets/controls",
     "model_module_version": "1.5.0",
     "model_name": "DescriptionStyleModel",
     "state": {
      "_model_module": "@jupyter-widgets/controls",
      "_model_module_version": "1.5.0",
      "_model_name": "DescriptionStyleModel",
      "_view_count": null,
      "_view_module": "@jupyter-widgets/base",
      "_view_module_version": "1.2.0",
      "_view_name": "StyleView",
      "description_width": ""
     }
    },
    "e4f13c448e504066bde5ab375cb57bd9": {
     "model_module": "@jupyter-widgets/controls",
     "model_module_version": "1.5.0",
     "model_name": "HBoxModel",
     "state": {
      "_dom_classes": [],
      "_model_module": "@jupyter-widgets/controls",
      "_model_module_version": "1.5.0",
      "_model_name": "HBoxModel",
      "_view_count": null,
      "_view_module": "@jupyter-widgets/controls",
      "_view_module_version": "1.5.0",
      "_view_name": "HBoxView",
      "box_style": "",
      "children": [
       "IPY_MODEL_716b4c3b312a442388ef56a1f1ce2232",
       "IPY_MODEL_55f79bf7633d4750ae67a54996fe17b7",
       "IPY_MODEL_4da53cc0076f4f879bf22057b0c8807f"
      ],
      "layout": "IPY_MODEL_0a27a07f356346b89f285778b8318a7f"
     }
    },
    "e6626fa45b6846e2bfe4b0c07d0c0833": {
     "model_module": "@jupyter-widgets/controls",
     "model_module_version": "1.5.0",
     "model_name": "HTMLModel",
     "state": {
      "_dom_classes": [],
      "_model_module": "@jupyter-widgets/controls",
      "_model_module_version": "1.5.0",
      "_model_name": "HTMLModel",
      "_view_count": null,
      "_view_module": "@jupyter-widgets/controls",
      "_view_module_version": "1.5.0",
      "_view_name": "HTMLView",
      "description": "",
      "description_tooltip": null,
      "layout": "IPY_MODEL_0fd2d1d7ab2442d491610dbbf4e754e5",
      "placeholder": "​",
      "style": "IPY_MODEL_6166376a57f64862853a4fb97cbc1375",
      "value": "Batches: 100%"
     }
    },
    "e723a669c1a04e9ea9081ab7c3702f7d": {
     "model_module": "@jupyter-widgets/base",
     "model_module_version": "1.2.0",
     "model_name": "LayoutModel",
     "state": {
      "_model_module": "@jupyter-widgets/base",
      "_model_module_version": "1.2.0",
      "_model_name": "LayoutModel",
      "_view_count": null,
      "_view_module": "@jupyter-widgets/base",
      "_view_module_version": "1.2.0",
      "_view_name": "LayoutView",
      "align_content": null,
      "align_items": null,
      "align_self": null,
      "border": null,
      "bottom": null,
      "display": null,
      "flex": null,
      "flex_flow": null,
      "grid_area": null,
      "grid_auto_columns": null,
      "grid_auto_flow": null,
      "grid_auto_rows": null,
      "grid_column": null,
      "grid_gap": null,
      "grid_row": null,
      "grid_template_areas": null,
      "grid_template_columns": null,
      "grid_template_rows": null,
      "height": null,
      "justify_content": null,
      "justify_items": null,
      "left": null,
      "margin": null,
      "max_height": null,
      "max_width": null,
      "min_height": null,
      "min_width": null,
      "object_fit": null,
      "object_position": null,
      "order": null,
      "overflow": null,
      "overflow_x": null,
      "overflow_y": null,
      "padding": null,
      "right": null,
      "top": null,
      "visibility": null,
      "width": null
     }
    },
    "e72c94a4a1a9481e9c81f8177a7a33e4": {
     "model_module": "@jupyter-widgets/base",
     "model_module_version": "1.2.0",
     "model_name": "LayoutModel",
     "state": {
      "_model_module": "@jupyter-widgets/base",
      "_model_module_version": "1.2.0",
      "_model_name": "LayoutModel",
      "_view_count": null,
      "_view_module": "@jupyter-widgets/base",
      "_view_module_version": "1.2.0",
      "_view_name": "LayoutView",
      "align_content": null,
      "align_items": null,
      "align_self": null,
      "border": null,
      "bottom": null,
      "display": null,
      "flex": null,
      "flex_flow": null,
      "grid_area": null,
      "grid_auto_columns": null,
      "grid_auto_flow": null,
      "grid_auto_rows": null,
      "grid_column": null,
      "grid_gap": null,
      "grid_row": null,
      "grid_template_areas": null,
      "grid_template_columns": null,
      "grid_template_rows": null,
      "height": null,
      "justify_content": null,
      "justify_items": null,
      "left": null,
      "margin": null,
      "max_height": null,
      "max_width": null,
      "min_height": null,
      "min_width": null,
      "object_fit": null,
      "object_position": null,
      "order": null,
      "overflow": null,
      "overflow_x": null,
      "overflow_y": null,
      "padding": null,
      "right": null,
      "top": null,
      "visibility": null,
      "width": null
     }
    },
    "e85a821c6a8e4fe5b53f1fccf7f1f4fa": {
     "model_module": "@jupyter-widgets/controls",
     "model_module_version": "1.5.0",
     "model_name": "HTMLModel",
     "state": {
      "_dom_classes": [],
      "_model_module": "@jupyter-widgets/controls",
      "_model_module_version": "1.5.0",
      "_model_name": "HTMLModel",
      "_view_count": null,
      "_view_module": "@jupyter-widgets/controls",
      "_view_module_version": "1.5.0",
      "_view_name": "HTMLView",
      "description": "",
      "description_tooltip": null,
      "layout": "IPY_MODEL_a5fcb52eeb254bbe8924aa8aa916cbd2",
      "placeholder": "​",
      "style": "IPY_MODEL_cf38bca4e71f4d8286cb3c288e422ff2",
      "value": "Downloading: 100%"
     }
    },
    "e955fa78269a420285313f787f1bea01": {
     "model_module": "@jupyter-widgets/base",
     "model_module_version": "1.2.0",
     "model_name": "LayoutModel",
     "state": {
      "_model_module": "@jupyter-widgets/base",
      "_model_module_version": "1.2.0",
      "_model_name": "LayoutModel",
      "_view_count": null,
      "_view_module": "@jupyter-widgets/base",
      "_view_module_version": "1.2.0",
      "_view_name": "LayoutView",
      "align_content": null,
      "align_items": null,
      "align_self": null,
      "border": null,
      "bottom": null,
      "display": null,
      "flex": null,
      "flex_flow": null,
      "grid_area": null,
      "grid_auto_columns": null,
      "grid_auto_flow": null,
      "grid_auto_rows": null,
      "grid_column": null,
      "grid_gap": null,
      "grid_row": null,
      "grid_template_areas": null,
      "grid_template_columns": null,
      "grid_template_rows": null,
      "height": null,
      "justify_content": null,
      "justify_items": null,
      "left": null,
      "margin": null,
      "max_height": null,
      "max_width": null,
      "min_height": null,
      "min_width": null,
      "object_fit": null,
      "object_position": null,
      "order": null,
      "overflow": null,
      "overflow_x": null,
      "overflow_y": null,
      "padding": null,
      "right": null,
      "top": null,
      "visibility": null,
      "width": null
     }
    },
    "e96e4d5f6f0f4a23a99eec4aa67602b0": {
     "model_module": "@jupyter-widgets/base",
     "model_module_version": "1.2.0",
     "model_name": "LayoutModel",
     "state": {
      "_model_module": "@jupyter-widgets/base",
      "_model_module_version": "1.2.0",
      "_model_name": "LayoutModel",
      "_view_count": null,
      "_view_module": "@jupyter-widgets/base",
      "_view_module_version": "1.2.0",
      "_view_name": "LayoutView",
      "align_content": null,
      "align_items": null,
      "align_self": null,
      "border": null,
      "bottom": null,
      "display": null,
      "flex": null,
      "flex_flow": null,
      "grid_area": null,
      "grid_auto_columns": null,
      "grid_auto_flow": null,
      "grid_auto_rows": null,
      "grid_column": null,
      "grid_gap": null,
      "grid_row": null,
      "grid_template_areas": null,
      "grid_template_columns": null,
      "grid_template_rows": null,
      "height": null,
      "justify_content": null,
      "justify_items": null,
      "left": null,
      "margin": null,
      "max_height": null,
      "max_width": null,
      "min_height": null,
      "min_width": null,
      "object_fit": null,
      "object_position": null,
      "order": null,
      "overflow": null,
      "overflow_x": null,
      "overflow_y": null,
      "padding": null,
      "right": null,
      "top": null,
      "visibility": null,
      "width": null
     }
    },
    "ecfae7817f244d299c22b1db0bf93fe5": {
     "model_module": "@jupyter-widgets/controls",
     "model_module_version": "1.5.0",
     "model_name": "HTMLModel",
     "state": {
      "_dom_classes": [],
      "_model_module": "@jupyter-widgets/controls",
      "_model_module_version": "1.5.0",
      "_model_name": "HTMLModel",
      "_view_count": null,
      "_view_module": "@jupyter-widgets/controls",
      "_view_module_version": "1.5.0",
      "_view_name": "HTMLView",
      "description": "",
      "description_tooltip": null,
      "layout": "IPY_MODEL_1ec557cc4b984ba4809f570a4709eeb7",
      "placeholder": "​",
      "style": "IPY_MODEL_bac2f69e7eba41658578d6eb8b971a85",
      "value": " 438M/438M [00:14&lt;00:00, 62.3MB/s]"
     }
    },
    "ed786229532e49199c57fe1e3c75a280": {
     "model_module": "@jupyter-widgets/base",
     "model_module_version": "1.2.0",
     "model_name": "LayoutModel",
     "state": {
      "_model_module": "@jupyter-widgets/base",
      "_model_module_version": "1.2.0",
      "_model_name": "LayoutModel",
      "_view_count": null,
      "_view_module": "@jupyter-widgets/base",
      "_view_module_version": "1.2.0",
      "_view_name": "LayoutView",
      "align_content": null,
      "align_items": null,
      "align_self": null,
      "border": null,
      "bottom": null,
      "display": null,
      "flex": null,
      "flex_flow": null,
      "grid_area": null,
      "grid_auto_columns": null,
      "grid_auto_flow": null,
      "grid_auto_rows": null,
      "grid_column": null,
      "grid_gap": null,
      "grid_row": null,
      "grid_template_areas": null,
      "grid_template_columns": null,
      "grid_template_rows": null,
      "height": null,
      "justify_content": null,
      "justify_items": null,
      "left": null,
      "margin": null,
      "max_height": null,
      "max_width": null,
      "min_height": null,
      "min_width": null,
      "object_fit": null,
      "object_position": null,
      "order": null,
      "overflow": null,
      "overflow_x": null,
      "overflow_y": null,
      "padding": null,
      "right": null,
      "top": null,
      "visibility": null,
      "width": null
     }
    },
    "ed853a1cccb14689ae71f87b4460f693": {
     "model_module": "@jupyter-widgets/controls",
     "model_module_version": "1.5.0",
     "model_name": "DescriptionStyleModel",
     "state": {
      "_model_module": "@jupyter-widgets/controls",
      "_model_module_version": "1.5.0",
      "_model_name": "DescriptionStyleModel",
      "_view_count": null,
      "_view_module": "@jupyter-widgets/base",
      "_view_module_version": "1.2.0",
      "_view_name": "StyleView",
      "description_width": ""
     }
    },
    "f11dfb40104e433f8dd2dfe059844125": {
     "model_module": "@jupyter-widgets/controls",
     "model_module_version": "1.5.0",
     "model_name": "ProgressStyleModel",
     "state": {
      "_model_module": "@jupyter-widgets/controls",
      "_model_module_version": "1.5.0",
      "_model_name": "ProgressStyleModel",
      "_view_count": null,
      "_view_module": "@jupyter-widgets/base",
      "_view_module_version": "1.2.0",
      "_view_name": "StyleView",
      "bar_color": null,
      "description_width": ""
     }
    },
    "f569f2b1cadb48a6a61a7dfdd74f9979": {
     "model_module": "@jupyter-widgets/controls",
     "model_module_version": "1.5.0",
     "model_name": "DescriptionStyleModel",
     "state": {
      "_model_module": "@jupyter-widgets/controls",
      "_model_module_version": "1.5.0",
      "_model_name": "DescriptionStyleModel",
      "_view_count": null,
      "_view_module": "@jupyter-widgets/base",
      "_view_module_version": "1.2.0",
      "_view_name": "StyleView",
      "description_width": ""
     }
    },
    "f6a59fc57df7488980072464c16379ff": {
     "model_module": "@jupyter-widgets/controls",
     "model_module_version": "1.5.0",
     "model_name": "HBoxModel",
     "state": {
      "_dom_classes": [],
      "_model_module": "@jupyter-widgets/controls",
      "_model_module_version": "1.5.0",
      "_model_name": "HBoxModel",
      "_view_count": null,
      "_view_module": "@jupyter-widgets/controls",
      "_view_module_version": "1.5.0",
      "_view_name": "HBoxView",
      "box_style": "",
      "children": [
       "IPY_MODEL_373707bb4ffe4264bf86a08a14199f03",
       "IPY_MODEL_fb10bc112b7b4e61b2b2efeeec7ce8e1",
       "IPY_MODEL_ecfae7817f244d299c22b1db0bf93fe5"
      ],
      "layout": "IPY_MODEL_b45ed529a58645b0a2eaf62b0700d28d"
     }
    },
    "fb10bc112b7b4e61b2b2efeeec7ce8e1": {
     "model_module": "@jupyter-widgets/controls",
     "model_module_version": "1.5.0",
     "model_name": "FloatProgressModel",
     "state": {
      "_dom_classes": [],
      "_model_module": "@jupyter-widgets/controls",
      "_model_module_version": "1.5.0",
      "_model_name": "FloatProgressModel",
      "_view_count": null,
      "_view_module": "@jupyter-widgets/controls",
      "_view_module_version": "1.5.0",
      "_view_name": "ProgressView",
      "bar_style": "success",
      "description": "",
      "description_tooltip": null,
      "layout": "IPY_MODEL_5cec8dcb66cd44edad0a5619d7be3a22",
      "max": 438011953,
      "min": 0,
      "orientation": "horizontal",
      "style": "IPY_MODEL_5fbb8108742d44febb37038398a8b66f",
      "value": 438011953
     }
    },
    "fb7e8e49f53b416590fb0bf4feecf97f": {
     "model_module": "@jupyter-widgets/base",
     "model_module_version": "1.2.0",
     "model_name": "LayoutModel",
     "state": {
      "_model_module": "@jupyter-widgets/base",
      "_model_module_version": "1.2.0",
      "_model_name": "LayoutModel",
      "_view_count": null,
      "_view_module": "@jupyter-widgets/base",
      "_view_module_version": "1.2.0",
      "_view_name": "LayoutView",
      "align_content": null,
      "align_items": null,
      "align_self": null,
      "border": null,
      "bottom": null,
      "display": null,
      "flex": null,
      "flex_flow": null,
      "grid_area": null,
      "grid_auto_columns": null,
      "grid_auto_flow": null,
      "grid_auto_rows": null,
      "grid_column": null,
      "grid_gap": null,
      "grid_row": null,
      "grid_template_areas": null,
      "grid_template_columns": null,
      "grid_template_rows": null,
      "height": null,
      "justify_content": null,
      "justify_items": null,
      "left": null,
      "margin": null,
      "max_height": null,
      "max_width": null,
      "min_height": null,
      "min_width": null,
      "object_fit": null,
      "object_position": null,
      "order": null,
      "overflow": null,
      "overflow_x": null,
      "overflow_y": null,
      "padding": null,
      "right": null,
      "top": null,
      "visibility": null,
      "width": null
     }
    },
    "ff85eb5d54744f6ba9b7b6573236d060": {
     "model_module": "@jupyter-widgets/controls",
     "model_module_version": "1.5.0",
     "model_name": "FloatProgressModel",
     "state": {
      "_dom_classes": [],
      "_model_module": "@jupyter-widgets/controls",
      "_model_module_version": "1.5.0",
      "_model_name": "FloatProgressModel",
      "_view_count": null,
      "_view_module": "@jupyter-widgets/controls",
      "_view_module_version": "1.5.0",
      "_view_name": "ProgressView",
      "bar_style": "success",
      "description": "",
      "description_tooltip": null,
      "layout": "IPY_MODEL_c1338efc854741a99b6fa529cfc42a5f",
      "max": 231536,
      "min": 0,
      "orientation": "horizontal",
      "style": "IPY_MODEL_73cbbb7a816d48608a0d7907d87e8a29",
      "value": 231536
     }
    }
   }
  }
 },
 "nbformat": 4,
 "nbformat_minor": 1
}
